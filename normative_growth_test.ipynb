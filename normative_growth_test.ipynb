{
 "cells": [
  {
   "cell_type": "code",
   "execution_count": 2,
   "id": "f42774db",
   "metadata": {},
   "outputs": [],
   "source": [
    "from src import processing, utils\n",
    "\n",
    "import os\n",
    "from glob import glob"
   ]
  },
  {
   "cell_type": "markdown",
   "id": "00774ae6",
   "metadata": {},
   "source": [
    "First I need to downsample the Jacobian images. Let's assume they've already been extracted and converted to MINC."
   ]
  },
  {
   "cell_type": "code",
   "execution_count": 3,
   "id": "b0a875ff",
   "metadata": {},
   "outputs": [],
   "source": [
    "# basedir = 'data/human/derivatives/POND_SickKids/'\n",
    "# isostep = 3.0\n",
    "# jacobians = ['absolute', 'relative']\n",
    "# for j, jac in enumerate(jacobians):\n",
    "\n",
    "#     print(\"Resampling {} Jacobians...\".format(jac))\n",
    "    \n",
    "#     #Input directory and input files\n",
    "#     imgdir = os.path.join(basedir, 'jacobians', jacobians[j], '')\n",
    "#     imgfiles = glob(imgdir+'*.mnc')\n",
    "\n",
    "#     #Output directory \n",
    "#     imgdir_3mm = os.path.join(basedir, 'jacobians_3mm', jacobians[j])\n",
    "\n",
    "#     #Resample images\n",
    "#     imgfiles_3mm = processing.resample_images(infiles = imgfiles,\n",
    "#                                               isostep = isostep,\n",
    "#                                               outdir = imgdir_3mm,\n",
    "#                                               parallel = True,\n",
    "#                                               nproc = 8)"
   ]
  },
  {
   "cell_type": "code",
   "execution_count": 8,
   "id": "a110fc76",
   "metadata": {},
   "outputs": [],
   "source": [
    "basedir = 'data/human/derivatives/POND_SickKids/'\n",
    "isostep = 3.0\n",
    "jacobians = ['absolute', 'relative']\n",
    "\n",
    "#Instead of for loop\n",
    "j = 0\n",
    "    \n",
    "#Input directory and input files\n",
    "imgdir = os.path.join(basedir, 'jacobians', jacobians[j], '')\n",
    "imgfiles = glob(imgdir+'*.mnc')\n",
    "\n",
    "#Output directory \n",
    "imgdir_3mm = os.path.join(basedir, 'jacobians_3mm', jacobians[j], '')\n",
    "\n",
    "# #Resample images\n",
    "# imgfiles_3mm = processing.resample_images(infiles = imgfiles,\n",
    "#                                           isostep = isostep,\n",
    "#                                           outdir = imgdir_3mm,\n",
    "#                                           parallel = True,\n",
    "#                                           nproc = 8)\n",
    "imgfiles_3mm = glob(imgdir_3mm+'*.mnc')"
   ]
  },
  {
   "cell_type": "markdown",
   "id": "aa7f22dd",
   "metadata": {},
   "source": [
    "Next step will be creating voxel matrices for the absolute and relative Jacobians. Once I have the matrices, I can import them into R and look at using the ComBat normalization."
   ]
  },
  {
   "cell_type": "code",
   "execution_count": 13,
   "id": "e27d7c96",
   "metadata": {},
   "outputs": [
    {
     "name": "stderr",
     "output_type": "stream",
     "text": [
      "100%|███████████████████████████████████████████████████████████████████████████████████████████████████████████████| 849/849 [00:24<00:00, 34.81it/s]\n"
     ]
    }
   ],
   "source": [
    "mask_3mm = 'data/human/registration/reference_files/mask_3.0mm.mnc'\n",
    "\n",
    "jacobians_matrix_csv = 'jacobians.csv'\n",
    "jacobians_matrix_csv = os.path.join(imgdir_3mm, jacobians_matrix_csv)\n",
    "\n",
    "df_jacobians = processing.build_voxel_matrix(infiles = imgfiles_3mm,\n",
    "                                            mask = mask_3mm,\n",
    "                                            sort = True,\n",
    "                                            file_col = True,\n",
    "                                            parallel = False,\n",
    "                                            nproc = 2)\n",
    "\n",
    "df_jacobians['file'] = [os.path.basename(file) for file in df_jacobians['file']]\n",
    "\n",
    "df_jacobians.to_csv(jacobians_matrix_csv, index = False)"
   ]
  },
  {
   "cell_type": "code",
   "execution_count": null,
   "id": "9e998933",
   "metadata": {},
   "outputs": [],
   "source": [
    "def calculate_human_effect_sizes():\n",
    "    \n",
    "    "
   ]
  }
 ],
 "metadata": {
  "kernelspec": {
   "display_name": "Python 3 (ipykernel)",
   "language": "python",
   "name": "python3"
  },
  "language_info": {
   "codemirror_mode": {
    "name": "ipython",
    "version": 3
   },
   "file_extension": ".py",
   "mimetype": "text/x-python",
   "name": "python",
   "nbconvert_exporter": "python",
   "pygments_lexer": "ipython3",
   "version": "3.8.10"
  }
 },
 "nbformat": 4,
 "nbformat_minor": 5
}
