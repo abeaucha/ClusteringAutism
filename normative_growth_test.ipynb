{
 "cells": [
  {
   "cell_type": "code",
   "execution_count": 1,
   "id": "a467eca0",
   "metadata": {},
   "outputs": [],
   "source": [
    "from src import processing, utils\n",
    "\n",
    "import os\n",
    "from glob import glob\n",
    "import tempfile\n",
    "from pyminc.volumes.factory import volumeFromFile, volumeLikeFile\n",
    "from tqdm                   import tqdm\n",
    "\n",
    "import multiprocessing      as mp\n"
   ]
  },
  {
   "cell_type": "code",
   "execution_count": 2,
   "id": "2181d8d8",
   "metadata": {},
   "outputs": [],
   "source": [
    "import subprocess\n",
    "import os\n",
    "import pandas as pd\n",
    "import numpy as np\n",
    "from warnings import warn\n",
    "from random import randint\n",
    "\n",
    "def execute_R(script, args):\n",
    "    \n",
    "    \"\"\"\n",
    "    Execute an R script.\n",
    "    \n",
    "    Arguments\n",
    "    ---------\n",
    "    script: str\n",
    "        String containing the name of the R script to execute.\n",
    "    args: dict\n",
    "        Dictionary of key-value pairs containing command line arguments to pass to the script\n",
    "    \n",
    "    Returns\n",
    "    -------\n",
    "    None\n",
    "    \"\"\"\n",
    "    \n",
    "    args = [['--'+str(key), str(val)] for key, val in args.items()]\n",
    "    args = sum(args, [])\n",
    "    cmd = ['Rscript']+[script]+args\n",
    "    subprocess.run(cmd)\n",
    "    return"
   ]
  },
  {
   "cell_type": "code",
   "execution_count": 47,
   "id": "78df3715",
   "metadata": {},
   "outputs": [],
   "source": [
    "def normative_growth_norm(voxels, demographics, outfile, key = 'file', df = 5, combat = False, combat_batch = None, parallel = False, nproc = None):\n",
    "    \n",
    "    \"\"\"\n",
    "    Calculate human effect sizes using normative growth modelling.\n",
    "    \n",
    "    Arguments\n",
    "    ---------\n",
    "    voxels: str\n",
    "        Path to the CSV file containing the voxelwise data.\n",
    "    demographics: str\n",
    "        Path to the CSV file containing the human demographics data.\n",
    "    outfile: str\n",
    "        Path to the CSV file in which to write the effect size data.\n",
    "    key: str\n",
    "        Primary key between voxels and demographics data.\n",
    "    df: int\n",
    "        Degrees of freedom to use in natural splines.\n",
    "    combat: bool\n",
    "        Option to run ComBat normalization on batch variables prior to normative growth modelling.\n",
    "    combat_batch: list\n",
    "        Variables to use in ComBat normalization.\n",
    "    parallel: bool\n",
    "        Option to run in parallel.\n",
    "    nproc: int\n",
    "        Number of processors to use in parallel.\n",
    "    \n",
    "    Returns\n",
    "    -------\n",
    "    \n",
    "    \"\"\"\n",
    "  \n",
    "    #Unpack function args into dictionary\n",
    "    script_args = locals().copy()\n",
    "  \n",
    "    #ComBat normalization options\n",
    "    if combat:\n",
    "        script_args['combat'] = 'true'\n",
    "        if combat_batch is None:\n",
    "            raise Exception(\"Argument combat_batch must be specified when combat is True\")\n",
    "        else:\n",
    "            if type(combat_batch) is str:\n",
    "                 combat_batch = [combat_batch]\n",
    "            script_args['combat_batch'] = '-'.join(combat_batch)\n",
    "            script_args['combat-batch'] = script_args.pop('combat_batch')\n",
    "    else:\n",
    "        script_args['combat'] = 'false'\n",
    "        del script_args['combat_batch']\n",
    "\n",
    "    #Parallel options\n",
    "    if parallel:\n",
    "        script_args['parallel'] = 'true'\n",
    "        if nproc is None:\n",
    "            raise ValueError(\"Set the nproc argument to specify the number of processors to use\")\n",
    "    else:\n",
    "        script_args['parallel'] = 'false'\n",
    "    \n",
    "    #Execute script\n",
    "    script = 'normative_growth_normalization.R'\n",
    "    execute_R(script = script, args = script_args)\n",
    "    return outfile"
   ]
  },
  {
   "cell_type": "code",
   "execution_count": 48,
   "id": "cc039114",
   "metadata": {},
   "outputs": [],
   "source": [
    "def propensity_matching_norm(imgdir, demographics, mask, outdir, ncontrols = 10, parallel = False, nproc = None):\n",
    "    \n",
    "    \"\"\"\n",
    "    Calculate human effect size images using propensity-matching.\n",
    "    \n",
    "    Arguments\n",
    "    ---------\n",
    "    imgdir: str\n",
    "        Path to the directory containing the MINC images to use to compute the effect sizes.\n",
    "    demographics: str\n",
    "        Path to the CSV file containing the human demographics data.\n",
    "    mask: str\n",
    "        Path to the mask MINC file for the images.\n",
    "    outdir: str\n",
    "        Path to the directory in which to save the effect size MINC images.\n",
    "    ncontrols: int\n",
    "        Number of propensity-matched controls to use when computing the effect sizes.\n",
    "    parallel: bool\n",
    "        Option to run in parallel.\n",
    "    nproc: int\n",
    "        Number of processors to use in parallel.\n",
    "    \n",
    "    Returns\n",
    "    -------\n",
    "    outfiles: list\n",
    "        List of paths to the effect size images.\n",
    "    \"\"\"\n",
    "    \n",
    "    #Unpack function args into dictionary\n",
    "    script_args = locals().copy()\n",
    "    \n",
    "    #Parallel options\n",
    "    if parallel:\n",
    "        script_args['parallel'] = 'true'\n",
    "        if nproc is None:\n",
    "            raise ValueError(\"Set the nproc argument to specify the number of processors to use\")\n",
    "    else:\n",
    "        script_args['parallel'] = 'false'\n",
    "\n",
    "    script = 'propensity_matching_normalization.R'\n",
    "    execute_R(script = script, args = script_args)\n",
    "    outfiles = [os.path.join(outdir, file) for file in os.listdir(outdir)]\n",
    "    return outfiles"
   ]
  },
  {
   "cell_type": "code",
   "execution_count": 63,
   "id": "bc27802b",
   "metadata": {},
   "outputs": [],
   "source": [
    "def vector_to_image(x, outfile, maskfile):\n",
    "    \n",
    "    mask_vol = volumeFromFile(maskfile)\n",
    "    mask = np.array(mask_vol.data)\n",
    "    mask_vol.closeVolume()\n",
    "\n",
    "    img = np.zeros_like(mask.flatten())\n",
    "    img[(mask == 1).flatten()] = x\n",
    "    img = img.reshape(mask.shape)\n",
    "\n",
    "    img_vol = volumeLikeFile(likeFilename = maskfile,\n",
    "                             outputFilename = outfile,\n",
    "                             labels = False)\n",
    "    img_vol.data = img\n",
    "    img_vol.writeFile()\n",
    "    img_vol.closeVolume()\n",
    "    \n",
    "\n",
    "def matrix_to_images(x, outfiles, maskfile):\n",
    "\n",
    "    #Function to export image\n",
    "    exporter = lambda i : vector_to_image(x = x[i,], \n",
    "                                          outfile = outfiles[i], \n",
    "                                          maskfile = maskfile)\n",
    "    #Error checking\n",
    "    if type(x) is not np.ndarray:\n",
    "        raise ValueError(\"Argument x must have type numpy.ndarray.\")\n",
    "    else:\n",
    "        if len(x.shape) != 2:\n",
    "            raise Exception(\"Argument x must be a 2-dimensional NumPy array.\")\n",
    "    \n",
    "    if x.shape[0] != len(outfiles):\n",
    "        raise Exception(\"Number of rows in x must be equal to the number of entries in outfiles\")\n",
    "    \n",
    "    #Iterate over number of files\n",
    "    irange = range(len(outfiles))\n",
    "    out = list(map(exporter, tqdm(irange)))\n",
    "        \n",
    "    return outfiles"
   ]
  },
  {
   "cell_type": "code",
   "execution_count": 64,
   "id": "01f948f5",
   "metadata": {},
   "outputs": [],
   "source": [
    "# basedir = 'data/human/derivatives/POND_SickKids/'\n",
    "# isostep = 3.0\n",
    "# jacobians = ['absolute', 'relative']\n",
    "# for j, jac in enumerate(jacobians):\n",
    "\n",
    "#     print(\"Resampling {} Jacobians...\".format(jac))\n",
    "    \n",
    "#     #Input directory and input files\n",
    "#     imgdir = os.path.join(basedir, 'jacobians', jacobians[j], '')\n",
    "#     imgfiles = glob(imgdir+'*.mnc')\n",
    "\n",
    "#     #Output directory \n",
    "#     imgdir_3mm = os.path.join(basedir, 'jacobians_3mm', jacobians[j])\n",
    "\n",
    "#     #Resample images\n",
    "#     imgfiles_3mm = processing.resample_images(infiles = imgfiles,\n",
    "#                                               isostep = isostep,\n",
    "#                                               outdir = imgdir_3mm,\n",
    "#                                               parallel = True,\n",
    "#                                               nproc = 8)"
   ]
  },
  {
   "cell_type": "code",
   "execution_count": 65,
   "id": "3d65bba1",
   "metadata": {},
   "outputs": [],
   "source": [
    "basedir = 'data/human/derivatives/POND_SickKids/'\n",
    "isostep = 3.0\n",
    "jacobians = ['absolute', 'relative']\n",
    "\n",
    "#Instead of for loop\n",
    "j = 0\n",
    "    \n",
    "#Input directory and input files\n",
    "imgdir = os.path.join(basedir, 'jacobians', jacobians[j], '')\n",
    "imgfiles = glob(imgdir+'*.mnc')\n",
    "\n",
    "#Output directory \n",
    "imgdir_3mm = os.path.join(basedir, 'jacobians_3mm', jacobians[j], '')\n",
    "\n",
    "# #Resample images\n",
    "# imgfiles_3mm = processing.resample_images(infiles = imgfiles,\n",
    "#                                           isostep = isostep,\n",
    "#                                           outdir = imgdir_3mm,\n",
    "#                                           parallel = True,\n",
    "#                                           nproc = 8)\n",
    "imgfiles_3mm = glob(imgdir_3mm+'*.mnc')"
   ]
  },
  {
   "cell_type": "markdown",
   "id": "cd60b91f",
   "metadata": {},
   "source": [
    "Next step will be creating voxel matrices for the absolute and relative Jacobians. Once I have the matrices, I can import them into R and look at using the ComBat normalization."
   ]
  },
  {
   "cell_type": "code",
   "execution_count": 77,
   "id": "a4d1b029",
   "metadata": {},
   "outputs": [],
   "source": [
    "def calculate_human_effect_sizes(imgdir, demographics, outdir, method, mask, parallel = False, nproc = None, **kwargs):\n",
    "    \n",
    "    \"\"\"\n",
    "    Calculate human effect size images.\n",
    "    \n",
    "    Arguments\n",
    "    ---------\n",
    "    imgdir: str\n",
    "        Path to the directory containing the MINC images to use to compute the effect sizes.\n",
    "    demographics: str\n",
    "        Path to the CSV file containing the human demographics data.\n",
    "    outdir: str\n",
    "        Path to the directory in which to save the effect size MINC images.\n",
    "    mask: str\n",
    "        Path to the mask MINC file for the images.\n",
    "    method: str\n",
    "        Method to use to compute effect sizes. \n",
    "    parallel: bool\n",
    "        Option to run in parallel.\n",
    "    nproc: int\n",
    "        Number of processors to use in parallel.\n",
    "        \n",
    "    Returns\n",
    "    -------\n",
    "    outfiles: list\n",
    "        List of paths to the effect size images.\n",
    "    \"\"\"\n",
    "    \n",
    "    imgdir = os.path.join(imgdir, '')\n",
    "    outdir = os.path.join(outdir, '')\n",
    "    if not os.path.exists(outdir):\n",
    "        os.makedirs(outdir)\n",
    "    \n",
    "    if method == \"propensity-matching\":\n",
    "        \n",
    "        kwargs.update({'imgdir':imgdir,\n",
    "                       'demographics':demographics,\n",
    "                       'mask':mask,\n",
    "                       'outdir':outdir,\n",
    "                       'parallel':parallel,\n",
    "                       'nproc':nproc})\n",
    "        outfiles = propensity_matching_norm(**kwargs)\n",
    "        \n",
    "    elif method == \"normative-growth\":\n",
    "        \n",
    "        print(\"Building voxel matrix...\")\n",
    "  \n",
    "        imgfiles = glob(imgdir+'*.mnc')\n",
    "        imgfiles = imgfiles[:50]\n",
    "        tmpfile = tempfile.mkstemp(dir = outdir, suffix = '.csv')[1]\n",
    "        df_voxels = processing.build_voxel_matrix(infiles = imgfiles,\n",
    "                                                  mask = mask,\n",
    "                                                  sort = True,\n",
    "                                                  file_col = True,\n",
    "                                                  parallel = parallel,\n",
    "                                                  nproc = nproc)\n",
    "        if 'key' in kwargs.keys():\n",
    "            key = kwargs['key']\n",
    "        else:\n",
    "            key = 'file'\n",
    "        df_voxels[key] = [os.path.basename(file) for file in df_voxels['file']]\n",
    "        \n",
    "        print(\"Writing out voxel matrix...\")\n",
    "        df_voxels.to_csv(tmpfile, index = False)\n",
    "        \n",
    "        \n",
    "        print(\"Executive normative growth...\")\n",
    "        outfile = tempfile.mkstemp(dir = outdir, suffix = '.csv')[1]\n",
    "        kwargs.update({'voxels':tmpfile,\n",
    "                       'demographics':demographics,\n",
    "                       'outfile':outfile,\n",
    "                       'parallel':parallel,\n",
    "                       'nproc':nproc})\n",
    "        outfile = normative_growth_norm(**kwargs)\n",
    "        \n",
    "        x = fread(outfile, header = True).to_pandas()\n",
    "        outfiles = x[key].to_list()\n",
    "        outfiles = [os.path.join(outdir, outfile) for outfile in outfiles]\n",
    "        x = x.drop(key, axis=1).to_numpy()\n",
    "        outfiles = matrix_to_images(x = x, \n",
    "                                    outfiles = outfiles,\n",
    "                                    maskfile = maskfile)\n",
    "        \n",
    "        os.remove(tmpfile)\n",
    "        os.remove(outfile)\n",
    "        \n",
    "    else:\n",
    "        raise ValueError(\"Argument method must be one of ['propensity-matching', 'normative-growth']: {}\".format(method))\n",
    "    \n",
    "    return outfiles\n",
    "    "
   ]
  },
  {
   "cell_type": "code",
   "execution_count": 78,
   "id": "524a928c",
   "metadata": {},
   "outputs": [],
   "source": [
    "imgdir = imgdir_3mm\n",
    "demographics = 'data/human/derivatives/POND_SickKids/DBM_input_demo_passedqc.csv'\n",
    "maskfile = 'data/human/registration/reference_files/mask_3.0mm.mnc'\n",
    "outdir = 'data/human/derivatives/POND_SickKids/effect_sizes/absolute/tmp/'\n",
    "parallel = False\n",
    "nproc = None"
   ]
  },
  {
   "cell_type": "code",
   "execution_count": 79,
   "id": "69566054",
   "metadata": {},
   "outputs": [
    {
     "name": "stdout",
     "output_type": "stream",
     "text": [
      "Building voxel matrix...\n"
     ]
    },
    {
     "name": "stderr",
     "output_type": "stream",
     "text": [
      "100%|██████████████████████████████████████████████████████████████████████████████████████████████████████████████████| 50/50 [00:00<00:00, 90.76it/s]\n"
     ]
    },
    {
     "name": "stdout",
     "output_type": "stream",
     "text": [
      "Writing out voxel matrix...\n",
      "Executive normative growth...\n"
     ]
    },
    {
     "name": "stderr",
     "output_type": "stream",
     "text": [
      "Warning message:\n",
      "no DISPLAY variable so Tk is not available \n"
     ]
    },
    {
     "name": "stdout",
     "output_type": "stream",
     "text": [
      "  |======================================================================| 100%\n"
     ]
    },
    {
     "name": "stderr",
     "output_type": "stream",
     "text": [
      "100%|██████████████████████████████████████████████████████████████████████████████████████████████████████████████████| 25/25 [00:00<00:00, 34.01it/s]\n"
     ]
    },
    {
     "data": {
      "text/plain": [
       "['data/human/derivatives/POND_SickKids/effect_sizes/absolute/tmp/d8_0004_01.extracted_fwhm_4vox.mnc',\n",
       " 'data/human/derivatives/POND_SickKids/effect_sizes/absolute/tmp/d8_0012_02.extracted_fwhm_4vox.mnc',\n",
       " 'data/human/derivatives/POND_SickKids/effect_sizes/absolute/tmp/d8_0028_03.extracted_fwhm_4vox.mnc',\n",
       " 'data/human/derivatives/POND_SickKids/effect_sizes/absolute/tmp/d8_0030_01.extracted_fwhm_4vox.mnc',\n",
       " 'data/human/derivatives/POND_SickKids/effect_sizes/absolute/tmp/d8_0032_02.extracted_fwhm_4vox.mnc',\n",
       " 'data/human/derivatives/POND_SickKids/effect_sizes/absolute/tmp/d8_0207_01.extracted_fwhm_4vox.mnc',\n",
       " 'data/human/derivatives/POND_SickKids/effect_sizes/absolute/tmp/d8_0233_01.extracted_fwhm_4vox.mnc',\n",
       " 'data/human/derivatives/POND_SickKids/effect_sizes/absolute/tmp/sub-0880114_ses-01_run-02_T1w.extracted_fwhm_4vox.mnc',\n",
       " 'data/human/derivatives/POND_SickKids/effect_sizes/absolute/tmp/sub-0880301_ses-01_run-02_T1w.extracted_fwhm_4vox.mnc',\n",
       " 'data/human/derivatives/POND_SickKids/effect_sizes/absolute/tmp/sub-0880481_ses-01_T1w.extracted_fwhm_4vox.mnc',\n",
       " 'data/human/derivatives/POND_SickKids/effect_sizes/absolute/tmp/sub-0880552_ses-01_T1w.extracted_fwhm_4vox.mnc',\n",
       " 'data/human/derivatives/POND_SickKids/effect_sizes/absolute/tmp/sub-0880605_ses-01_run-02_T1w.extracted_fwhm_4vox.mnc',\n",
       " 'data/human/derivatives/POND_SickKids/effect_sizes/absolute/tmp/sub-0880669_ses-01_T1w.extracted_fwhm_4vox.mnc',\n",
       " 'data/human/derivatives/POND_SickKids/effect_sizes/absolute/tmp/sub-0880956_ses-01_T1w.extracted_fwhm_4vox.mnc',\n",
       " 'data/human/derivatives/POND_SickKids/effect_sizes/absolute/tmp/sub-0881139_ses-01_run-01_T1w.extracted_fwhm_4vox.mnc',\n",
       " 'data/human/derivatives/POND_SickKids/effect_sizes/absolute/tmp/sub-0881147_ses-01_run-01_T1w.extracted_fwhm_4vox.mnc',\n",
       " 'data/human/derivatives/POND_SickKids/effect_sizes/absolute/tmp/sub-0881203_ses-01_T1w.extracted_fwhm_4vox.mnc',\n",
       " 'data/human/derivatives/POND_SickKids/effect_sizes/absolute/tmp/sub-1050141_ses-01_run-01_T1w.extracted_fwhm_4vox.mnc',\n",
       " 'data/human/derivatives/POND_SickKids/effect_sizes/absolute/tmp/sub-1050211_ses-01_T1w.extracted_fwhm_4vox.mnc',\n",
       " 'data/human/derivatives/POND_SickKids/effect_sizes/absolute/tmp/sub-1050398_ses-01_T1w.extracted_fwhm_4vox.mnc',\n",
       " 'data/human/derivatives/POND_SickKids/effect_sizes/absolute/tmp/sub-1050547_ses-01_T1w.extracted_fwhm_4vox.mnc',\n",
       " 'data/human/derivatives/POND_SickKids/effect_sizes/absolute/tmp/sub-1050697_ses-01_T1w.extracted_fwhm_4vox.mnc',\n",
       " 'data/human/derivatives/POND_SickKids/effect_sizes/absolute/tmp/sub-1050772_ses-01_T1w.extracted_fwhm_4vox.mnc',\n",
       " 'data/human/derivatives/POND_SickKids/effect_sizes/absolute/tmp/sub-1140398_ses-01_T1w.extracted_fwhm_4vox.mnc',\n",
       " 'data/human/derivatives/POND_SickKids/effect_sizes/absolute/tmp/sub-3940087_ses-01_T1w.extracted_fwhm_4vox.mnc']"
      ]
     },
     "execution_count": 79,
     "metadata": {},
     "output_type": "execute_result"
    }
   ],
   "source": [
    "calculate_human_effect_sizes(imgdir = imgdir,\n",
    "                            demographics = demographics,\n",
    "                            mask = maskfile,\n",
    "                            outdir = outdir,\n",
    "                            method = 'normative-growth',\n",
    "                            combat = False,\n",
    "                            combat_batch = ['Site', 'Scanner'],\n",
    "                            parallel = True,\n",
    "                            nproc = 8)"
   ]
  },
  {
   "cell_type": "markdown",
   "id": "5722db2b",
   "metadata": {},
   "source": [
    "Iterate over rows of data frame, need a mask. Put the voxel values into the mask locations. Write out. Will need to parallelize. "
   ]
  },
  {
   "cell_type": "code",
   "execution_count": 68,
   "id": "5fff5972",
   "metadata": {},
   "outputs": [],
   "source": [
    "from datatable import fread\n",
    "\n",
    "infile = os.path.join(outdir, 'out.csv')\n",
    "x = fread(infile, header = True).to_pandas()"
   ]
  },
  {
   "cell_type": "code",
   "execution_count": 69,
   "id": "8bcda8ec",
   "metadata": {},
   "outputs": [],
   "source": [
    "outfiles = x['file'].to_list()\n",
    "outfiles = [os.path.join(outdir, outfile) for outfile in outfiles]\n",
    "x = x.drop('file', axis=1).to_numpy()"
   ]
  },
  {
   "cell_type": "code",
   "execution_count": 70,
   "id": "d0385c61",
   "metadata": {},
   "outputs": [
    {
     "name": "stderr",
     "output_type": "stream",
     "text": [
      "100%|██████████████████████████████████████████████████████████████████████████████████████████████████████████████████| 25/25 [00:00<00:00, 34.96it/s]\n"
     ]
    },
    {
     "data": {
      "text/plain": [
       "['data/human/derivatives/POND_SickKids/effect_sizes/absolute/tmp/d8_0004_01.extracted_fwhm_4vox.mnc',\n",
       " 'data/human/derivatives/POND_SickKids/effect_sizes/absolute/tmp/d8_0012_02.extracted_fwhm_4vox.mnc',\n",
       " 'data/human/derivatives/POND_SickKids/effect_sizes/absolute/tmp/d8_0028_03.extracted_fwhm_4vox.mnc',\n",
       " 'data/human/derivatives/POND_SickKids/effect_sizes/absolute/tmp/d8_0030_01.extracted_fwhm_4vox.mnc',\n",
       " 'data/human/derivatives/POND_SickKids/effect_sizes/absolute/tmp/d8_0032_02.extracted_fwhm_4vox.mnc',\n",
       " 'data/human/derivatives/POND_SickKids/effect_sizes/absolute/tmp/d8_0207_01.extracted_fwhm_4vox.mnc',\n",
       " 'data/human/derivatives/POND_SickKids/effect_sizes/absolute/tmp/d8_0233_01.extracted_fwhm_4vox.mnc',\n",
       " 'data/human/derivatives/POND_SickKids/effect_sizes/absolute/tmp/sub-0880114_ses-01_run-02_T1w.extracted_fwhm_4vox.mnc',\n",
       " 'data/human/derivatives/POND_SickKids/effect_sizes/absolute/tmp/sub-0880301_ses-01_run-02_T1w.extracted_fwhm_4vox.mnc',\n",
       " 'data/human/derivatives/POND_SickKids/effect_sizes/absolute/tmp/sub-0880481_ses-01_T1w.extracted_fwhm_4vox.mnc',\n",
       " 'data/human/derivatives/POND_SickKids/effect_sizes/absolute/tmp/sub-0880552_ses-01_T1w.extracted_fwhm_4vox.mnc',\n",
       " 'data/human/derivatives/POND_SickKids/effect_sizes/absolute/tmp/sub-0880605_ses-01_run-02_T1w.extracted_fwhm_4vox.mnc',\n",
       " 'data/human/derivatives/POND_SickKids/effect_sizes/absolute/tmp/sub-0880669_ses-01_T1w.extracted_fwhm_4vox.mnc',\n",
       " 'data/human/derivatives/POND_SickKids/effect_sizes/absolute/tmp/sub-0880956_ses-01_T1w.extracted_fwhm_4vox.mnc',\n",
       " 'data/human/derivatives/POND_SickKids/effect_sizes/absolute/tmp/sub-0881139_ses-01_run-01_T1w.extracted_fwhm_4vox.mnc',\n",
       " 'data/human/derivatives/POND_SickKids/effect_sizes/absolute/tmp/sub-0881147_ses-01_run-01_T1w.extracted_fwhm_4vox.mnc',\n",
       " 'data/human/derivatives/POND_SickKids/effect_sizes/absolute/tmp/sub-0881203_ses-01_T1w.extracted_fwhm_4vox.mnc',\n",
       " 'data/human/derivatives/POND_SickKids/effect_sizes/absolute/tmp/sub-1050141_ses-01_run-01_T1w.extracted_fwhm_4vox.mnc',\n",
       " 'data/human/derivatives/POND_SickKids/effect_sizes/absolute/tmp/sub-1050211_ses-01_T1w.extracted_fwhm_4vox.mnc',\n",
       " 'data/human/derivatives/POND_SickKids/effect_sizes/absolute/tmp/sub-1050398_ses-01_T1w.extracted_fwhm_4vox.mnc',\n",
       " 'data/human/derivatives/POND_SickKids/effect_sizes/absolute/tmp/sub-1050547_ses-01_T1w.extracted_fwhm_4vox.mnc',\n",
       " 'data/human/derivatives/POND_SickKids/effect_sizes/absolute/tmp/sub-1050697_ses-01_T1w.extracted_fwhm_4vox.mnc',\n",
       " 'data/human/derivatives/POND_SickKids/effect_sizes/absolute/tmp/sub-1050772_ses-01_T1w.extracted_fwhm_4vox.mnc',\n",
       " 'data/human/derivatives/POND_SickKids/effect_sizes/absolute/tmp/sub-1140398_ses-01_T1w.extracted_fwhm_4vox.mnc',\n",
       " 'data/human/derivatives/POND_SickKids/effect_sizes/absolute/tmp/sub-3940087_ses-01_T1w.extracted_fwhm_4vox.mnc']"
      ]
     },
     "execution_count": 70,
     "metadata": {},
     "output_type": "execute_result"
    }
   ],
   "source": [
    "matrix_to_images(x = x, outfiles = outfiles, maskfile = maskfile)"
   ]
  },
  {
   "cell_type": "code",
   "execution_count": 125,
   "id": "d600524e",
   "metadata": {},
   "outputs": [
    {
     "data": {
      "text/plain": [
       "array([ 0.04186072,  0.05802296, -0.06054713, ...,  0.48946384,\n",
       "        0.2535964 ,  0.4802016 ])"
      ]
     },
     "execution_count": 125,
     "metadata": {},
     "output_type": "execute_result"
    }
   ],
   "source": [
    "np.array(mat_voxels[0,])"
   ]
  }
 ],
 "metadata": {
  "kernelspec": {
   "display_name": "Python 3 (ipykernel)",
   "language": "python",
   "name": "python3"
  },
  "language_info": {
   "codemirror_mode": {
    "name": "ipython",
    "version": 3
   },
   "file_extension": ".py",
   "mimetype": "text/x-python",
   "name": "python",
   "nbconvert_exporter": "python",
   "pygments_lexer": "ipython3",
   "version": "3.8.10"
  }
 },
 "nbformat": 4,
 "nbformat_minor": 5
}
