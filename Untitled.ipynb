{
 "cells": [
  {
   "cell_type": "code",
   "execution_count": 51,
   "id": "1df931ea",
   "metadata": {},
   "outputs": [],
   "source": [
    "import numpy as np\n",
    "from pyminc.volumes.factory import *"
   ]
  },
  {
   "cell_type": "code",
   "execution_count": 56,
   "id": "1b4b0355",
   "metadata": {},
   "outputs": [],
   "source": [
    "infile = \"Group_1_Clusternum_2_ES_abs_200_mean.mnc\"\n",
    "\n",
    "atlasVol = volumeLikeFile(likeFilename = infile, \n",
    "                          outputFilename='temp.mnc',\n",
    "                          labels=True)\n",
    "\n",
    "\n",
    "\n",
    "vol = volumeFromFile(\"Group_1_Clusternum_2_ES_abs_200_mean.mnc\")\n",
    "\n",
    "threshold = 0.5\n",
    "atlasVol.data[np.abs(vol.data) > threshold] = 1\n",
    "\n",
    "atlasVol.writeFile()\n",
    "atlasVol.closeVolume()\n",
    "\n",
    "\n",
    "# mask = np.zeros_like(atlasVol.data).astype('int')\n",
    "# vol_flat = np.array(vol.data.flatten())\n",
    "\n",
    "# vol_temp = np.array(vol.data)\n",
    "\n"
   ]
  },
  {
   "cell_type": "code",
   "execution_count": 24,
   "id": "932923b3",
   "metadata": {},
   "outputs": [
    {
     "data": {
      "text/plain": [
       "array([False, False, False, ..., False, False, False])"
      ]
     },
     "execution_count": 24,
     "metadata": {},
     "output_type": "execute_result"
    }
   ],
   "source": [
    "threshold = 0.2\n",
    "\n",
    "threshold_mask = np.ones_like()\n",
    "\n",
    "threshold_mask = np.abs(vol_flat) >= threshold\n",
    "\n",
    "\n",
    "threshold_mask\n"
   ]
  },
  {
   "cell_type": "code",
   "execution_count": 13,
   "id": "3911572c",
   "metadata": {},
   "outputs": [
    {
     "data": {
      "text/plain": [
       "\n",
       "        array(data=\n",
       "              [-7.7827108e-06 -7.7827108e-06 -7.7827108e-06 ... -7.7827108e-06\n",
       " -7.7827108e-06 -7.7827108e-06],\n",
       "        start=[0 0 0], count=[41 67 58],\n",
       "        separations=[0.2, 0.2, 0.2], dimnames=[]"
      ]
     },
     "execution_count": 13,
     "metadata": {},
     "output_type": "execute_result"
    }
   ],
   "source": [
    "temp.data[temp.data != 0]"
   ]
  },
  {
   "cell_type": "code",
   "execution_count": 6,
   "id": "edc208eb",
   "metadata": {},
   "outputs": [],
   "source": [
    "newvol = volumeLikeFile(\"Group_1_Clusternum_2_ES_abs_200_mean.mnc\",\n",
    "                       outputFilename='temp.mnc',\n",
    "                       labels = True)\n",
    "\n"
   ]
  }
 ],
 "metadata": {
  "kernelspec": {
   "display_name": "Python 3 (ipykernel)",
   "language": "python",
   "name": "python3"
  },
  "language_info": {
   "codemirror_mode": {
    "name": "ipython",
    "version": 3
   },
   "file_extension": ".py",
   "mimetype": "text/x-python",
   "name": "python",
   "nbconvert_exporter": "python",
   "pygments_lexer": "ipython3",
   "version": "3.8.10"
  }
 },
 "nbformat": 4,
 "nbformat_minor": 5
}
