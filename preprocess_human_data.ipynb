{
 "cells": [
  {
   "cell_type": "code",
   "execution_count": 39,
   "id": "ee38bce8",
   "metadata": {},
   "outputs": [],
   "source": [
    "import os\n",
    "# from glob import glob\n",
    "from src import processing"
   ]
  },
  {
   "cell_type": "code",
   "execution_count": 40,
   "id": "b48ba8a1",
   "metadata": {},
   "outputs": [],
   "source": [
    "basedir = 'data/human/registration/jacobians/'\n",
    "jacobians = ['absolute', 'relative']"
   ]
  },
  {
   "cell_type": "code",
   "execution_count": 41,
   "id": "7031f339",
   "metadata": {},
   "outputs": [
    {
     "name": "stdout",
     "output_type": "stream",
     "text": [
      "data/human/registration/jacobians/absolute/smooth/\n",
      "data/human/registration/jacobians/absolute/smooth_minc/\n",
      "data/human/registration/jacobians/relative/smooth/\n",
      "data/human/registration/jacobians/relative/smooth_minc/\n"
     ]
    }
   ],
   "source": [
    "for jac in jacobians:\n",
    "\n",
    "    input_dir = os.path.join(basedir, jac, 'smooth', '')\n",
    "    output_dir = os.path.join(basedir, jac, 'smooth_minc', '')\n",
    "\n",
    "    input_files = [os.path.join(indir, infile) \n",
    "                   for infile in os.listdir(indir) \n",
    "                   if '.gz' in infile]\n",
    "\n",
    "    # unzipped_files = processing.gunzip_files(infiles = input_files,\n",
    "    #                                         keep = True,\n",
    "    #                                         parallel = True,\n",
    "    #                                         nproc = 8)\n",
    "\n",
    "\n",
    "    # img_files = processing.convert_images(infiles = unzipped_files,\n",
    "    #                                      input_format = 'nifty',\n",
    "    #                                      output_format = 'minc',\n",
    "    #                                       outdir = output_dir,\n",
    "    #                                       keep = True,\n",
    "    #                                       parallel = True,\n",
    "    #                                       nproc = 8)\n",
    "\n",
    "\n",
    "    print(input_dir)\n",
    "    print(output_dir)"
   ]
  },
  {
   "cell_type": "code",
   "execution_count": null,
   "id": "2784b3c4",
   "metadata": {},
   "outputs": [],
   "source": []
  }
 ],
 "metadata": {
  "kernelspec": {
   "display_name": "Python 3 (ipykernel)",
   "language": "python",
   "name": "python3"
  },
  "language_info": {
   "codemirror_mode": {
    "name": "ipython",
    "version": 3
   },
   "file_extension": ".py",
   "mimetype": "text/x-python",
   "name": "python",
   "nbconvert_exporter": "python",
   "pygments_lexer": "ipython3",
   "version": "3.8.10"
  }
 },
 "nbformat": 4,
 "nbformat_minor": 5
}
