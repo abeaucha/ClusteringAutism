{
 "cells": [
  {
   "cell_type": "code",
   "execution_count": 1,
   "id": "4eb9a5c3",
   "metadata": {},
   "outputs": [
    {
     "data": {
      "text/html": [
       "<style type='text/css'>\n",
       ".datatable table.frame { margin-bottom: 0; }\n",
       ".datatable table.frame thead { border-bottom: none; }\n",
       ".datatable table.frame tr.coltypes td {  color: #FFFFFF;  line-height: 6px;  padding: 0 0.5em;}\n",
       ".datatable .bool    { background: #DDDD99; }\n",
       ".datatable .object  { background: #565656; }\n",
       ".datatable .int     { background: #5D9E5D; }\n",
       ".datatable .float   { background: #4040CC; }\n",
       ".datatable .str     { background: #CC4040; }\n",
       ".datatable .time    { background: #40CC40; }\n",
       ".datatable .row_index {  background: var(--jp-border-color3);  border-right: 1px solid var(--jp-border-color0);  color: var(--jp-ui-font-color3);  font-size: 9px;}\n",
       ".datatable .frame tbody td { text-align: left; }\n",
       ".datatable .frame tr.coltypes .row_index {  background: var(--jp-border-color0);}\n",
       ".datatable th:nth-child(2) { padding-left: 12px; }\n",
       ".datatable .hellipsis {  color: var(--jp-cell-editor-border-color);}\n",
       ".datatable .vellipsis {  background: var(--jp-layout-color0);  color: var(--jp-cell-editor-border-color);}\n",
       ".datatable .na {  color: var(--jp-cell-editor-border-color);  font-size: 80%;}\n",
       ".datatable .sp {  opacity: 0.25;}\n",
       ".datatable .footer { font-size: 9px; }\n",
       ".datatable .frame_dimensions {  background: var(--jp-border-color3);  border-top: 1px solid var(--jp-border-color0);  color: var(--jp-ui-font-color3);  display: inline-block;  opacity: 0.6;  padding: 1px 10px 1px 5px;}\n",
       "</style>\n"
      ],
      "text/plain": [
       "<IPython.core.display.HTML object>"
      ]
     },
     "metadata": {},
     "output_type": "display_data"
    }
   ],
   "source": [
    "from src import processing, utils\n",
    "\n",
    "import os\n",
    "import numpy as np\n",
    "import pandas as pd\n",
    "from   glob  import glob\n",
    "from   re    import sub"
   ]
  },
  {
   "cell_type": "markdown",
   "id": "1f2c79b8",
   "metadata": {},
   "source": [
    "---\n",
    "\n",
    "# Specify which cohorts to use"
   ]
  },
  {
   "cell_type": "code",
   "execution_count": 6,
   "id": "f8576e96",
   "metadata": {},
   "outputs": [
    {
     "data": {
      "text/plain": [
       "'data/human/derivatives/POND_SickKids'"
      ]
     },
     "execution_count": 6,
     "metadata": {},
     "output_type": "execute_result"
    }
   ],
   "source": [
    "#Create directory to save data subset derivatives\n",
    "human_basedir = 'data/human/derivatives'\n",
    "datasets = ['POND', 'SickKids']    \n",
    "human_basedir = utils.mkdir_from_list(inlist = datasets,\n",
    "                                      basedir = human_basedir)\n",
    "human_basedir"
   ]
  },
  {
   "cell_type": "markdown",
   "id": "790a98d3",
   "metadata": {},
   "source": [
    "## Filter demographics for cohorts of interest"
   ]
  },
  {
   "cell_type": "code",
   "execution_count": 7,
   "id": "80c4419d",
   "metadata": {},
   "outputs": [],
   "source": [
    "#Path to the demographics file \n",
    "demographics = 'data/human/registration/DBM_input_demo_passedqc.csv'\n",
    "\n",
    "#Import demographics\n",
    "df_demographics = pd.read_csv(demographics)\n",
    "\n",
    "#Filter individuals for data subset\n",
    "df_demographics = (df_demographics\n",
    "                   .loc[df_demographics['Dataset'].isin(datasets)]\n",
    "                   .copy())\n",
    "\n",
    "#Create a new column for patient image files\n",
    "df_demographics['file'] = (df_demographics['Extract_ID']\n",
    "                           .str.replace('.mnc', \n",
    "                                        '_fwhm_4vox.mnc', \n",
    "                                        regex = True))\n",
    "\n",
    "#Write out demographics subset to subset directory\n",
    "demographics = os.path.join(human_basedir, os.path.basename(demographics))\n",
    "df_demographics.to_csv(demographics, index = False)"
   ]
  },
  {
   "cell_type": "markdown",
   "id": "7ce15b40",
   "metadata": {},
   "source": [
    "## Create symlinks to absolute jacobian images"
   ]
  },
  {
   "cell_type": "code",
   "execution_count": 8,
   "id": "c9fc8201",
   "metadata": {},
   "outputs": [
    {
     "data": {
      "text/plain": [
       "['data/human/registration/jacobians/absolute/smooth_minc/sub-1050004_ses-01_T1w.extracted_fwhm_4vox.mnc',\n",
       " 'data/human/registration/jacobians/absolute/smooth_minc/sub-1050027_ses-01_run-03_T1w.extracted_fwhm_4vox.mnc',\n",
       " 'data/human/registration/jacobians/absolute/smooth_minc/sub-1050032_ses-01_T1w.extracted_fwhm_4vox.mnc',\n",
       " 'data/human/registration/jacobians/absolute/smooth_minc/sub-1050039_ses-01_T1w.extracted_fwhm_4vox.mnc',\n",
       " 'data/human/registration/jacobians/absolute/smooth_minc/sub-1050040_ses-01_T1w.extracted_fwhm_4vox.mnc']"
      ]
     },
     "execution_count": 8,
     "metadata": {},
     "output_type": "execute_result"
    }
   ],
   "source": [
    "#Create output directory for absolute jacobian images\n",
    "imgdir_abs = os.path.join(human_basedir, 'jacobians', 'resolution_0.5', 'absolute', '')\n",
    "\n",
    "#Get image file names\n",
    "imgfiles_abs_dataset = df_demographics['file'].to_list()\n",
    "\n",
    "#Get image paths for images in the subset\n",
    "imgfiles_abs_dataset = [[f for f in imgfiles_abs if g in f][0] \n",
    "                        for g in imgfiles_abs_dataset]\n",
    "\n",
    "\n",
    "#Create symbolic links for subset images to the subset directory\n",
    "imgfiles_abs = utils.mk_symlinks(src = imgfiles_abs_dataset,\n",
    "                        dst = outdir_abs)\n",
    "imgfiles_abs[:5]"
   ]
  },
  {
   "cell_type": "markdown",
   "id": "ce498a33",
   "metadata": {},
   "source": [
    "## Create symlinks to relative jacobian images"
   ]
  },
  {
   "cell_type": "code",
   "execution_count": 9,
   "id": "31c9a15d",
   "metadata": {},
   "outputs": [
    {
     "data": {
      "text/plain": [
       "['data/human/derivatives/POND_SickKids/jacobians/resolution_0.5/relative/sub-1050004_ses-01_T1w.extracted_fwhm_4vox.mnc',\n",
       " 'data/human/derivatives/POND_SickKids/jacobians/resolution_0.5/relative/sub-1050027_ses-01_run-03_T1w.extracted_fwhm_4vox.mnc',\n",
       " 'data/human/derivatives/POND_SickKids/jacobians/resolution_0.5/relative/sub-1050032_ses-01_T1w.extracted_fwhm_4vox.mnc',\n",
       " 'data/human/derivatives/POND_SickKids/jacobians/resolution_0.5/relative/sub-1050039_ses-01_T1w.extracted_fwhm_4vox.mnc',\n",
       " 'data/human/derivatives/POND_SickKids/jacobians/resolution_0.5/relative/sub-1050040_ses-01_T1w.extracted_fwhm_4vox.mnc']"
      ]
     },
     "execution_count": 9,
     "metadata": {},
     "output_type": "execute_result"
    }
   ],
   "source": [
    "#Create output directory for absolute jacobian images\n",
    "imgdir_rel = os.path.join(human_basedir, 'jacobians', 'resolution_0.5', 'relative', '')\n",
    "\n",
    "#Get image file names\n",
    "imgfiles_rel_dataset = df_demographics['file'].to_list()\n",
    "\n",
    "#Get image paths for images in the subset\n",
    "imgfiles_rel_dataset = [[f for f in imgfiles_rel if g in f][0] \n",
    "                        for g in imgfiles_rel_dataset]\n",
    "\n",
    "#Create symbolic links for subset images to the subset directory\n",
    "imgfiles_rel = utils.mk_symlinks(src = imgfiles_rel_dataset,\n",
    "                                 dst = imgdir_rel)\n",
    "imgfiles_rel[:5]"
   ]
  },
  {
   "cell_type": "markdown",
   "id": "e39d725c",
   "metadata": {},
   "source": [
    "---\n",
    "\n",
    "# Downsample jacobian images"
   ]
  },
  {
   "cell_type": "markdown",
   "id": "639d5166",
   "metadata": {},
   "source": [
    "## Downsampling absolute jacobian images to 3.0mm"
   ]
  },
  {
   "cell_type": "code",
   "execution_count": 10,
   "id": "5ecda0f5",
   "metadata": {},
   "outputs": [],
   "source": [
    "# Resolution (mm) to which we want to downsample\n",
    "isostep = 3.0"
   ]
  },
  {
   "cell_type": "code",
   "execution_count": 11,
   "id": "3553f0ad",
   "metadata": {},
   "outputs": [
    {
     "data": {
      "text/plain": [
       "['data/human/derivatives/POND_SickKids/jacobians/resolution_3.0/absolute/d8_0376_01.extracted_fwhm_4vox.mnc',\n",
       " 'data/human/derivatives/POND_SickKids/jacobians/resolution_3.0/absolute/d8_0141_01.extracted_fwhm_4vox.mnc',\n",
       " 'data/human/derivatives/POND_SickKids/jacobians/resolution_3.0/absolute/d8_0048_01.extracted_fwhm_4vox.mnc',\n",
       " 'data/human/derivatives/POND_SickKids/jacobians/resolution_3.0/absolute/d8_0080_01.extracted_fwhm_4vox.mnc',\n",
       " 'data/human/derivatives/POND_SickKids/jacobians/resolution_3.0/absolute/d8_0665_01.extracted_fwhm_4vox.mnc']"
      ]
     },
     "execution_count": 11,
     "metadata": {},
     "output_type": "execute_result"
    }
   ],
   "source": [
    "# Create a separate output directory for downsampled images\n",
    "imgdir_abs_3mm = sub(r'resolution_0.5',\n",
    "                    'resolution_{}'.format(isostep),\n",
    "                    imgdir_abs)\n",
    "\n",
    "# imgfiles_abs_3mm = processing.resample_images(infiles = imgfiles_abs,\n",
    "#                                               isostep = isostep,\n",
    "#                                               outdir = imgdir_abs_3mm,\n",
    "#                                               parallel = True,\n",
    "#                                               nproc = 8)\n",
    "\n",
    "imgfiles_abs_3mm = glob(imgdir_abs_3mm+'*.mnc')\n",
    "imgfiles_abs_3mm[:5]"
   ]
  },
  {
   "cell_type": "markdown",
   "id": "e34afb33",
   "metadata": {},
   "source": [
    "## Downsampling relative jacobian images to 3.0mm"
   ]
  },
  {
   "cell_type": "code",
   "execution_count": 12,
   "id": "8a69bff7",
   "metadata": {},
   "outputs": [
    {
     "data": {
      "text/plain": [
       "['data/human/derivatives/POND_SickKids/jacobians/resolution_3.0/relative/sub-3940216_ses-01_T1w.extracted_fwhm_4vox.mnc',\n",
       " 'data/human/derivatives/POND_SickKids/jacobians/resolution_3.0/relative/sub-1140430_ses-01_T1w.extracted_fwhm_4vox.mnc',\n",
       " 'data/human/derivatives/POND_SickKids/jacobians/resolution_3.0/relative/sub-0881063_ses-01_T1w.extracted_fwhm_4vox.mnc',\n",
       " 'data/human/derivatives/POND_SickKids/jacobians/resolution_3.0/relative/sub-1050698_ses-01_T1w.extracted_fwhm_4vox.mnc',\n",
       " 'data/human/derivatives/POND_SickKids/jacobians/resolution_3.0/relative/sub-0880494_ses-01_T1w.extracted_fwhm_4vox.mnc']"
      ]
     },
     "execution_count": 12,
     "metadata": {},
     "output_type": "execute_result"
    }
   ],
   "source": [
    "# Create a separate output directory for downsampled images\n",
    "imgdir_rel_3mm = sub(r'resolution_0.5',\n",
    "                    'resolution_{}'.format(isostep),\n",
    "                    imgdir_rel)\n",
    "\n",
    "# imgfiles_rel_3mm = processing.resample_images(infiles = imgfiles_rel,\n",
    "#                                               isostep = isostep,\n",
    "#                                               outdir = imgdir_rel_3mm,\n",
    "#                                               parallel = True,\n",
    "#                                               nproc = 12)\n",
    "\n",
    "imgfiles_rel_3mm = glob(imgdir_rel_3mm+'*.mnc')\n",
    "imgfiles_rel_3mm[:5]"
   ]
  },
  {
   "cell_type": "markdown",
   "id": "6d691f91",
   "metadata": {},
   "source": [
    "# Downsampling auxiliary imaging files"
   ]
  },
  {
   "cell_type": "code",
   "execution_count": 16,
   "id": "f4fed693",
   "metadata": {},
   "outputs": [],
   "source": [
    "# Path to the neuroanatomical template image\n",
    "model = 'data/human/registration/reference_files/model.mnc'\n",
    "\n",
    "# Path to the mask image\n",
    "mask = 'data/human/registration/reference_files/mask.mnc'\n",
    "\n",
    "# # Downsample the template to 3.0 mm\n",
    "# model_3mm = processing.resample_image(infile = model,\n",
    "#                                       isostep = 3.0,\n",
    "#                                       suffix = '_3.0mm')\n",
    "model_3mm = 'data/human/registration/reference_files/model_3.0mm.mnc'\n",
    "\n",
    "# # Downsample the mask to 3.0 mm\n",
    "# mask_3mm = processing.resample_image(infile = mask,\n",
    "#                                      isostep = 3.0,\n",
    "#                                      suffix = '_3.0mm')\n",
    "mask_3mm = 'data/human/registration/reference_files/mask_3.0mm.mnc'"
   ]
  },
  {
   "cell_type": "markdown",
   "id": "c4185bf5",
   "metadata": {},
   "source": [
    "---\n",
    "\n",
    "# Calculating human participant effect sizes"
   ]
  },
  {
   "cell_type": "code",
   "execution_count": 17,
   "id": "b0e856a1",
   "metadata": {},
   "outputs": [],
   "source": [
    "#Parameters for effect size calculation\n",
    "method = 'normative-growth'\n",
    "df = 5\n",
    "combat = True\n",
    "combat_batch = ['Site', 'Scanner']\n",
    "ncontrols = None"
   ]
  },
  {
   "cell_type": "markdown",
   "id": "005b7708",
   "metadata": {},
   "source": [
    "## Absolute jacobian effect sizes"
   ]
  },
  {
   "cell_type": "code",
   "execution_count": 18,
   "id": "a3fe1b25",
   "metadata": {},
   "outputs": [],
   "source": [
    "es_basedir_abs = os.path.join(human_basedir,\n",
    "                              'effect_sizes',\n",
    "                              'resolution_3.0',\n",
    "                              'absolute',\n",
    "                              '')\n",
    "\n",
    "\n",
    "es_params = {'es_method':method,\n",
    "            'es_df':df,\n",
    "            'es_combat':combat,\n",
    "            'es_combat_batch':'-'.join(combat_batch),\n",
    "            'es_ncontrols':ncontrols}\n",
    "\n",
    "(es_dir_abs, es_metadata) = utils.mkdir_from_params(params = es_params,\n",
    "                                                    basedir = es_basedir_abs,\n",
    "                                                    return_metadata = True)"
   ]
  },
  {
   "cell_type": "code",
   "execution_count": 19,
   "id": "25ea1a9f",
   "metadata": {},
   "outputs": [
    {
     "data": {
      "text/plain": [
       "['data/human/derivatives/POND_SickKids/effect_sizes/resolution_3.0/absolute/106/sub-1050528_ses-01_T1w.extracted_fwhm_4vox.mnc',\n",
       " 'data/human/derivatives/POND_SickKids/effect_sizes/resolution_3.0/absolute/106/d8_0202_01.extracted_fwhm_4vox.mnc',\n",
       " 'data/human/derivatives/POND_SickKids/effect_sizes/resolution_3.0/absolute/106/sub-1050252_ses-01_T1w.extracted_fwhm_4vox.mnc',\n",
       " 'data/human/derivatives/POND_SickKids/effect_sizes/resolution_3.0/absolute/106/sub-0880353_ses-01_T1w.extracted_fwhm_4vox.mnc',\n",
       " 'data/human/derivatives/POND_SickKids/effect_sizes/resolution_3.0/absolute/106/d8_0035_01.extracted_fwhm_4vox.mnc']"
      ]
     },
     "execution_count": 19,
     "metadata": {},
     "output_type": "execute_result"
    }
   ],
   "source": [
    "# es_files_abs = processing.calculate_human_effect_sizes(imgdir = imgdir_abs_3mm,\n",
    "#                                                        demographics = demographics,\n",
    "#                                                        mask = mask_3mm,\n",
    "#                                                        outdir = es_dir_abs,\n",
    "#                                                        method = method,\n",
    "#                                                        df = df,\n",
    "#                                                        combat = combat,\n",
    "#                                                        combat_batch = combat_batch,\n",
    "#                                                        parallel = True,\n",
    "#                                                        nproc = 8)\n",
    "\n",
    "es_files_abs = glob(es_dir_abs+'*.mnc')\n",
    "es_files_abs[:5]"
   ]
  },
  {
   "cell_type": "markdown",
   "id": "e479a100",
   "metadata": {},
   "source": [
    "## Relative jacobian effect sizes"
   ]
  },
  {
   "cell_type": "code",
   "execution_count": 20,
   "id": "6d91a706",
   "metadata": {},
   "outputs": [
    {
     "data": {
      "text/html": [
       "<div>\n",
       "<style scoped>\n",
       "    .dataframe tbody tr th:only-of-type {\n",
       "        vertical-align: middle;\n",
       "    }\n",
       "\n",
       "    .dataframe tbody tr th {\n",
       "        vertical-align: top;\n",
       "    }\n",
       "\n",
       "    .dataframe thead th {\n",
       "        text-align: right;\n",
       "    }\n",
       "</style>\n",
       "<table border=\"1\" class=\"dataframe\">\n",
       "  <thead>\n",
       "    <tr style=\"text-align: right;\">\n",
       "      <th></th>\n",
       "      <th>es_method</th>\n",
       "      <th>es_df</th>\n",
       "      <th>es_combat</th>\n",
       "      <th>es_combat_batch</th>\n",
       "      <th>es_ncontrols</th>\n",
       "      <th>id</th>\n",
       "    </tr>\n",
       "  </thead>\n",
       "  <tbody>\n",
       "    <tr>\n",
       "      <th>0</th>\n",
       "      <td>normative-growth</td>\n",
       "      <td>5</td>\n",
       "      <td>True</td>\n",
       "      <td>Site-Scanner</td>\n",
       "      <td>NaN</td>\n",
       "      <td>106</td>\n",
       "    </tr>\n",
       "  </tbody>\n",
       "</table>\n",
       "</div>"
      ],
      "text/plain": [
       "          es_method es_df es_combat es_combat_batch es_ncontrols   id\n",
       "0  normative-growth     5      True    Site-Scanner          NaN  106"
      ]
     },
     "execution_count": 20,
     "metadata": {},
     "output_type": "execute_result"
    }
   ],
   "source": [
    "df_metadata = pd.read_csv(es_metadata, dtype = 'str')\n",
    "df_metadata"
   ]
  },
  {
   "cell_type": "code",
   "execution_count": 22,
   "id": "a4fb88ee",
   "metadata": {},
   "outputs": [],
   "source": [
    "es_params_id = pd.merge(df_metadata, \n",
    "                        pd.DataFrame(es_params, index = [0], \n",
    "                                     dtype = 'str'), \n",
    "                        how = 'inner').id[0]\n",
    "\n",
    "es_basedir_rel = os.path.join(human_basedir,\n",
    "                              'effect_sizes',\n",
    "                              'resolution_3.0',\n",
    "                              'relative',\n",
    "                              '')\n",
    "\n",
    "es_dir_rel = utils.mkdir_from_params(params = es_params,\n",
    "                                     basedir = es_basedir_rel, \n",
    "                                     params_id=es_params_id,\n",
    "                                     return_metadata = False)"
   ]
  },
  {
   "cell_type": "code",
   "execution_count": 23,
   "id": "86384e63",
   "metadata": {},
   "outputs": [
    {
     "data": {
      "text/plain": [
       "['data/human/derivatives/POND_SickKids/effect_sizes/resolution_3.0/relative/106/d8_0216_01.extracted_fwhm_4vox.mnc',\n",
       " 'data/human/derivatives/POND_SickKids/effect_sizes/resolution_3.0/relative/106/sub-0880929_ses-01_T1w.extracted_fwhm_4vox.mnc',\n",
       " 'data/human/derivatives/POND_SickKids/effect_sizes/resolution_3.0/relative/106/sub-0880620_ses-01_T1w.extracted_fwhm_4vox.mnc',\n",
       " 'data/human/derivatives/POND_SickKids/effect_sizes/resolution_3.0/relative/106/sub-0880742_ses-01_T1w.extracted_fwhm_4vox.mnc',\n",
       " 'data/human/derivatives/POND_SickKids/effect_sizes/resolution_3.0/relative/106/sub-0880140_ses-01_T1w.extracted_fwhm_4vox.mnc']"
      ]
     },
     "execution_count": 23,
     "metadata": {},
     "output_type": "execute_result"
    }
   ],
   "source": [
    "# es_files_rel = processing.calculate_human_effect_sizes(imgdir = imgdir_rel_3mm,\n",
    "#                                                        demographics = demographics,\n",
    "#                                                        mask = mask_3mm,\n",
    "#                                                        outdir = es_dir_rel,\n",
    "#                                                        method = method,\n",
    "#                                                        df = df,\n",
    "#                                                        combat = combat,\n",
    "#                                                        combat_batch = combat_batch,\n",
    "#                                                        parallel = True,\n",
    "#                                                        nproc = 8)\n",
    "\n",
    "es_files_rel = glob(es_dir_rel+'*.mnc')\n",
    "es_files_rel[:5]"
   ]
  },
  {
   "cell_type": "markdown",
   "id": "d67b3f69",
   "metadata": {},
   "source": [
    "---\n",
    "\n",
    "# Clustering the participants\n",
    "\n",
    "## Creating effect size matrices\n",
    "\n",
    "### Absolute effect size matrix"
   ]
  },
  {
   "cell_type": "code",
   "execution_count": 24,
   "id": "5f219ddf",
   "metadata": {},
   "outputs": [],
   "source": [
    "# File in which to save the absolute effect size matrix\n",
    "es_abs_matrix_csv = 'effect_sizes.csv'\n",
    "es_abs_matrix_csv = os.path.join(es_dir_abs, es_abs_matrix_csv)\n",
    "\n",
    "# # Compute the absolute effect size matrix\n",
    "# df_es_abs = processing.build_voxel_matrix(infiles = es_files_abs,\n",
    "#                                           mask = mask_3mm,\n",
    "#                                           sort = True,\n",
    "#                                           file_col = True,\n",
    "#                                           parallel = False,\n",
    "#                                           nproc = 2)\n",
    "\n",
    "# # Extract file base names from paths\n",
    "# df_es_abs['file'] = [os.path.basename(file) for file in df_es_abs['file']]\n",
    "\n",
    "# # Write to file\n",
    "# df_es_abs.to_csv(es_abs_matrix_csv, index = False)"
   ]
  },
  {
   "cell_type": "markdown",
   "id": "f13e6f07",
   "metadata": {},
   "source": [
    "### Relative effect size matrix"
   ]
  },
  {
   "cell_type": "code",
   "execution_count": 25,
   "id": "82bb9080",
   "metadata": {},
   "outputs": [],
   "source": [
    "# File in which to save the absolute effect size matrix\n",
    "es_rel_matrix_csv = 'effect_sizes.csv'\n",
    "es_rel_matrix_csv = os.path.join(es_dir_rel, es_rel_matrix_csv)\n",
    "\n",
    "# # Compute the absolute effect size matrix\n",
    "# df_es_rel = processing.build_voxel_matrix(infiles = es_files_rel,\n",
    "#                                           mask = mask_3mm,\n",
    "#                                           sort = True,\n",
    "#                                           file_col = True,\n",
    "#                                           parallel = False,\n",
    "#                                           nproc = 2)\n",
    "\n",
    "# # Extract file base names from paths\n",
    "# df_es_rel['file'] = [os.path.basename(file) for file in df_es_rel['file']]\n",
    "\n",
    "# # Write to file\n",
    "# df_es_rel.to_csv(es_rel_matrix_csv, index = False)"
   ]
  },
  {
   "cell_type": "markdown",
   "id": "a8dfed53",
   "metadata": {},
   "source": [
    "# Clustering the participants"
   ]
  },
  {
   "cell_type": "code",
   "execution_count": 26,
   "id": "db47f1a6",
   "metadata": {},
   "outputs": [],
   "source": [
    "#Cluster parameters\n",
    "infiles = [es_abs_matrix_csv, es_rel_matrix_csv]\n",
    "nk_max = 10\n",
    "metric = 'correlation'\n",
    "K = 10\n",
    "sigma = 0.5\n",
    "t = 20\n",
    "\n",
    "#Combine cluster params with previous params\n",
    "cluster_params = es_params.copy()\n",
    "cluster_params.update({'clust_nk_max':nk_max,\n",
    "                       'clust_metric':metric,\n",
    "                       'clust_K':K,\n",
    "                       'clust_sigma':sigma,\n",
    "                       'clust_t':t})\n",
    "\n",
    "#Create cluster params ID based on previous ID\n",
    "cluster_params_id = '-'.join([es_params_id, utils.random_id(3)])\n",
    "\n",
    "#Create cluster params directory\n",
    "cluster_basedir = os.path.join(human_basedir, 'clusters')\n",
    "(cluster_dir, cluster_metadata) = utils.mkdir_from_params(params = cluster_params,\n",
    "                                                            basedir = cluster_basedir,\n",
    "                                                          params_id = cluster_params_id,\n",
    "                                                            return_metadata = True)\n",
    "\n",
    "cluster_file = os.path.join(cluster_dir, 'human_clusters.csv')"
   ]
  },
  {
   "cell_type": "code",
   "execution_count": 60,
   "id": "7acec917",
   "metadata": {},
   "outputs": [
    {
     "name": "stderr",
     "output_type": "stream",
     "text": [
      "Importing data...\n",
      "Running similarity network fusion...\n",
      "Assigning clusters...\n"
     ]
    },
    {
     "data": {
      "text/html": [
       "<div>\n",
       "<style scoped>\n",
       "    .dataframe tbody tr th:only-of-type {\n",
       "        vertical-align: middle;\n",
       "    }\n",
       "\n",
       "    .dataframe tbody tr th {\n",
       "        vertical-align: top;\n",
       "    }\n",
       "\n",
       "    .dataframe thead th {\n",
       "        text-align: right;\n",
       "    }\n",
       "</style>\n",
       "<table border=\"1\" class=\"dataframe\">\n",
       "  <thead>\n",
       "    <tr style=\"text-align: right;\">\n",
       "      <th></th>\n",
       "      <th>ID</th>\n",
       "      <th>nk2</th>\n",
       "      <th>nk3</th>\n",
       "      <th>nk4</th>\n",
       "      <th>nk5</th>\n",
       "      <th>nk6</th>\n",
       "      <th>nk7</th>\n",
       "      <th>nk8</th>\n",
       "      <th>nk9</th>\n",
       "      <th>nk10</th>\n",
       "    </tr>\n",
       "  </thead>\n",
       "  <tbody>\n",
       "    <tr>\n",
       "      <th>0</th>\n",
       "      <td>d8_0001_04.extracted_fwhm_4vox.mnc</td>\n",
       "      <td>1</td>\n",
       "      <td>1</td>\n",
       "      <td>1</td>\n",
       "      <td>1</td>\n",
       "      <td>1</td>\n",
       "      <td>1</td>\n",
       "      <td>1</td>\n",
       "      <td>1</td>\n",
       "      <td>1</td>\n",
       "    </tr>\n",
       "    <tr>\n",
       "      <th>1</th>\n",
       "      <td>d8_0002_03.extracted_fwhm_4vox.mnc</td>\n",
       "      <td>1</td>\n",
       "      <td>2</td>\n",
       "      <td>3</td>\n",
       "      <td>2</td>\n",
       "      <td>2</td>\n",
       "      <td>6</td>\n",
       "      <td>3</td>\n",
       "      <td>6</td>\n",
       "      <td>8</td>\n",
       "    </tr>\n",
       "    <tr>\n",
       "      <th>2</th>\n",
       "      <td>d8_0003_02.extracted_fwhm_4vox.mnc</td>\n",
       "      <td>1</td>\n",
       "      <td>1</td>\n",
       "      <td>1</td>\n",
       "      <td>1</td>\n",
       "      <td>6</td>\n",
       "      <td>1</td>\n",
       "      <td>8</td>\n",
       "      <td>8</td>\n",
       "      <td>9</td>\n",
       "    </tr>\n",
       "    <tr>\n",
       "      <th>3</th>\n",
       "      <td>d8_0004_01.extracted_fwhm_4vox.mnc</td>\n",
       "      <td>2</td>\n",
       "      <td>3</td>\n",
       "      <td>4</td>\n",
       "      <td>3</td>\n",
       "      <td>4</td>\n",
       "      <td>3</td>\n",
       "      <td>7</td>\n",
       "      <td>9</td>\n",
       "      <td>3</td>\n",
       "    </tr>\n",
       "    <tr>\n",
       "      <th>4</th>\n",
       "      <td>d8_0006_03.extracted_fwhm_4vox.mnc</td>\n",
       "      <td>2</td>\n",
       "      <td>3</td>\n",
       "      <td>4</td>\n",
       "      <td>3</td>\n",
       "      <td>4</td>\n",
       "      <td>3</td>\n",
       "      <td>7</td>\n",
       "      <td>9</td>\n",
       "      <td>3</td>\n",
       "    </tr>\n",
       "  </tbody>\n",
       "</table>\n",
       "</div>"
      ],
      "text/plain": [
       "                                   ID  nk2  nk3  nk4  nk5  nk6  nk7  nk8  nk9  \\\n",
       "0  d8_0001_04.extracted_fwhm_4vox.mnc    1    1    1    1    1    1    1    1   \n",
       "1  d8_0002_03.extracted_fwhm_4vox.mnc    1    2    3    2    2    6    3    6   \n",
       "2  d8_0003_02.extracted_fwhm_4vox.mnc    1    1    1    1    6    1    8    8   \n",
       "3  d8_0004_01.extracted_fwhm_4vox.mnc    2    3    4    3    4    3    7    9   \n",
       "4  d8_0006_03.extracted_fwhm_4vox.mnc    2    3    4    3    4    3    7    9   \n",
       "\n",
       "   nk10  \n",
       "0     1  \n",
       "1     8  \n",
       "2     9  \n",
       "3     3  \n",
       "4     3  "
      ]
     },
     "execution_count": 60,
     "metadata": {},
     "output_type": "execute_result"
    }
   ],
   "source": [
    "# df_clusters = processing.cluster_human_data(infiles = infiles,\n",
    "#                                             rownames = 'file',\n",
    "#                                             nk_max = nk_max,\n",
    "#                                             metric = metric,\n",
    "#                                             K = K,\n",
    "#                                             sigma = sigma,\n",
    "#                                             t = t,\n",
    "#                                             cluster_file = cluster_file)\n",
    "\n",
    "# df_clusters.head()"
   ]
  },
  {
   "cell_type": "code",
   "execution_count": 33,
   "id": "c8477a1f",
   "metadata": {},
   "outputs": [
    {
     "data": {
      "text/html": [
       "<div>\n",
       "<style scoped>\n",
       "    .dataframe tbody tr th:only-of-type {\n",
       "        vertical-align: middle;\n",
       "    }\n",
       "\n",
       "    .dataframe tbody tr th {\n",
       "        vertical-align: top;\n",
       "    }\n",
       "\n",
       "    .dataframe thead th {\n",
       "        text-align: right;\n",
       "    }\n",
       "</style>\n",
       "<table border=\"1\" class=\"dataframe\">\n",
       "  <thead>\n",
       "    <tr style=\"text-align: right;\">\n",
       "      <th></th>\n",
       "      <th>es_method</th>\n",
       "      <th>es_df</th>\n",
       "      <th>es_combat</th>\n",
       "      <th>es_combat_batch</th>\n",
       "      <th>es_ncontrols</th>\n",
       "      <th>clust_nk_max</th>\n",
       "      <th>clust_metric</th>\n",
       "      <th>clust_K</th>\n",
       "      <th>clust_sigma</th>\n",
       "      <th>clust_t</th>\n",
       "      <th>id</th>\n",
       "    </tr>\n",
       "  </thead>\n",
       "  <tbody>\n",
       "    <tr>\n",
       "      <th>0</th>\n",
       "      <td>normative-growth</td>\n",
       "      <td>5</td>\n",
       "      <td>True</td>\n",
       "      <td>Site-Scanner</td>\n",
       "      <td>NaN</td>\n",
       "      <td>10</td>\n",
       "      <td>correlation</td>\n",
       "      <td>10</td>\n",
       "      <td>0.5</td>\n",
       "      <td>20</td>\n",
       "      <td>106-222</td>\n",
       "    </tr>\n",
       "  </tbody>\n",
       "</table>\n",
       "</div>"
      ],
      "text/plain": [
       "          es_method es_df es_combat es_combat_batch es_ncontrols clust_nk_max  \\\n",
       "0  normative-growth     5      True    Site-Scanner          NaN           10   \n",
       "\n",
       "  clust_metric clust_K clust_sigma clust_t       id  \n",
       "0  correlation      10         0.5      20  106-222  "
      ]
     },
     "execution_count": 33,
     "metadata": {},
     "output_type": "execute_result"
    }
   ],
   "source": [
    "df_cluster_metadata = pd.read_csv(cluster_metadata, dtype = 'str')\n",
    "df_cluster_metadata"
   ]
  },
  {
   "cell_type": "markdown",
   "id": "f6842815",
   "metadata": {},
   "source": [
    "**To-do**: Implement W-matrix in clustering"
   ]
  },
  {
   "cell_type": "markdown",
   "id": "26fdbc61",
   "metadata": {},
   "source": [
    "# Create cluster maps"
   ]
  },
  {
   "cell_type": "markdown",
   "id": "c4959b91",
   "metadata": {},
   "source": [
    "## Create absolute cluster maps"
   ]
  },
  {
   "cell_type": "code",
   "execution_count": 43,
   "id": "79e6894d",
   "metadata": {},
   "outputs": [],
   "source": [
    "cluster_params_id = pd.merge(df_cluster_metadata, \n",
    "                        pd.DataFrame(cluster_params, index = [0], \n",
    "                                     dtype = 'str'), \n",
    "                        how = 'inner').id[0]\n",
    "\n",
    "cluster_map_params = cluster_params.copy()\n",
    "cluster_map_params.update({'clust_map_method':'mean'})\n",
    "\n",
    "#Create cluster params ID based on previous ID\n",
    "cluster_map_params_id = '-'.join([cluster_params_id, utils.random_id(3)])\n",
    "\n",
    "cluster_map_basedir_abs = os.path.join(human_basedir, 'cluster_maps', 'resolution_3.0', 'absolute', '')\n",
    "(cluster_map_dir_abs, cluster_map_metadata) = utils.mkdir_from_params(params = cluster_map_params,\n",
    "                                                                     basedir = cluster_map_basedir_abs,\n",
    "                                                                     params_id = cluster_map_params_id,\n",
    "                                                                     return_metadata = True)"
   ]
  },
  {
   "cell_type": "code",
   "execution_count": 44,
   "id": "3ce6bef2",
   "metadata": {},
   "outputs": [
    {
     "name": "stderr",
     "output_type": "stream",
     "text": [
      "Importing cluster information...\n",
      "Creating cluster maps...\n",
      "nk = 2 : k = 1\n",
      "nk = 2 : k = 2\n",
      "nk = 3 : k = 1\n",
      "nk = 3 : k = 2\n",
      "nk = 3 : k = 3\n",
      "nk = 4 : k = 1\n",
      "nk = 4 : k = 2\n",
      "nk = 4 : k = 3\n",
      "nk = 4 : k = 4\n",
      "nk = 5 : k = 1\n",
      "nk = 5 : k = 2\n",
      "nk = 5 : k = 3\n",
      "nk = 5 : k = 4\n",
      "nk = 5 : k = 5\n",
      "nk = 6 : k = 1\n",
      "nk = 6 : k = 2\n",
      "nk = 6 : k = 3\n",
      "nk = 6 : k = 4\n",
      "nk = 6 : k = 5\n",
      "nk = 6 : k = 6\n",
      "nk = 7 : k = 1\n",
      "nk = 7 : k = 2\n",
      "nk = 7 : k = 3\n",
      "nk = 7 : k = 4\n",
      "nk = 7 : k = 5\n",
      "nk = 7 : k = 6\n",
      "nk = 7 : k = 7\n",
      "nk = 8 : k = 1\n",
      "nk = 8 : k = 2\n",
      "nk = 8 : k = 3\n",
      "nk = 8 : k = 4\n",
      "nk = 8 : k = 5\n",
      "nk = 8 : k = 6\n",
      "nk = 8 : k = 7\n",
      "nk = 8 : k = 8\n",
      "nk = 9 : k = 1\n",
      "nk = 9 : k = 2\n",
      "nk = 9 : k = 3\n",
      "nk = 9 : k = 4\n",
      "nk = 9 : k = 5\n",
      "nk = 9 : k = 6\n",
      "nk = 9 : k = 7\n",
      "nk = 9 : k = 8\n",
      "nk = 9 : k = 9\n",
      "nk = 10 : k = 1\n",
      "nk = 10 : k = 2\n",
      "nk = 10 : k = 3\n",
      "nk = 10 : k = 4\n",
      "nk = 10 : k = 5\n",
      "nk = 10 : k = 6\n",
      "nk = 10 : k = 7\n",
      "nk = 10 : k = 8\n",
      "nk = 10 : k = 9\n",
      "nk = 10 : k = 10\n"
     ]
    },
    {
     "data": {
      "text/plain": [
       "['data/human/derivatives/POND_SickKids/cluster_maps/resolution_3.0/absolute/106-222-961/cluster_map_nk_7_k_7_mean.mnc',\n",
       " 'data/human/derivatives/POND_SickKids/cluster_maps/resolution_3.0/absolute/106-222-961/cluster_map_nk_8_k_6_mean.mnc',\n",
       " 'data/human/derivatives/POND_SickKids/cluster_maps/resolution_3.0/absolute/106-222-961/cluster_map_nk_9_k_9_mean.mnc',\n",
       " 'data/human/derivatives/POND_SickKids/cluster_maps/resolution_3.0/absolute/106-222-961/cluster_map_nk_9_k_6_mean.mnc',\n",
       " 'data/human/derivatives/POND_SickKids/cluster_maps/resolution_3.0/absolute/106-222-961/cluster_map_nk_10_k_7_mean.mnc']"
      ]
     },
     "execution_count": 44,
     "metadata": {},
     "output_type": "execute_result"
    }
   ],
   "source": [
    "cluster_maps_abs = processing.create_cluster_maps(clusters = cluster_file,\n",
    "                                                  imgdir = es_dir_abs,\n",
    "                                                  outdir = cluster_map_dir_abs,\n",
    "                                                  method = 'mean',\n",
    "                                                  mask = mask_3mm)\n",
    "\n",
    "# cluster_maps_abs = glob(cluster_map_dir_abs+'*.mnc')\n",
    "cluster_maps_abs[:5]"
   ]
  },
  {
   "cell_type": "markdown",
   "id": "895452a3",
   "metadata": {},
   "source": [
    "## Create relative cluster maps"
   ]
  },
  {
   "cell_type": "code",
   "execution_count": 49,
   "id": "4a9da564",
   "metadata": {},
   "outputs": [],
   "source": [
    "df_cluster_map_metadata = pd.read_csv(cluster_map_metadata, dtype = 'str')\n",
    "cluster_map_params_id = pd.merge(df_cluster_map_metadata,\n",
    "                                 pd.DataFrame(cluster_map_params, index = [0], dtype = 'str'),\n",
    "                                how = 'inner').id[0]\n",
    "\n",
    "cluster_map_basedir_rel = os.path.join(human_basedir, 'cluster_maps', 'resolution_3.0', 'relative', '')\n",
    "(cluster_map_dir_rel, cluster_map_metadata) = utils.mkdir_from_params(params = cluster_map_params,\n",
    "                                                                     basedir = cluster_map_basedir_rel,\n",
    "                                                                     params_id = cluster_map_params_id,\n",
    "                                                                     return_metadata = True)"
   ]
  },
  {
   "cell_type": "code",
   "execution_count": 50,
   "id": "f8b392bb",
   "metadata": {},
   "outputs": [
    {
     "name": "stderr",
     "output_type": "stream",
     "text": [
      "Importing cluster information...\n",
      "Creating cluster maps...\n",
      "nk = 2 : k = 1\n",
      "nk = 2 : k = 2\n",
      "nk = 3 : k = 1\n",
      "nk = 3 : k = 2\n",
      "nk = 3 : k = 3\n",
      "nk = 4 : k = 1\n",
      "nk = 4 : k = 2\n",
      "nk = 4 : k = 3\n",
      "nk = 4 : k = 4\n",
      "nk = 5 : k = 1\n",
      "nk = 5 : k = 2\n",
      "nk = 5 : k = 3\n",
      "nk = 5 : k = 4\n",
      "nk = 5 : k = 5\n",
      "nk = 6 : k = 1\n",
      "nk = 6 : k = 2\n",
      "nk = 6 : k = 3\n",
      "nk = 6 : k = 4\n",
      "nk = 6 : k = 5\n",
      "nk = 6 : k = 6\n",
      "nk = 7 : k = 1\n",
      "nk = 7 : k = 2\n",
      "nk = 7 : k = 3\n",
      "nk = 7 : k = 4\n",
      "nk = 7 : k = 5\n",
      "nk = 7 : k = 6\n",
      "nk = 7 : k = 7\n",
      "nk = 8 : k = 1\n",
      "nk = 8 : k = 2\n",
      "nk = 8 : k = 3\n",
      "nk = 8 : k = 4\n",
      "nk = 8 : k = 5\n",
      "nk = 8 : k = 6\n",
      "nk = 8 : k = 7\n",
      "nk = 8 : k = 8\n",
      "nk = 9 : k = 1\n",
      "nk = 9 : k = 2\n",
      "nk = 9 : k = 3\n",
      "nk = 9 : k = 4\n",
      "nk = 9 : k = 5\n",
      "nk = 9 : k = 6\n",
      "nk = 9 : k = 7\n",
      "nk = 9 : k = 8\n",
      "nk = 9 : k = 9\n",
      "nk = 10 : k = 1\n",
      "nk = 10 : k = 2\n",
      "nk = 10 : k = 3\n",
      "nk = 10 : k = 4\n",
      "nk = 10 : k = 5\n",
      "nk = 10 : k = 6\n",
      "nk = 10 : k = 7\n",
      "nk = 10 : k = 8\n",
      "nk = 10 : k = 9\n",
      "nk = 10 : k = 10\n"
     ]
    },
    {
     "data": {
      "text/plain": [
       "['data/human/derivatives/POND_SickKids/cluster_maps/resolution_3.0/relative/106-222-961/cluster_map_nk_5_k_2_mean.mnc',\n",
       " 'data/human/derivatives/POND_SickKids/cluster_maps/resolution_3.0/relative/106-222-961/cluster_map_nk_10_k_1_mean.mnc',\n",
       " 'data/human/derivatives/POND_SickKids/cluster_maps/resolution_3.0/relative/106-222-961/cluster_map_nk_8_k_3_mean.mnc',\n",
       " 'data/human/derivatives/POND_SickKids/cluster_maps/resolution_3.0/relative/106-222-961/cluster_map_nk_9_k_3_mean.mnc',\n",
       " 'data/human/derivatives/POND_SickKids/cluster_maps/resolution_3.0/relative/106-222-961/cluster_map_nk_4_k_2_mean.mnc']"
      ]
     },
     "execution_count": 50,
     "metadata": {},
     "output_type": "execute_result"
    }
   ],
   "source": [
    "cluster_maps_rel = processing.create_cluster_maps(clusters = cluster_file,\n",
    "                                                  imgdir = es_dir_rel,\n",
    "                                                  outdir = cluster_map_dir_rel,\n",
    "                                                  method = 'mean',\n",
    "                                                  mask = mask_3mm)\n",
    "\n",
    "# cluster_maps_rel = glob(cluster_map_dir_rel+'*.mnc')\n",
    "cluster_maps_rel[:5]"
   ]
  },
  {
   "cell_type": "markdown",
   "id": "877a5ab9",
   "metadata": {},
   "source": [
    "---"
   ]
  }
 ],
 "metadata": {
  "kernelspec": {
   "display_name": "Python 3 (ipykernel)",
   "language": "python",
   "name": "python3"
  },
  "language_info": {
   "codemirror_mode": {
    "name": "ipython",
    "version": 3
   },
   "file_extension": ".py",
   "mimetype": "text/x-python",
   "name": "python",
   "nbconvert_exporter": "python",
   "pygments_lexer": "ipython3",
   "version": "3.8.10"
  }
 },
 "nbformat": 4,
 "nbformat_minor": 5
}
