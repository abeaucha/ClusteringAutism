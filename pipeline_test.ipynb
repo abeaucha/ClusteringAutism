{
 "cells": [
  {
   "cell_type": "code",
   "execution_count": 1,
   "id": "4eb9a5c3",
   "metadata": {},
   "outputs": [],
   "source": [
    "from src import processing\n",
    "\n",
    "import os\n",
    "import numpy as np\n",
    "from   glob  import glob\n",
    "from   re    import sub"
   ]
  },
  {
   "cell_type": "markdown",
   "id": "172cc1a7",
   "metadata": {},
   "source": [
    "# Extract NIFTY images from compressed files"
   ]
  },
  {
   "cell_type": "markdown",
   "id": "1fa6e82a",
   "metadata": {},
   "source": [
    "## Extract absolute Jacobian images"
   ]
  },
  {
   "cell_type": "code",
   "execution_count": 2,
   "id": "a2291533",
   "metadata": {},
   "outputs": [],
   "source": [
    "# Directory containing compressed images\n",
    "input_dir_abs = 'data/human/registration/jacobians/absolute/smooth/'\n",
    "input_dir_abs = os.path.join(input_dir_abs, '')\n",
    "\n",
    "# List of paths to compressed images\n",
    "input_files_abs = glob(input_dir_abs+'*.gz')\n",
    "\n",
    "# Extract absolute jacobians\n",
    "# unzipped_files_abs = processing.gunzip_files(infiles = input_files_abs, \n",
    "#                                              keep = True,\n",
    "#                                              parallel = True,\n",
    "#                                              nproc = 8)\n",
    "\n",
    "unzipped_files_abs = glob(input_dir_abs+'*.nii')\n",
    "# unzipped_files_abs[:5]"
   ]
  },
  {
   "cell_type": "markdown",
   "id": "e46eff68",
   "metadata": {},
   "source": [
    "## Extract relative Jacobian images"
   ]
  },
  {
   "cell_type": "code",
   "execution_count": 3,
   "id": "34f2d247",
   "metadata": {},
   "outputs": [],
   "source": [
    "# Directory containing compressed images\n",
    "input_dir_rel = 'data/human/registration/jacobians/relative/smooth/'\n",
    "input_dir_rel = os.path.join(input_dir_rel, '')\n",
    "\n",
    "# List of paths to compressed images\n",
    "input_files_rel = glob(input_dir_rel+'*.gz')\n",
    "\n",
    "# Extract relative jacobians\n",
    "# unzipped_files_rel = processing.gunzip_files(infiles = input_files_rel, \n",
    "#                                              keep = True,\n",
    "#                                              parallel = True,\n",
    "#                                              nproc = 8)\n",
    "\n",
    "unzipped_files_rel = glob(input_dir_rel+'*.nii')\n",
    "# unzipped_files_rel[:5]"
   ]
  },
  {
   "cell_type": "markdown",
   "id": "1e0019fe",
   "metadata": {},
   "source": [
    "---\n",
    "\n",
    "# Convert NIFTY images to MINC\n",
    "\n",
    "## Convert absolute Jacobian images"
   ]
  },
  {
   "cell_type": "code",
   "execution_count": 4,
   "id": "65bd8f68",
   "metadata": {},
   "outputs": [],
   "source": [
    "# Directory in which to save the converted images\n",
    "outdir_abs = 'data/human/registration/jacobians/absolute/smooth_minc/'\n",
    "\n",
    "# Convert absolute jacobian images to MINC\n",
    "# imgfiles_abs = processing.convert_images(infiles = unzipped_files_abs,\n",
    "#                                          input_format = 'nifty',\n",
    "#                                          output_format = 'minc',\n",
    "#                                          outdir = outdir_abs,\n",
    "#                                          keep = True,\n",
    "#                                          parallel = True,\n",
    "#                                          nproc = 8)\n",
    "\n",
    "imgfiles_abs = glob(outdir_abs+'*.mnc')\n",
    "# imgfiles_abs[:5]"
   ]
  },
  {
   "cell_type": "markdown",
   "id": "f3cce71f",
   "metadata": {},
   "source": [
    "## Convert relative Jacobian images"
   ]
  },
  {
   "cell_type": "code",
   "execution_count": 5,
   "id": "07902973",
   "metadata": {},
   "outputs": [],
   "source": [
    "# Directory in which to save the converted images\n",
    "outdir_rel = 'data/human/registration/jacobians/relative/smooth_minc/'\n",
    "\n",
    "# Convert absolute jacobian images to MINC\n",
    "# imgfiles_rel = processing.convert_images(infiles = unzipped_files_rel,\n",
    "#                                          input_format = 'nifty',\n",
    "#                                          output_format = 'minc',\n",
    "#                                          outdir = outdir_rel,\n",
    "#                                          keep = True,\n",
    "#                                          parallel = True,\n",
    "#                                          nproc = 8)\n",
    "\n",
    "imgfiles_rel = glob(outdir_rel+'*.mnc')\n",
    "# imgfiles_rel[:5]"
   ]
  },
  {
   "cell_type": "markdown",
   "id": "c4185bf5",
   "metadata": {},
   "source": [
    "---\n",
    "\n",
    "# Calculating human participant effect sizes"
   ]
  },
  {
   "cell_type": "code",
   "execution_count": 6,
   "id": "b0e856a1",
   "metadata": {},
   "outputs": [],
   "source": [
    "# Path to the demographics file \n",
    "demographics = 'data/human/registration/DBM_input_demo_passedqc.csv'\n",
    "\n",
    "# Path to the mask image to use\n",
    "maskfile = 'data/human/registration/reference_files/mask.mnc'\n",
    "\n",
    "# Option to specify which data to use\n",
    "dataset = 1\n",
    "\n",
    "# Number of controls to use for propensity matching\n",
    "ncontrols = 10\n",
    "\n",
    "# Lower bound on the number of matched controls before the matching criteria are relaxed\n",
    "threshold = 5"
   ]
  },
  {
   "cell_type": "markdown",
   "id": "e479a100",
   "metadata": {},
   "source": [
    "## Absolute jacobian effect sizes"
   ]
  },
  {
   "cell_type": "code",
   "execution_count": 7,
   "id": "910883a1",
   "metadata": {},
   "outputs": [],
   "source": [
    "# Directory containing absolute jacobian MINC images\n",
    "imgdir_abs = outdir_abs\n",
    "\n",
    "# Output directory\n",
    "es_dir_abs = ('data/human/effect_sizes/absolute/'\n",
    "              'resolution_{}_dataset_{}_ncontrols_{}_threshold_{}'\n",
    "              .format(0.5, dataset, ncontrols, threshold))\n",
    "es_dir_abs = os.path.join(es_dir_abs, '')\n",
    "\n",
    "# Calculate effect size images using absolute Jacobians\n",
    "# es_files_abs = processing.calculate_human_effect_sizes(demographics = demographics,\n",
    "#                                                        imgdir = imgdir_abs,\n",
    "#                                                        maskfile = maskfile,\n",
    "#                                                        outdir = es_dir_abs, \n",
    "#                                                        ncontrols = ncontrols,\n",
    "#                                                        threshold = threshold,\n",
    "#                                                        parallel = True,\n",
    "#                                                        nproc = 4)\n",
    "\n",
    "es_files_abs = glob(es_dir_abs+'*.mnc')\n",
    "# es_files_abs[:5]"
   ]
  },
  {
   "cell_type": "markdown",
   "id": "b58ec229",
   "metadata": {},
   "source": [
    "## Relative jacobian effect sizes"
   ]
  },
  {
   "cell_type": "code",
   "execution_count": 8,
   "id": "5cff88d8",
   "metadata": {},
   "outputs": [],
   "source": [
    "# Directory containing absolute jacobian MINC images\n",
    "imgdir_rel = outdir_rel\n",
    "\n",
    "# Output directory\n",
    "es_dir_rel = ('data/human/effect_sizes/relative/'\n",
    "              'resolution_{}_dataset_{}_ncontrols_{}_threshold_{}'\n",
    "              .format(0.5, dataset, ncontrols, threshold))\n",
    "es_dir_rel = os.path.join(es_dir_rel, '')\n",
    "\n",
    "# Calculate effect size images using relative Jacobians\n",
    "# es_files_rel = processing.calculate_human_effect_sizes(demographics = demographics,\n",
    "#                                                        imgdir = imgdir_rel,\n",
    "#                                                        maskfile = maskfile,\n",
    "#                                                        outdir = es_dir_rel, \n",
    "#                                                        ncontrols = ncontrols,\n",
    "#                                                        threshold = threshold,\n",
    "#                                                        parallel = True,\n",
    "#                                                        nproc = 4)\n",
    "\n",
    "es_files_rel = glob(es_dir_rel+'*.mnc')\n",
    "# es_files_rel[:5]"
   ]
  },
  {
   "cell_type": "markdown",
   "id": "d21265ff",
   "metadata": {},
   "source": [
    "# Downsampling the effect size images"
   ]
  },
  {
   "cell_type": "markdown",
   "id": "ba5f5332",
   "metadata": {},
   "source": [
    "## Downsampling absolute effect size images to 3.0mm"
   ]
  },
  {
   "cell_type": "code",
   "execution_count": 9,
   "id": "4f511070",
   "metadata": {},
   "outputs": [],
   "source": [
    "# Resolution (mm) to which we want to downsample\n",
    "isostep = 3.0"
   ]
  },
  {
   "cell_type": "code",
   "execution_count": 10,
   "id": "d21b10ef",
   "metadata": {},
   "outputs": [],
   "source": [
    "# Output directory\n",
    "es_dir_abs_downsampled_3mm = sub(r'resolution_0.5',\n",
    "                                 'resolution_{}'.format(isostep),\n",
    "                                 es_dir_abs)\n",
    "\n",
    "# Downsample absolute effect size images\n",
    "# es_files_abs_downsampled_3mm = processing.resample_images(infiles = es_files_abs,\n",
    "#                                                           isostep = isostep,\n",
    "#                                                           outdir = es_dir_abs_downsampled_3mm,\n",
    "#                                                           parallel = True,\n",
    "#                                                           nproc = 4)\n",
    "\n",
    "es_files_abs_downsampled_3mm = glob(es_dir_abs_downsampled_3mm+'*.mnc')\n",
    "# es_files_abs_downsampled_3mm[:5]"
   ]
  },
  {
   "cell_type": "markdown",
   "id": "d4b0e03d",
   "metadata": {},
   "source": [
    "## Downsampling relative effect size images to 3.0mm"
   ]
  },
  {
   "cell_type": "code",
   "execution_count": 11,
   "id": "34945bd6",
   "metadata": {},
   "outputs": [],
   "source": [
    "# Output directory\n",
    "es_dir_rel_downsampled_3mm = sub(r'resolution_0.5',\n",
    "                                 'resolution_{}'.format(isostep),\n",
    "                                 es_dir_rel)\n",
    "\n",
    "# Downsample absolute effect size images\n",
    "# es_files_rel_downsampled_3mm = processing.resample_images(infiles = es_files_rel,\n",
    "#                                                           isostep = isostep,\n",
    "#                                                           outdir = es_dir_rel_downsampled_3mm,\n",
    "#                                                           parallel = True,\n",
    "#                                                           nproc = 8)\n",
    "\n",
    "es_files_rel_downsampled_3mm = glob(es_dir_rel_downsampled_3mm+'*.mnc')\n",
    "# es_files_rel_downsampled_3mm[:5]"
   ]
  },
  {
   "cell_type": "markdown",
   "id": "57a5d371",
   "metadata": {},
   "source": [
    "# Downsampling auxiliary imaging files"
   ]
  },
  {
   "cell_type": "code",
   "execution_count": 12,
   "id": "1344707f",
   "metadata": {},
   "outputs": [],
   "source": [
    "# Path to the neuroanatomical template image\n",
    "model = 'data/human/registration/reference_files/model.mnc'\n",
    "\n",
    "# Path to the mask image\n",
    "mask = 'data/human/registration/reference_files/mask.mnc'\n",
    "\n",
    "# Downsample the template to 3.0 mm\n",
    "model_3mm = processing.resample_image(infile = model,\n",
    "                                      isostep = 3.0)\n",
    "\n",
    "# Downsample the mask to 3.0 mm\n",
    "mask_3mm = processing.resample_image(infile = mask,\n",
    "                                     isostep = 3.0)"
   ]
  },
  {
   "cell_type": "markdown",
   "id": "d7b4ddc5",
   "metadata": {},
   "source": [
    "**TO-DO**: Allow resample_images() to take in a single image, by converting it to a list. "
   ]
  },
  {
   "cell_type": "markdown",
   "id": "d67b3f69",
   "metadata": {},
   "source": [
    "---\n",
    "\n",
    "# Clustering the participants\n",
    "\n",
    "## Creating effect size matrices\n",
    "\n",
    "### Absolute effect size matrix"
   ]
  },
  {
   "cell_type": "code",
   "execution_count": 13,
   "id": "fad596e4",
   "metadata": {},
   "outputs": [
    {
     "name": "stderr",
     "output_type": "stream",
     "text": [
      "100%|███████████████████████████████████████████████████████████████████████████████████████████████████████████████████████████████████████████████████████████████████████████████| 530/530 [00:04<00:00, 112.68it/s]\n"
     ]
    }
   ],
   "source": [
    "# File in which to save the absolute effect size matrix\n",
    "es_abs_matrix_csv = 'ES_data_{}_nc_{}_threshold_{}_3.0mm.csv'.format(dataset, ncontrols, threshold)\n",
    "es_abs_matrix_csv = os.path.join(es_dir_abs_downsampled_3mm, es_abs_matrix_csv)\n",
    "\n",
    "# Compute the absolute effect size matrix\n",
    "df_es_abs = processing.build_voxel_matrix(infiles = es_files_abs_downsampled_3mm,\n",
    "                                          mask = mask_3mm,\n",
    "                                          sort = True,\n",
    "                                          file_col = True,\n",
    "                                          parallel = True,\n",
    "                                          nproc = 2)\n",
    "\n",
    "# Extract file base names from paths\n",
    "df_es_abs['file'] = [os.path.basename(file) for file in df_es_abs['file']]\n",
    "\n",
    "# Write to file\n",
    "df_es_abs.to_csv(es_abs_matrix_csv, index = False)"
   ]
  },
  {
   "cell_type": "markdown",
   "id": "f13e6f07",
   "metadata": {},
   "source": [
    "### Relative effect size matrix"
   ]
  },
  {
   "cell_type": "code",
   "execution_count": 14,
   "id": "e03ac434",
   "metadata": {},
   "outputs": [
    {
     "name": "stderr",
     "output_type": "stream",
     "text": [
      "100%|███████████████████████████████████████████████████████████████████████████████████████████████████████████████████████████████████████████████████████████████████████████████| 530/530 [00:04<00:00, 116.53it/s]\n"
     ]
    }
   ],
   "source": [
    "# File in which to save the relative effect size matrix\n",
    "es_rel_matrix_csv = 'ES_data_{}_nc_{}_threshold_{}_3.0mm.csv'.format(dataset, ncontrols, threshold)\n",
    "es_rel_matrix_csv = os.path.join(es_dir_rel_downsampled_3mm, es_rel_matrix_csv)\n",
    "\n",
    "# Compute the relative effect size matrix\n",
    "df_es_rel = processing.build_voxel_matrix(infiles = es_files_rel_downsampled_3mm,\n",
    "                                          mask = mask_3mm,\n",
    "                                          sort = True,\n",
    "                                          file_col = True,\n",
    "                                          parallel = True,\n",
    "                                          nproc = 2)\n",
    "\n",
    "\n",
    "# Extract file base names from paths\n",
    "df_es_rel['file'] = [os.path.basename(file) for file in df_es_rel['file']]\n",
    "\n",
    "# Write to file\n",
    "df_es_rel.to_csv(es_rel_matrix_csv, index = False)"
   ]
  },
  {
   "cell_type": "markdown",
   "id": "a8dfed53",
   "metadata": {},
   "source": [
    "# Clustering the participants"
   ]
  },
  {
   "cell_type": "code",
   "execution_count": 18,
   "id": "7acec917",
   "metadata": {},
   "outputs": [
    {
     "name": "stderr",
     "output_type": "stream",
     "text": [
      "Importing data...\n",
      "Running similarity network fusion...\n",
      "Assigning clusters...\n"
     ]
    },
    {
     "data": {
      "text/html": [
       "<div>\n",
       "<style scoped>\n",
       "    .dataframe tbody tr th:only-of-type {\n",
       "        vertical-align: middle;\n",
       "    }\n",
       "\n",
       "    .dataframe tbody tr th {\n",
       "        vertical-align: top;\n",
       "    }\n",
       "\n",
       "    .dataframe thead th {\n",
       "        text-align: right;\n",
       "    }\n",
       "</style>\n",
       "<table border=\"1\" class=\"dataframe\">\n",
       "  <thead>\n",
       "    <tr style=\"text-align: right;\">\n",
       "      <th></th>\n",
       "      <th>ID</th>\n",
       "      <th>Group2</th>\n",
       "      <th>Group3</th>\n",
       "      <th>Group4</th>\n",
       "      <th>Group5</th>\n",
       "      <th>Group6</th>\n",
       "      <th>Group7</th>\n",
       "      <th>Group8</th>\n",
       "      <th>Group9</th>\n",
       "      <th>Group10</th>\n",
       "    </tr>\n",
       "  </thead>\n",
       "  <tbody>\n",
       "    <tr>\n",
       "      <th>0</th>\n",
       "      <td>21001_T1.extracted_ES_res_0.5_data_1_nc_10_thr...</td>\n",
       "      <td>1</td>\n",
       "      <td>2</td>\n",
       "      <td>3</td>\n",
       "      <td>3</td>\n",
       "      <td>6</td>\n",
       "      <td>7</td>\n",
       "      <td>1</td>\n",
       "      <td>1</td>\n",
       "      <td>8</td>\n",
       "    </tr>\n",
       "    <tr>\n",
       "      <th>1</th>\n",
       "      <td>21002_T1.extracted_ES_res_0.5_data_1_nc_10_thr...</td>\n",
       "      <td>1</td>\n",
       "      <td>2</td>\n",
       "      <td>3</td>\n",
       "      <td>4</td>\n",
       "      <td>4</td>\n",
       "      <td>2</td>\n",
       "      <td>6</td>\n",
       "      <td>3</td>\n",
       "      <td>2</td>\n",
       "    </tr>\n",
       "    <tr>\n",
       "      <th>2</th>\n",
       "      <td>21005_T1.extracted_ES_res_0.5_data_1_nc_10_thr...</td>\n",
       "      <td>1</td>\n",
       "      <td>2</td>\n",
       "      <td>3</td>\n",
       "      <td>5</td>\n",
       "      <td>5</td>\n",
       "      <td>5</td>\n",
       "      <td>6</td>\n",
       "      <td>4</td>\n",
       "      <td>7</td>\n",
       "    </tr>\n",
       "    <tr>\n",
       "      <th>3</th>\n",
       "      <td>21006_T1.extracted_ES_res_0.5_data_1_nc_10_thr...</td>\n",
       "      <td>1</td>\n",
       "      <td>2</td>\n",
       "      <td>4</td>\n",
       "      <td>5</td>\n",
       "      <td>5</td>\n",
       "      <td>5</td>\n",
       "      <td>4</td>\n",
       "      <td>4</td>\n",
       "      <td>7</td>\n",
       "    </tr>\n",
       "    <tr>\n",
       "      <th>4</th>\n",
       "      <td>21007_T1.extracted_ES_res_0.5_data_1_nc_10_thr...</td>\n",
       "      <td>1</td>\n",
       "      <td>2</td>\n",
       "      <td>3</td>\n",
       "      <td>3</td>\n",
       "      <td>6</td>\n",
       "      <td>7</td>\n",
       "      <td>6</td>\n",
       "      <td>7</td>\n",
       "      <td>9</td>\n",
       "    </tr>\n",
       "  </tbody>\n",
       "</table>\n",
       "</div>"
      ],
      "text/plain": [
       "                                                  ID  Group2  Group3  Group4  \\\n",
       "0  21001_T1.extracted_ES_res_0.5_data_1_nc_10_thr...       1       2       3   \n",
       "1  21002_T1.extracted_ES_res_0.5_data_1_nc_10_thr...       1       2       3   \n",
       "2  21005_T1.extracted_ES_res_0.5_data_1_nc_10_thr...       1       2       3   \n",
       "3  21006_T1.extracted_ES_res_0.5_data_1_nc_10_thr...       1       2       4   \n",
       "4  21007_T1.extracted_ES_res_0.5_data_1_nc_10_thr...       1       2       3   \n",
       "\n",
       "   Group5  Group6  Group7  Group8  Group9  Group10  \n",
       "0       3       6       7       1       1        8  \n",
       "1       4       4       2       6       3        2  \n",
       "2       5       5       5       6       4        7  \n",
       "3       5       5       5       4       4        7  \n",
       "4       3       6       7       6       7        9  "
      ]
     },
     "execution_count": 18,
     "metadata": {},
     "output_type": "execute_result"
    }
   ],
   "source": [
    "infiles = [es_abs_matrix_csv, es_rel_matrix_csv]\n",
    "nk_max = 10\n",
    "metric = 'correlation'\n",
    "K = 10\n",
    "sigma = 0.5\n",
    "t = 20\n",
    "outfile = ('data/human/clustering/human_clusters_nk_{}_metric_{}_K_{}_sigma_{}_t_{}_{}mm.csv'\n",
    "           .format(nk_max, metric, K, sigma, t, isostep))\n",
    "\n",
    "df_clusters = processing.cluster_human_data(infiles = infiles,\n",
    "                                            rownames = 'file',\n",
    "                                            nk_max = nk_max,\n",
    "                                            metric = metric,\n",
    "                                            K = K,\n",
    "                                            sigma = sigma,\n",
    "                                            t = t,\n",
    "                                            outfile = outfile)\n",
    "\n",
    "df_clusters.head()"
   ]
  }
 ],
 "metadata": {
  "kernelspec": {
   "display_name": "Python 3 (ipykernel)",
   "language": "python",
   "name": "python3"
  },
  "language_info": {
   "codemirror_mode": {
    "name": "ipython",
    "version": 3
   },
   "file_extension": ".py",
   "mimetype": "text/x-python",
   "name": "python",
   "nbconvert_exporter": "python",
   "pygments_lexer": "ipython3",
   "version": "3.8.10"
  }
 },
 "nbformat": 4,
 "nbformat_minor": 5
}
