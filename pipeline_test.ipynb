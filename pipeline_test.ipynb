{
 "cells": [
  {
   "cell_type": "code",
   "execution_count": 1,
   "id": "4eb9a5c3",
   "metadata": {},
   "outputs": [],
   "source": [
    "from src import processing, utils\n",
    "\n",
    "import os\n",
    "import numpy as np\n",
    "import pandas as pd\n",
    "from   glob  import glob\n",
    "from   re    import sub"
   ]
  },
  {
   "cell_type": "markdown",
   "id": "172cc1a7",
   "metadata": {},
   "source": [
    "# Extract NIFTY images from compressed files"
   ]
  },
  {
   "cell_type": "markdown",
   "id": "1fa6e82a",
   "metadata": {},
   "source": [
    "## Extract absolute Jacobian images"
   ]
  },
  {
   "cell_type": "code",
   "execution_count": 2,
   "id": "a2291533",
   "metadata": {},
   "outputs": [
    {
     "data": {
      "text/plain": [
       "['data/human/registration/jacobians/absolute/smooth/d8_0096_01.extracted_fwhm_4vox.nii',\n",
       " 'data/human/registration/jacobians/absolute/smooth/12013_T1.extracted_fwhm_4vox.nii',\n",
       " 'data/human/registration/jacobians/absolute/smooth/21045_T1.extracted_fwhm_4vox.nii',\n",
       " 'data/human/registration/jacobians/absolute/smooth/d8_0673_01.extracted_fwhm_4vox.nii',\n",
       " 'data/human/registration/jacobians/absolute/smooth/sub-1050792_ses-01_T1w.extracted_fwhm_4vox.nii']"
      ]
     },
     "execution_count": 2,
     "metadata": {},
     "output_type": "execute_result"
    }
   ],
   "source": [
    "# Directory containing compressed images\n",
    "input_dir_abs = 'data/human/registration/jacobians/absolute/smooth/'\n",
    "input_dir_abs = os.path.join(input_dir_abs, '')\n",
    "\n",
    "# List of paths to compressed images\n",
    "input_files_abs = glob(input_dir_abs+'*.gz')\n",
    "\n",
    "# Extract absolute jacobians\n",
    "# unzipped_files_abs = processing.gunzip_files(infiles = input_files_abs, \n",
    "#                                              keep = True,\n",
    "#                                              parallel = True,\n",
    "#                                              nproc = 8)\n",
    "\n",
    "unzipped_files_abs = glob(input_dir_abs+'*.nii')\n",
    "unzipped_files_abs[:5]"
   ]
  },
  {
   "cell_type": "markdown",
   "id": "e46eff68",
   "metadata": {},
   "source": [
    "## Extract relative Jacobian images"
   ]
  },
  {
   "cell_type": "code",
   "execution_count": 3,
   "id": "34f2d247",
   "metadata": {},
   "outputs": [
    {
     "data": {
      "text/plain": [
       "['data/human/registration/jacobians/relative/smooth/d8_0773_01.extracted_fwhm_4vox.nii',\n",
       " 'data/human/registration/jacobians/relative/smooth/sub-1050249_ses-01_T1w.extracted_fwhm_4vox.nii',\n",
       " 'data/human/registration/jacobians/relative/smooth/d8_0214_01.extracted_fwhm_4vox.nii',\n",
       " 'data/human/registration/jacobians/relative/smooth/21025_T1.extracted_fwhm_4vox.nii',\n",
       " 'data/human/registration/jacobians/relative/smooth/sub-3940059_ses-01_run-02_T1w.extracted_fwhm_4vox.nii']"
      ]
     },
     "execution_count": 3,
     "metadata": {},
     "output_type": "execute_result"
    }
   ],
   "source": [
    "# Directory containing compressed images\n",
    "input_dir_rel = 'data/human/registration/jacobians/relative/smooth/'\n",
    "input_dir_rel = os.path.join(input_dir_rel, '')\n",
    "\n",
    "# List of paths to compressed images\n",
    "input_files_rel = glob(input_dir_rel+'*.gz')\n",
    "\n",
    "# Extract relative jacobians\n",
    "# unzipped_files_rel = processing.gunzip_files(infiles = input_files_rel, \n",
    "#                                              keep = True,\n",
    "#                                              parallel = True,\n",
    "#                                              nproc = 8)\n",
    "\n",
    "unzipped_files_rel = glob(input_dir_rel+'*.nii')\n",
    "unzipped_files_rel[:5]"
   ]
  },
  {
   "cell_type": "markdown",
   "id": "1e0019fe",
   "metadata": {},
   "source": [
    "---\n",
    "\n",
    "# Convert NIFTY images to MINC\n",
    "\n",
    "## Convert absolute Jacobian images"
   ]
  },
  {
   "cell_type": "code",
   "execution_count": 4,
   "id": "65bd8f68",
   "metadata": {},
   "outputs": [
    {
     "data": {
      "text/plain": [
       "['data/human/registration/jacobians/absolute/smooth_minc/sub-1140440_ses-01_T1w.extracted_fwhm_4vox.mnc',\n",
       " 'data/human/registration/jacobians/absolute/smooth_minc/sub-1050100_ses-01_run-02_T1w.extracted_fwhm_4vox.mnc',\n",
       " 'data/human/registration/jacobians/absolute/smooth_minc/d8_0285_01.extracted_fwhm_4vox.mnc',\n",
       " 'data/human/registration/jacobians/absolute/smooth_minc/sub-1050192_ses-01_T1w.extracted_fwhm_4vox.mnc',\n",
       " 'data/human/registration/jacobians/absolute/smooth_minc/41014_T1.extracted_fwhm_4vox.mnc']"
      ]
     },
     "execution_count": 4,
     "metadata": {},
     "output_type": "execute_result"
    }
   ],
   "source": [
    "# Directory in which to save the converted images\n",
    "outdir_abs = 'data/human/registration/jacobians/absolute/smooth_minc/'\n",
    "\n",
    "# Convert absolute jacobian images to MINC\n",
    "# imgfiles_abs = processing.convert_images(infiles = unzipped_files_abs,\n",
    "#                                          input_format = 'nifty',\n",
    "#                                          output_format = 'minc',\n",
    "#                                          outdir = outdir_abs,\n",
    "#                                          keep = True,\n",
    "#                                          parallel = True,\n",
    "#                                          nproc = 8)\n",
    "\n",
    "imgfiles_abs = glob(outdir_abs+'*.mnc')\n",
    "imgfiles_abs[:5]"
   ]
  },
  {
   "cell_type": "markdown",
   "id": "f3cce71f",
   "metadata": {},
   "source": [
    "## Convert relative Jacobian images"
   ]
  },
  {
   "cell_type": "code",
   "execution_count": 5,
   "id": "07902973",
   "metadata": {},
   "outputs": [
    {
     "data": {
      "text/plain": [
       "['data/human/registration/jacobians/relative/smooth_minc/32014_T1.extracted_fwhm_4vox.mnc',\n",
       " 'data/human/registration/jacobians/relative/smooth_minc/sub-3940197_ses-01_T1w.extracted_fwhm_4vox.mnc',\n",
       " 'data/human/registration/jacobians/relative/smooth_minc/d8_0219_01.extracted_fwhm_4vox.mnc',\n",
       " 'data/human/registration/jacobians/relative/smooth_minc/d8_0092_01.extracted_fwhm_4vox.mnc',\n",
       " 'data/human/registration/jacobians/relative/smooth_minc/11034_T1.extracted_fwhm_4vox.mnc']"
      ]
     },
     "execution_count": 5,
     "metadata": {},
     "output_type": "execute_result"
    }
   ],
   "source": [
    "# Directory in which to save the converted images\n",
    "outdir_rel = 'data/human/registration/jacobians/relative/smooth_minc/'\n",
    "\n",
    "# Convert absolute jacobian images to MINC\n",
    "# imgfiles_rel = processing.convert_images(infiles = unzipped_files_rel,\n",
    "#                                          input_format = 'nifty',\n",
    "#                                          output_format = 'minc',\n",
    "#                                          outdir = outdir_rel,\n",
    "#                                          keep = True,\n",
    "#                                          parallel = True,\n",
    "#                                          nproc = 8)\n",
    "\n",
    "imgfiles_rel = glob(outdir_rel+'*.mnc')\n",
    "imgfiles_rel[:5]"
   ]
  },
  {
   "cell_type": "markdown",
   "id": "1f2c79b8",
   "metadata": {},
   "source": [
    "---\n",
    "\n",
    "# Specify which cohorts to use"
   ]
  },
  {
   "cell_type": "code",
   "execution_count": 6,
   "id": "f8576e96",
   "metadata": {},
   "outputs": [
    {
     "data": {
      "text/plain": [
       "'data/human/derivatives/POND_SickKids'"
      ]
     },
     "execution_count": 6,
     "metadata": {},
     "output_type": "execute_result"
    }
   ],
   "source": [
    "#Create directory to save data subset derivatives\n",
    "human_basedir = 'data/human/derivatives'\n",
    "datasets = ['POND', 'SickKids']    \n",
    "human_basedir = utils.mkdir_from_list(inlist = datasets,\n",
    "                                      basedir = human_basedir)\n",
    "human_basedir"
   ]
  },
  {
   "cell_type": "markdown",
   "id": "790a98d3",
   "metadata": {},
   "source": [
    "## Filter demographics for cohorts of interest"
   ]
  },
  {
   "cell_type": "code",
   "execution_count": 7,
   "id": "80c4419d",
   "metadata": {},
   "outputs": [],
   "source": [
    "# Path to the demographics file \n",
    "demographics = 'data/human/registration/DBM_input_demo_passedqc.csv'\n",
    "\n",
    "#Import demographics\n",
    "df_demographics = pd.read_csv(demographics)\n",
    "\n",
    "#Filter individuals for data subset\n",
    "df_demographics = (df_demographics\n",
    "                   .loc[df_demographics['Dataset'].isin(datasets)]\n",
    "                   .copy())\n",
    "\n",
    "#Create a new column for patient image files\n",
    "df_demographics['File'] = (df_demographics['Extract_ID']\n",
    "                           .str.replace('.mnc', \n",
    "                                        '_fwhm_4vox.mnc', \n",
    "                                        regex = True))\n",
    "\n",
    "#Write out demographics subset to subset directory\n",
    "demographics = os.path.join(human_basedir, os.path.basename(demographics))\n",
    "df_demographics.to_csv(demographics, index = False)"
   ]
  },
  {
   "cell_type": "markdown",
   "id": "7ce15b40",
   "metadata": {},
   "source": [
    "## Create symlinks to absolute jacobian images"
   ]
  },
  {
   "cell_type": "code",
   "execution_count": 8,
   "id": "cba517a8",
   "metadata": {},
   "outputs": [
    {
     "data": {
      "text/plain": [
       "['data/human/derivatives/POND_SickKids/jacobians/absolute/sub-1050004_ses-01_T1w.extracted_fwhm_4vox.mnc',\n",
       " 'data/human/derivatives/POND_SickKids/jacobians/absolute/sub-1050027_ses-01_run-03_T1w.extracted_fwhm_4vox.mnc',\n",
       " 'data/human/derivatives/POND_SickKids/jacobians/absolute/sub-1050032_ses-01_T1w.extracted_fwhm_4vox.mnc',\n",
       " 'data/human/derivatives/POND_SickKids/jacobians/absolute/sub-1050039_ses-01_T1w.extracted_fwhm_4vox.mnc',\n",
       " 'data/human/derivatives/POND_SickKids/jacobians/absolute/sub-1050040_ses-01_T1w.extracted_fwhm_4vox.mnc']"
      ]
     },
     "execution_count": 8,
     "metadata": {},
     "output_type": "execute_result"
    }
   ],
   "source": [
    "#Create output directory for absolute jacobian images\n",
    "imgdir_abs = os.path.join(human_basedir, 'jacobians', 'absolute', '')\n",
    "\n",
    "#Get image file names\n",
    "imgfiles_abs_dataset = df_demographics['File'].to_list()\n",
    "\n",
    "#Get image paths for images in the subset\n",
    "imgfiles_abs_dataset = [[f for f in imgfiles_abs if g in f][0] \n",
    "                        for g in imgfiles_abs_dataset]\n",
    "\n",
    "#Create symbolic links for subset images to the subset directory\n",
    "imgfiles_abs = utils.mk_symlinks(src = imgfiles_abs_dataset,\n",
    "                                 dst = imgdir_abs)\n",
    "imgfiles_abs[:5]"
   ]
  },
  {
   "cell_type": "markdown",
   "id": "ce498a33",
   "metadata": {},
   "source": [
    "## Create symlinks to relative jacobian images"
   ]
  },
  {
   "cell_type": "code",
   "execution_count": 9,
   "id": "31c9a15d",
   "metadata": {},
   "outputs": [
    {
     "data": {
      "text/plain": [
       "['data/human/derivatives/POND_SickKids/jacobians/relative/sub-1050004_ses-01_T1w.extracted_fwhm_4vox.mnc',\n",
       " 'data/human/derivatives/POND_SickKids/jacobians/relative/sub-1050027_ses-01_run-03_T1w.extracted_fwhm_4vox.mnc',\n",
       " 'data/human/derivatives/POND_SickKids/jacobians/relative/sub-1050032_ses-01_T1w.extracted_fwhm_4vox.mnc',\n",
       " 'data/human/derivatives/POND_SickKids/jacobians/relative/sub-1050039_ses-01_T1w.extracted_fwhm_4vox.mnc',\n",
       " 'data/human/derivatives/POND_SickKids/jacobians/relative/sub-1050040_ses-01_T1w.extracted_fwhm_4vox.mnc']"
      ]
     },
     "execution_count": 9,
     "metadata": {},
     "output_type": "execute_result"
    }
   ],
   "source": [
    "#Create output directory for absolute jacobian images\n",
    "imgdir_rel = os.path.join(human_basedir, 'jacobians', 'relative', '')\n",
    "\n",
    "#Get image file names\n",
    "imgfiles_rel_dataset = df_demographics['File'].to_list()\n",
    "\n",
    "#Get image paths for images in the subset\n",
    "imgfiles_rel_dataset = [[f for f in imgfiles_rel if g in f][0] \n",
    "                        for g in imgfiles_rel_dataset]\n",
    "\n",
    "#Create symbolic links for subset images to the subset directory\n",
    "imgfiles_rel = utils.mk_symlinks(src = imgfiles_rel_dataset,\n",
    "                                 dst = imgdir_rel)\n",
    "imgfiles_rel[:5]"
   ]
  },
  {
   "cell_type": "markdown",
   "id": "c4185bf5",
   "metadata": {},
   "source": [
    "---\n",
    "\n",
    "# Calculating human participant effect sizes"
   ]
  },
  {
   "cell_type": "code",
   "execution_count": 10,
   "id": "b0e856a1",
   "metadata": {},
   "outputs": [],
   "source": [
    "# Path to the mask image to use\n",
    "maskfile = 'data/human/registration/reference_files/mask.mnc'\n",
    "\n",
    "# Number of controls to use for propensity matching\n",
    "ncontrols = 10"
   ]
  },
  {
   "cell_type": "markdown",
   "id": "e479a100",
   "metadata": {},
   "source": [
    "## Absolute jacobian effect sizes"
   ]
  },
  {
   "cell_type": "code",
   "execution_count": 11,
   "id": "e33a2e88",
   "metadata": {},
   "outputs": [
    {
     "data": {
      "text/plain": [
       "'data/human/derivatives/POND_SickKids/effect_sizes/absolute/resolution_0.5_ncontrols_10/'"
      ]
     },
     "execution_count": 11,
     "metadata": {},
     "output_type": "execute_result"
    }
   ],
   "source": [
    "#Output directory\n",
    "es_dir_abs = os.path.join(human_basedir, \n",
    "                          'effect_sizes', \n",
    "                          'absolute',\n",
    "                          'resolution_0.5_ncontrols_{}'.format(ncontrols),\n",
    "                          '')\n",
    "es_dir_abs"
   ]
  },
  {
   "cell_type": "code",
   "execution_count": 12,
   "id": "910883a1",
   "metadata": {},
   "outputs": [
    {
     "data": {
      "text/plain": [
       "['data/human/derivatives/POND_SickKids/effect_sizes/absolute/resolution_0.5_ncontrols_10/sub-3940220_ses-01_T1w.extracted_fwhm_4vox.mnc',\n",
       " 'data/human/derivatives/POND_SickKids/effect_sizes/absolute/resolution_0.5_ncontrols_10/sub-0880650_ses-01_T1w.extracted_fwhm_4vox.mnc',\n",
       " 'data/human/derivatives/POND_SickKids/effect_sizes/absolute/resolution_0.5_ncontrols_10/sub-1050633_ses-01_T1w.extracted_fwhm_4vox.mnc',\n",
       " 'data/human/derivatives/POND_SickKids/effect_sizes/absolute/resolution_0.5_ncontrols_10/d8_0041_03.extracted_fwhm_4vox.mnc',\n",
       " 'data/human/derivatives/POND_SickKids/effect_sizes/absolute/resolution_0.5_ncontrols_10/sub-0880409_ses-01_T1w.extracted_fwhm_4vox.mnc']"
      ]
     },
     "execution_count": 12,
     "metadata": {},
     "output_type": "execute_result"
    }
   ],
   "source": [
    "# Calculate effect size images using absolute Jacobians\n",
    "# es_files_abs = processing.calculate_human_effect_sizes(demographics = demographics,\n",
    "#                                                        imgdir = imgdir_abs,\n",
    "#                                                        maskfile = maskfile,\n",
    "#                                                        outdir = es_dir_abs, \n",
    "#                                                        ncontrols = ncontrols,\n",
    "#                                                        parallel = True,\n",
    "#                                                        nproc = 4)\n",
    "\n",
    "es_files_abs = glob(es_dir_abs+'*.mnc')\n",
    "es_files_abs[:5]"
   ]
  },
  {
   "cell_type": "markdown",
   "id": "b58ec229",
   "metadata": {},
   "source": [
    "## Relative jacobian effect sizes"
   ]
  },
  {
   "cell_type": "code",
   "execution_count": 13,
   "id": "9a35e402",
   "metadata": {},
   "outputs": [
    {
     "data": {
      "text/plain": [
       "'data/human/derivatives/POND_SickKids/effect_sizes/relative/resolution_0.5_ncontrols_10/'"
      ]
     },
     "execution_count": 13,
     "metadata": {},
     "output_type": "execute_result"
    }
   ],
   "source": [
    "#Output directory\n",
    "es_dir_rel = os.path.join(human_basedir, \n",
    "                          'effect_sizes', \n",
    "                          'relative',\n",
    "                          'resolution_0.5_ncontrols_{}'.format(ncontrols),\n",
    "                          '')\n",
    "es_dir_rel"
   ]
  },
  {
   "cell_type": "code",
   "execution_count": 14,
   "id": "5cff88d8",
   "metadata": {},
   "outputs": [
    {
     "data": {
      "text/plain": [
       "['data/human/derivatives/POND_SickKids/effect_sizes/relative/resolution_0.5_ncontrols_10/sub-0880669_ses-01_T1w.extracted_fwhm_4vox.mnc',\n",
       " 'data/human/derivatives/POND_SickKids/effect_sizes/relative/resolution_0.5_ncontrols_10/sub-1050697_ses-01_T1w.extracted_fwhm_4vox.mnc',\n",
       " 'data/human/derivatives/POND_SickKids/effect_sizes/relative/resolution_0.5_ncontrols_10/sub-1050398_ses-01_T1w.extracted_fwhm_4vox.mnc',\n",
       " 'data/human/derivatives/POND_SickKids/effect_sizes/relative/resolution_0.5_ncontrols_10/sub-1140319_ses-01_run-01_T1w.extracted_fwhm_4vox.mnc',\n",
       " 'data/human/derivatives/POND_SickKids/effect_sizes/relative/resolution_0.5_ncontrols_10/sub-0881203_ses-01_T1w.extracted_fwhm_4vox.mnc']"
      ]
     },
     "execution_count": 14,
     "metadata": {},
     "output_type": "execute_result"
    }
   ],
   "source": [
    "# Calculate effect size images using relative Jacobians\n",
    "# es_files_rel = processing.calculate_human_effect_sizes(demographics = demographics,\n",
    "#                                                        imgdir = imgdir_rel,\n",
    "#                                                        maskfile = maskfile,\n",
    "#                                                        outdir = es_dir_rel, \n",
    "#                                                        ncontrols = ncontrols,\n",
    "#                                                        parallel = True,\n",
    "#                                                        nproc = 4)\n",
    "\n",
    "es_files_rel = glob(es_dir_rel+'*.mnc')\n",
    "es_files_rel[:5]"
   ]
  },
  {
   "cell_type": "markdown",
   "id": "d21265ff",
   "metadata": {},
   "source": [
    "# Downsampling the effect size images"
   ]
  },
  {
   "cell_type": "markdown",
   "id": "ba5f5332",
   "metadata": {},
   "source": [
    "## Downsampling absolute effect size images to 3.0mm"
   ]
  },
  {
   "cell_type": "code",
   "execution_count": 15,
   "id": "4f511070",
   "metadata": {},
   "outputs": [],
   "source": [
    "# Resolution (mm) to which we want to downsample\n",
    "isostep = 3.0"
   ]
  },
  {
   "cell_type": "code",
   "execution_count": 16,
   "id": "3239e7d7",
   "metadata": {},
   "outputs": [
    {
     "data": {
      "text/plain": [
       "['data/human/derivatives/POND_SickKids/effect_sizes/absolute/resolution_3.0_ncontrols_10/sub-1050401_ses-01_T1w.extracted_fwhm_4vox.mnc',\n",
       " 'data/human/derivatives/POND_SickKids/effect_sizes/absolute/resolution_3.0_ncontrols_10/sub-0881008_ses-01_T1w.extracted_fwhm_4vox.mnc',\n",
       " 'data/human/derivatives/POND_SickKids/effect_sizes/absolute/resolution_3.0_ncontrols_10/sub-1050189_ses-01_T1w.extracted_fwhm_4vox.mnc',\n",
       " 'data/human/derivatives/POND_SickKids/effect_sizes/absolute/resolution_3.0_ncontrols_10/sub-1050284_ses-01_T1w.extracted_fwhm_4vox.mnc',\n",
       " 'data/human/derivatives/POND_SickKids/effect_sizes/absolute/resolution_3.0_ncontrols_10/sub-0881012_ses-01_T1w.extracted_fwhm_4vox.mnc']"
      ]
     },
     "execution_count": 16,
     "metadata": {},
     "output_type": "execute_result"
    }
   ],
   "source": [
    "# Create a separate output directory for downsampled images\n",
    "es_dir_abs_downsampled_3mm = sub(r'resolution_0.5',\n",
    "                                 'resolution_{}'.format(isostep),\n",
    "                                 es_dir_abs)\n",
    "\n",
    "# Downsample absolute effect size images\n",
    "# es_files_abs_downsampled_3mm = processing.resample_images(infiles = es_files_abs,\n",
    "#                                                           isostep = isostep,\n",
    "#                                                           outdir = es_dir_abs_downsampled_3mm,\n",
    "#                                                           parallel = True,\n",
    "#                                                           nproc = 8)\n",
    "\n",
    "es_files_abs_downsampled_3mm = glob(es_dir_abs_downsampled_3mm+'*.mnc')\n",
    "es_files_abs_downsampled_3mm[:5]"
   ]
  },
  {
   "cell_type": "markdown",
   "id": "d4b0e03d",
   "metadata": {},
   "source": [
    "## Downsampling relative effect size images to 3.0mm"
   ]
  },
  {
   "cell_type": "code",
   "execution_count": 17,
   "id": "44bebc6c",
   "metadata": {},
   "outputs": [
    {
     "data": {
      "text/plain": [
       "['data/human/derivatives/POND_SickKids/effect_sizes/relative/resolution_3.0_ncontrols_10/d8_0028_03.extracted_fwhm_4vox.mnc',\n",
       " 'data/human/derivatives/POND_SickKids/effect_sizes/relative/resolution_3.0_ncontrols_10/sub-3940257_ses-01_T1w.extracted_fwhm_4vox.mnc',\n",
       " 'data/human/derivatives/POND_SickKids/effect_sizes/relative/resolution_3.0_ncontrols_10/sub-0880250_ses-01_T1w.extracted_fwhm_4vox.mnc',\n",
       " 'data/human/derivatives/POND_SickKids/effect_sizes/relative/resolution_3.0_ncontrols_10/sub-0881189_ses-01_run-01_T1w.extracted_fwhm_4vox.mnc',\n",
       " 'data/human/derivatives/POND_SickKids/effect_sizes/relative/resolution_3.0_ncontrols_10/sub-1050229_ses-01_T1w.extracted_fwhm_4vox.mnc']"
      ]
     },
     "execution_count": 17,
     "metadata": {},
     "output_type": "execute_result"
    }
   ],
   "source": [
    "# Create a separate output directory for downsampled images\n",
    "es_dir_rel_downsampled_3mm = sub(r'resolution_0.5',\n",
    "                                 'resolution_{}'.format(isostep),\n",
    "                                 es_dir_rel)\n",
    "\n",
    "# Downsample relative effect size images\n",
    "# es_files_rel_downsampled_3mm = processing.resample_images(infiles = es_files_rel,\n",
    "#                                                           isostep = isostep,\n",
    "#                                                           outdir = es_dir_rel_downsampled_3mm,\n",
    "#                                                           parallel = True,\n",
    "#                                                           nproc = 8)\n",
    "\n",
    "es_files_rel_downsampled_3mm = glob(es_dir_rel_downsampled_3mm+'*.mnc')\n",
    "es_files_rel_downsampled_3mm[:5]"
   ]
  },
  {
   "cell_type": "markdown",
   "id": "57a5d371",
   "metadata": {},
   "source": [
    "# Downsampling auxiliary imaging files"
   ]
  },
  {
   "cell_type": "code",
   "execution_count": 34,
   "id": "1344707f",
   "metadata": {},
   "outputs": [],
   "source": [
    "# Path to the neuroanatomical template image\n",
    "model = 'data/human/registration/reference_files/model.mnc'\n",
    "\n",
    "# Path to the mask image\n",
    "mask = 'data/human/registration/reference_files/mask.mnc'\n",
    "\n",
    "# # Downsample the template to 3.0 mm\n",
    "# model_3mm = processing.resample_image(infile = model,\n",
    "#                                       isostep = 3.0,\n",
    "#                                       suffix = '_3.0mm')\n",
    "\n",
    "# # Downsample the mask to 3.0 mm\n",
    "# mask_3mm = processing.resample_image(infile = mask,\n",
    "#                                      isostep = 3.0,\n",
    "#                                      suffix = '_3.0mm')"
   ]
  },
  {
   "cell_type": "markdown",
   "id": "d67b3f69",
   "metadata": {},
   "source": [
    "---\n",
    "\n",
    "# Clustering the participants\n",
    "\n",
    "## Creating effect size matrices\n",
    "\n",
    "### Absolute effect size matrix"
   ]
  },
  {
   "cell_type": "code",
   "execution_count": 19,
   "id": "3aa3d5d1",
   "metadata": {},
   "outputs": [],
   "source": [
    "# File in which to save the absolute effect size matrix\n",
    "es_abs_matrix_csv = 'ES_jacobians_absolute_resolution_{}_ncontrols_{}.csv'.format(isostep, ncontrols)\n",
    "es_abs_matrix_csv = os.path.join(es_dir_abs_downsampled_3mm, es_abs_matrix_csv)\n",
    "\n",
    "# # Compute the absolute effect size matrix\n",
    "# df_es_abs = processing.build_voxel_matrix(infiles = es_files_abs_downsampled_3mm,\n",
    "#                                           mask = mask_3mm,\n",
    "#                                           sort = True,\n",
    "#                                           file_col = True,\n",
    "#                                           parallel = False,\n",
    "#                                           nproc = 2)\n",
    "\n",
    "# # Extract file base names from paths\n",
    "# df_es_abs['file'] = [os.path.basename(file) for file in df_es_abs['file']]\n",
    "\n",
    "# # Write to file\n",
    "# df_es_abs.to_csv(es_abs_matrix_csv, index = False)"
   ]
  },
  {
   "cell_type": "markdown",
   "id": "f13e6f07",
   "metadata": {},
   "source": [
    "### Relative effect size matrix"
   ]
  },
  {
   "cell_type": "code",
   "execution_count": 20,
   "id": "e03ac434",
   "metadata": {},
   "outputs": [],
   "source": [
    "# File in which to save the relative effect size matrix\n",
    "es_rel_matrix_csv = 'ES_jacobians_relative_resolution_{}_ncontrols_{}.csv'.format(isostep, ncontrols)\n",
    "es_rel_matrix_csv = os.path.join(es_dir_rel_downsampled_3mm, es_rel_matrix_csv)\n",
    "\n",
    "# # Compute the relative effect size matrix\n",
    "# df_es_rel = processing.build_voxel_matrix(infiles = es_files_rel_downsampled_3mm,\n",
    "#                                           mask = mask_3mm,\n",
    "#                                           sort = True,\n",
    "#                                           file_col = True,\n",
    "#                                           parallel = False,\n",
    "#                                           nproc = 2)\n",
    "\n",
    "# # Extract file base names from paths\n",
    "# df_es_rel['file'] = [os.path.basename(file) for file in df_es_rel['file']]\n",
    "\n",
    "# # Write to file\n",
    "# df_es_rel.to_csv(es_rel_matrix_csv, index = False)"
   ]
  },
  {
   "cell_type": "markdown",
   "id": "a8dfed53",
   "metadata": {},
   "source": [
    "# Clustering the participants"
   ]
  },
  {
   "cell_type": "code",
   "execution_count": 21,
   "id": "ba278467",
   "metadata": {},
   "outputs": [],
   "source": [
    "infiles = [es_abs_matrix_csv, es_rel_matrix_csv]\n",
    "nk_max = 10\n",
    "metric = 'correlation'\n",
    "K = 10\n",
    "sigma = 0.5\n",
    "t = 20\n",
    "\n",
    "cluster_basedir = os.path.join(human_basedir, 'clusters')\n",
    "cluster_params = {'es_ncontrols':ncontrols,\n",
    "                 'clust_resolution':isostep,\n",
    "                 'clust_nk_max':nk_max,\n",
    "                 'clust_metric':metric,\n",
    "                 'clust_K':K,\n",
    "                 'clust_sigma':sigma,\n",
    "                 'clust_t':t}\n",
    "\n",
    "(cluster_dir, cluster_metadata) = utils.mkdir_from_params(params = cluster_params,\n",
    "                                                            basedir = cluster_basedir,\n",
    "                                                            return_metadata = True)\n",
    "\n",
    "cluster_file = os.path.join(cluster_dir, 'human_clusters.csv')"
   ]
  },
  {
   "cell_type": "code",
   "execution_count": 22,
   "id": "7acec917",
   "metadata": {},
   "outputs": [
    {
     "name": "stderr",
     "output_type": "stream",
     "text": [
      "Importing data...\n",
      "Running similarity network fusion...\n",
      "Assigning clusters...\n"
     ]
    },
    {
     "data": {
      "text/html": [
       "<div>\n",
       "<style scoped>\n",
       "    .dataframe tbody tr th:only-of-type {\n",
       "        vertical-align: middle;\n",
       "    }\n",
       "\n",
       "    .dataframe tbody tr th {\n",
       "        vertical-align: top;\n",
       "    }\n",
       "\n",
       "    .dataframe thead th {\n",
       "        text-align: right;\n",
       "    }\n",
       "</style>\n",
       "<table border=\"1\" class=\"dataframe\">\n",
       "  <thead>\n",
       "    <tr style=\"text-align: right;\">\n",
       "      <th></th>\n",
       "      <th>ID</th>\n",
       "      <th>nk2</th>\n",
       "      <th>nk3</th>\n",
       "      <th>nk4</th>\n",
       "      <th>nk5</th>\n",
       "      <th>nk6</th>\n",
       "      <th>nk7</th>\n",
       "      <th>nk8</th>\n",
       "      <th>nk9</th>\n",
       "      <th>nk10</th>\n",
       "    </tr>\n",
       "  </thead>\n",
       "  <tbody>\n",
       "    <tr>\n",
       "      <th>0</th>\n",
       "      <td>d8_0001_04.extracted_fwhm_4vox.mnc</td>\n",
       "      <td>1</td>\n",
       "      <td>1</td>\n",
       "      <td>2</td>\n",
       "      <td>2</td>\n",
       "      <td>3</td>\n",
       "      <td>6</td>\n",
       "      <td>8</td>\n",
       "      <td>8</td>\n",
       "      <td>5</td>\n",
       "    </tr>\n",
       "    <tr>\n",
       "      <th>1</th>\n",
       "      <td>d8_0002_03.extracted_fwhm_4vox.mnc</td>\n",
       "      <td>1</td>\n",
       "      <td>1</td>\n",
       "      <td>1</td>\n",
       "      <td>1</td>\n",
       "      <td>1</td>\n",
       "      <td>7</td>\n",
       "      <td>3</td>\n",
       "      <td>2</td>\n",
       "      <td>9</td>\n",
       "    </tr>\n",
       "    <tr>\n",
       "      <th>2</th>\n",
       "      <td>d8_0003_02.extracted_fwhm_4vox.mnc</td>\n",
       "      <td>1</td>\n",
       "      <td>1</td>\n",
       "      <td>2</td>\n",
       "      <td>5</td>\n",
       "      <td>5</td>\n",
       "      <td>2</td>\n",
       "      <td>5</td>\n",
       "      <td>6</td>\n",
       "      <td>10</td>\n",
       "    </tr>\n",
       "    <tr>\n",
       "      <th>3</th>\n",
       "      <td>d8_0004_01.extracted_fwhm_4vox.mnc</td>\n",
       "      <td>1</td>\n",
       "      <td>1</td>\n",
       "      <td>1</td>\n",
       "      <td>2</td>\n",
       "      <td>3</td>\n",
       "      <td>6</td>\n",
       "      <td>8</td>\n",
       "      <td>8</td>\n",
       "      <td>5</td>\n",
       "    </tr>\n",
       "    <tr>\n",
       "      <th>4</th>\n",
       "      <td>d8_0006_03.extracted_fwhm_4vox.mnc</td>\n",
       "      <td>1</td>\n",
       "      <td>1</td>\n",
       "      <td>2</td>\n",
       "      <td>5</td>\n",
       "      <td>5</td>\n",
       "      <td>2</td>\n",
       "      <td>5</td>\n",
       "      <td>6</td>\n",
       "      <td>10</td>\n",
       "    </tr>\n",
       "  </tbody>\n",
       "</table>\n",
       "</div>"
      ],
      "text/plain": [
       "                                   ID  nk2  nk3  nk4  nk5  nk6  nk7  nk8  nk9  \\\n",
       "0  d8_0001_04.extracted_fwhm_4vox.mnc    1    1    2    2    3    6    8    8   \n",
       "1  d8_0002_03.extracted_fwhm_4vox.mnc    1    1    1    1    1    7    3    2   \n",
       "2  d8_0003_02.extracted_fwhm_4vox.mnc    1    1    2    5    5    2    5    6   \n",
       "3  d8_0004_01.extracted_fwhm_4vox.mnc    1    1    1    2    3    6    8    8   \n",
       "4  d8_0006_03.extracted_fwhm_4vox.mnc    1    1    2    5    5    2    5    6   \n",
       "\n",
       "   nk10  \n",
       "0     5  \n",
       "1     9  \n",
       "2    10  \n",
       "3     5  \n",
       "4    10  "
      ]
     },
     "execution_count": 22,
     "metadata": {},
     "output_type": "execute_result"
    }
   ],
   "source": [
    "# df_clusters = processing.cluster_human_data(infiles = infiles,\n",
    "#                                             rownames = 'file',\n",
    "#                                             nk_max = nk_max,\n",
    "#                                             metric = metric,\n",
    "#                                             K = K,\n",
    "#                                             sigma = sigma,\n",
    "#                                             t = t,\n",
    "#                                             cluster_file = cluster_file)\n",
    "\n",
    "# df_clusters.head()"
   ]
  },
  {
   "cell_type": "markdown",
   "id": "f6842815",
   "metadata": {},
   "source": [
    "**To-do**: Implement W-matrix in clustering"
   ]
  },
  {
   "cell_type": "markdown",
   "id": "26fdbc61",
   "metadata": {},
   "source": [
    "# Create cluster maps"
   ]
  },
  {
   "cell_type": "markdown",
   "id": "f66a7807",
   "metadata": {},
   "source": [
    "## Downsampling absolute effect size images to 1.0mm"
   ]
  },
  {
   "cell_type": "code",
   "execution_count": 27,
   "id": "96808e3f",
   "metadata": {},
   "outputs": [],
   "source": [
    "# Resolution (mm) to which we want to downsample\n",
    "isostep = 1.0"
   ]
  },
  {
   "cell_type": "code",
   "execution_count": 31,
   "id": "bed04d9c",
   "metadata": {},
   "outputs": [
    {
     "name": "stderr",
     "output_type": "stream",
     "text": [
      "100%|█████████████████████████████████████████████████████████████████████████████████████| 424/424 [10:13<00:00,  1.45s/it]\n"
     ]
    },
    {
     "data": {
      "text/plain": [
       "['data/human/derivatives/POND_SickKids/effect_sizes/absolute/resolution_1.0_ncontrols_10/sub-1050395_ses-01_T1w.extracted_fwhm_4vox.mnc',\n",
       " 'data/human/derivatives/POND_SickKids/effect_sizes/absolute/resolution_1.0_ncontrols_10/sub-1050724_ses-01_run-02_T1w.extracted_fwhm_4vox.mnc',\n",
       " 'data/human/derivatives/POND_SickKids/effect_sizes/absolute/resolution_1.0_ncontrols_10/sub-3940119_ses-01_T1w.extracted_fwhm_4vox.mnc',\n",
       " 'data/human/derivatives/POND_SickKids/effect_sizes/absolute/resolution_1.0_ncontrols_10/d8_0335_01.extracted_fwhm_4vox.mnc',\n",
       " 'data/human/derivatives/POND_SickKids/effect_sizes/absolute/resolution_1.0_ncontrols_10/sub-3940340_ses-01_T1w.extracted_fwhm_4vox.mnc']"
      ]
     },
     "execution_count": 31,
     "metadata": {},
     "output_type": "execute_result"
    }
   ],
   "source": [
    "# Create a separate output directory for downsampled images\n",
    "es_dir_abs_1mm = sub(r'resolution_0.5',\n",
    "                     'resolution_{}'.format(isostep),\n",
    "                     es_dir_abs)\n",
    "\n",
    "# Downsample absolute effect size images\n",
    "es_files_abs_1mm = processing.resample_images(infiles = es_files_abs,\n",
    "                                              isostep = isostep,\n",
    "                                              outdir = es_dir_abs_1mm,\n",
    "                                              parallel = True,\n",
    "                                              nproc = 8)\n",
    "\n",
    "es_files_abs_1mm = glob(es_dir_abs_1mm+'*.mnc')\n",
    "es_files_abs_1mm[:5]"
   ]
  },
  {
   "cell_type": "markdown",
   "id": "0bb1fe17",
   "metadata": {},
   "source": [
    "## Downsampling relative effect size images to 3.0mm"
   ]
  },
  {
   "cell_type": "code",
   "execution_count": 32,
   "id": "85b8f819",
   "metadata": {},
   "outputs": [
    {
     "name": "stderr",
     "output_type": "stream",
     "text": [
      "100%|█████████████████████████████████████████████████████████████████████████████████████| 424/424 [10:15<00:00,  1.45s/it]\n"
     ]
    },
    {
     "data": {
      "text/plain": [
       "['data/human/derivatives/POND_SickKids/effect_sizes/relative/resolution_1.0_ncontrols_10/sub-1050633_ses-01_T1w.extracted_fwhm_4vox.mnc',\n",
       " 'data/human/derivatives/POND_SickKids/effect_sizes/relative/resolution_1.0_ncontrols_10/d8_0209_01.extracted_fwhm_4vox.mnc',\n",
       " 'data/human/derivatives/POND_SickKids/effect_sizes/relative/resolution_1.0_ncontrols_10/sub-0880650_ses-01_T1w.extracted_fwhm_4vox.mnc',\n",
       " 'data/human/derivatives/POND_SickKids/effect_sizes/relative/resolution_1.0_ncontrols_10/sub-1050826_ses-01_run-01_T1w.extracted_fwhm_4vox.mnc',\n",
       " 'data/human/derivatives/POND_SickKids/effect_sizes/relative/resolution_1.0_ncontrols_10/sub-0880136_ses-01_run-02_T1w.extracted_fwhm_4vox.mnc']"
      ]
     },
     "execution_count": 32,
     "metadata": {},
     "output_type": "execute_result"
    }
   ],
   "source": [
    "# Create a separate output directory for downsampled images\n",
    "es_dir_rel_1mm = sub(r'resolution_0.5',\n",
    "                     'resolution_{}'.format(isostep),\n",
    "                     es_dir_rel)\n",
    "\n",
    "# Downsample relative effect size images\n",
    "es_files_rel_1mm = processing.resample_images(infiles = es_files_rel,\n",
    "                                              isostep = isostep,\n",
    "                                              outdir = es_dir_rel_1mm,\n",
    "                                              parallel = True,\n",
    "                                              nproc = 8)\n",
    "\n",
    "es_files_rel_1mm = glob(es_dir_rel_1mm+'*.mnc')\n",
    "es_files_rel_1mm[:5]"
   ]
  },
  {
   "cell_type": "markdown",
   "id": "23331a46",
   "metadata": {},
   "source": [
    "# Downsampling auxiliary imaging files"
   ]
  },
  {
   "cell_type": "code",
   "execution_count": 35,
   "id": "b308c8e2",
   "metadata": {},
   "outputs": [],
   "source": [
    "# Downsample the template to 3.0 mm\n",
    "model_1mm = processing.resample_image(infile = model,\n",
    "                                      isostep = 1.0,\n",
    "                                      suffix = '_1.0mm')\n",
    "\n",
    "# Downsample the mask to 3.0 mm\n",
    "mask_1mm = processing.resample_image(infile = mask,\n",
    "                                     isostep = 1.0,\n",
    "                                     suffix = '_1.0mm')"
   ]
  },
  {
   "cell_type": "markdown",
   "id": "c4959b91",
   "metadata": {},
   "source": [
    "## Create absolute cluster maps"
   ]
  },
  {
   "cell_type": "code",
   "execution_count": 46,
   "id": "349f1138",
   "metadata": {},
   "outputs": [
    {
     "data": {
      "text/plain": [
       "'data/human/derivatives/POND_SickKids/cluster_maps/absolute/380-581/'"
      ]
     },
     "execution_count": 46,
     "metadata": {},
     "output_type": "execute_result"
    }
   ],
   "source": [
    "df_cluster_metadata  = pd.read_csv(cluster_metadata)\n",
    "df_cluster_params = pd.DataFrame(cluster_params, index = [0])\n",
    "df_cluster_params = pd.merge(df_cluster_metadata, df_cluster_params, how = 'inner')\n",
    "cluster_id = str(df_cluster_params['id'].values[0])\n",
    "\n",
    "cluster_map_params = cluster_params.copy()\n",
    "cluster_map_params['clust_map_method'] = 'mean'\n",
    "\n",
    "cluster_map_id = '-'.join([cluster_id, utils.random_id(3)])\n",
    "\n",
    "cluster_map_basedir = os.path.join(human_basedir, 'cluster_maps')\n",
    "cluster_map_basedir_abs = os.path.join(cluster_map_basedir, 'absolute')\n",
    "\n",
    "(cluster_map_dir_abs, metadata_cluster_map) = utils.mkdir_from_params(params = cluster_map_params, \n",
    "                                                                      basedir = cluster_map_basedir_abs,\n",
    "                                                                      params_id = cluster_map_id,\n",
    "                                                                      return_metadata = True)\n",
    "cluster_map_dir_abs"
   ]
  },
  {
   "cell_type": "code",
   "execution_count": 39,
   "id": "3ce6bef2",
   "metadata": {},
   "outputs": [
    {
     "data": {
      "text/plain": [
       "['data/human/derivatives/POND_SickKids/cluster_maps/absolute/380-581/cluster_map_nk_9_k_2_mean.mnc',\n",
       " 'data/human/derivatives/POND_SickKids/cluster_maps/absolute/380-581/cluster_map_nk_4_k_3_mean.mnc',\n",
       " 'data/human/derivatives/POND_SickKids/cluster_maps/absolute/380-581/cluster_map_nk_5_k_3_mean.mnc',\n",
       " 'data/human/derivatives/POND_SickKids/cluster_maps/absolute/380-581/cluster_map_nk_10_k_8_mean.mnc',\n",
       " 'data/human/derivatives/POND_SickKids/cluster_maps/absolute/380-581/cluster_map_nk_10_k_7_mean.mnc']"
      ]
     },
     "execution_count": 39,
     "metadata": {},
     "output_type": "execute_result"
    }
   ],
   "source": [
    "# cluster_maps_abs = processing.create_cluster_maps(clusters = cluster_file,\n",
    "#                                                   imgdir = es_dir_abs_1mm,\n",
    "#                                                   outdir = cluster_map_dir_abs,\n",
    "#                                                   method = 'mean',\n",
    "#                                                   mask = mask_1mm)\n",
    "\n",
    "cluster_maps_abs = glob(cluster_map_dir_abs+'*.mnc')\n",
    "cluster_maps_abs[:5]"
   ]
  },
  {
   "cell_type": "markdown",
   "id": "895452a3",
   "metadata": {},
   "source": [
    "## Create relative cluster maps"
   ]
  },
  {
   "cell_type": "code",
   "execution_count": 55,
   "id": "a0b84158",
   "metadata": {},
   "outputs": [],
   "source": [
    "df_cluster_map_metadata  = pd.read_csv(metadata_cluster_map)\n",
    "df_cluster_map_params = pd.DataFrame(cluster_map_params, index = [0])\n",
    "df_cluster_map_params = pd.merge(df_cluster_map_metadata, df_cluster_map_params, how = 'inner')\n",
    "cluster_id = str(df_cluster_map_params['id'].values[0])\n",
    "\n",
    "cluster_map_basedir_rel = os.path.join(cluster_map_basedir, 'relative')\n",
    "\n",
    "cluster_map_dir_rel = utils.mkdir_from_params(params = cluster_map_params,\n",
    "                                              basedir = cluster_map_basedir_rel,\n",
    "                                              params_id = cluster_id)"
   ]
  },
  {
   "cell_type": "code",
   "execution_count": 56,
   "id": "f8b392bb",
   "metadata": {},
   "outputs": [
    {
     "name": "stderr",
     "output_type": "stream",
     "text": [
      "Importing cluster information...\n",
      "Creating cluster maps...\n",
      "nk = 2 : k = 1\n",
      "nk = 2 : k = 2\n",
      "nk = 3 : k = 1\n",
      "nk = 3 : k = 2\n",
      "nk = 3 : k = 3\n",
      "nk = 4 : k = 1\n",
      "nk = 4 : k = 2\n",
      "nk = 4 : k = 3\n",
      "nk = 4 : k = 4\n",
      "nk = 5 : k = 1\n",
      "nk = 5 : k = 2\n",
      "nk = 5 : k = 3\n",
      "nk = 5 : k = 4\n",
      "nk = 5 : k = 5\n",
      "nk = 6 : k = 1\n",
      "nk = 6 : k = 2\n",
      "nk = 6 : k = 3\n",
      "nk = 6 : k = 4\n",
      "nk = 6 : k = 5\n",
      "nk = 6 : k = 6\n",
      "nk = 7 : k = 1\n",
      "nk = 7 : k = 2\n",
      "nk = 7 : k = 3\n",
      "nk = 7 : k = 4\n",
      "nk = 7 : k = 5\n",
      "nk = 7 : k = 6\n",
      "nk = 7 : k = 7\n",
      "nk = 8 : k = 1\n",
      "nk = 8 : k = 2\n",
      "nk = 8 : k = 3\n",
      "nk = 8 : k = 4\n",
      "nk = 8 : k = 5\n",
      "nk = 8 : k = 6\n",
      "nk = 8 : k = 7\n",
      "nk = 8 : k = 8\n",
      "nk = 9 : k = 1\n",
      "nk = 9 : k = 2\n",
      "nk = 9 : k = 3\n",
      "nk = 9 : k = 4\n",
      "nk = 9 : k = 5\n",
      "nk = 9 : k = 6\n",
      "nk = 9 : k = 7\n",
      "nk = 9 : k = 8\n",
      "nk = 9 : k = 9\n",
      "nk = 10 : k = 1\n",
      "nk = 10 : k = 2\n",
      "nk = 10 : k = 3\n",
      "nk = 10 : k = 4\n",
      "nk = 10 : k = 5\n",
      "nk = 10 : k = 6\n",
      "nk = 10 : k = 7\n",
      "nk = 10 : k = 8\n",
      "nk = 10 : k = 9\n",
      "nk = 10 : k = 10\n"
     ]
    },
    {
     "data": {
      "text/plain": [
       "['data/human/derivatives/POND_SickKids/cluster_maps/relative/380-581/cluster_map_nk_7_k_2_mean.mnc',\n",
       " 'data/human/derivatives/POND_SickKids/cluster_maps/relative/380-581/cluster_map_nk_10_k_5_mean.mnc',\n",
       " 'data/human/derivatives/POND_SickKids/cluster_maps/relative/380-581/cluster_map_nk_6_k_2_mean.mnc',\n",
       " 'data/human/derivatives/POND_SickKids/cluster_maps/relative/380-581/cluster_map_nk_9_k_3_mean.mnc',\n",
       " 'data/human/derivatives/POND_SickKids/cluster_maps/relative/380-581/cluster_map_nk_4_k_2_mean.mnc']"
      ]
     },
     "execution_count": 56,
     "metadata": {},
     "output_type": "execute_result"
    }
   ],
   "source": [
    "cluster_maps_rel = processing.create_cluster_maps(clusters = cluster_file,\n",
    "                                                  imgdir = es_dir_rel_1mm,\n",
    "                                                  outdir = cluster_map_dir_rel,\n",
    "                                                  method = 'mean',\n",
    "                                                  mask = mask_1mm)\n",
    "\n",
    "cluster_maps_rel = glob(cluster_map_dir_rel+'*.mnc')\n",
    "cluster_maps_rel[:5]"
   ]
  },
  {
   "cell_type": "code",
   "execution_count": 24,
   "id": "7776abc0",
   "metadata": {},
   "outputs": [],
   "source": [
    "# cluster_metadata = os.path.join(clustering_basedir, 'metadata.csv')\n",
    "# df_cluster_metadata = pd.read_csv(cluster_metadata)\n",
    "# df_cluster_metadata = df_cluster_metadata[(df_cluster_metadata['nk_max'] == nk_max) & \n",
    "#                                           (df_cluster_metadata['metric'] == metric) & \n",
    "#                                           (df_cluster_metadata['K'] == K) &\n",
    "#                                           (df_cluster_metadata['sigma'] == sigma) & \n",
    "#                                           (df_cluster_metadata['t'] == t)] "
   ]
  },
  {
   "cell_type": "markdown",
   "id": "877a5ab9",
   "metadata": {},
   "source": [
    "---"
   ]
  }
 ],
 "metadata": {
  "kernelspec": {
   "display_name": "Python 3 (ipykernel)",
   "language": "python",
   "name": "python3"
  },
  "language_info": {
   "codemirror_mode": {
    "name": "ipython",
    "version": 3
   },
   "file_extension": ".py",
   "mimetype": "text/x-python",
   "name": "python",
   "nbconvert_exporter": "python",
   "pygments_lexer": "ipython3",
   "version": "3.8.10"
  }
 },
 "nbformat": 4,
 "nbformat_minor": 5
}
