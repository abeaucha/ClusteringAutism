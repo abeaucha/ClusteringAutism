{
 "cells": [
  {
   "cell_type": "code",
   "execution_count": 76,
   "id": "2b8fc61c",
   "metadata": {},
   "outputs": [],
   "source": [
    "import os\n",
    "import pandas as pd\n",
    "import transcriptomic as tx\n",
    "from tqdm import tqdm"
   ]
  },
  {
   "cell_type": "code",
   "execution_count": 77,
   "id": "aa898096",
   "metadata": {},
   "outputs": [],
   "source": [
    "basedir = 'data/test/cross_species/v3/'\n",
    "param_ids = [394, 984]\n",
    "n_latent_spaces = 100\n",
    "\n",
    "run = False\n",
    "if run:\n",
    "    for param_id in param_ids:\n",
    "\n",
    "        print('Param ID: {}'.format(param_id))\n",
    "\n",
    "        pipeline_dir = os.path.join(basedir, str(param_id), 'similarity')\n",
    "        input_file = os.path.join(pipeline_dir, 'centroid_pairs.csv')\n",
    "\n",
    "        kwargs = dict(\n",
    "            species = ['human', 'mouse'],\n",
    "            expr = ['data/human/expression', 'data/mouse/expression'],\n",
    "            masks = ['data/human/registration/v3/reference_files/mask_0.8mm.mnc', 'data/mouse/atlas/coronal_200um_coverage_bin0.8.mnc'],\n",
    "            microarray_coords = 'data/human/expression/v3/AHBA_microarray_coordinates_study.csv',\n",
    "            gene_space = 'latent-space',\n",
    "            metric = 'correlation',\n",
    "            signed = True,\n",
    "            threshold = 'top_n',\n",
    "            threshold_value = 0.2,\n",
    "            threshold_symmetric = True,\n",
    "            return_signed = True,\n",
    "            verbose = False\n",
    "        )\n",
    "\n",
    "        # Import image pairs\n",
    "        df_imgs = pd.read_csv(input_file)\n",
    "        imgs = df_imgs.values.tolist()\n",
    "        imgs = [tuple(x) for x in imgs]\n",
    "        imgs = [x for x in imgs if 'nk_2_k_1' in x[0] and 'nk_2_k_1' in x[1]]\n",
    "        kwargs['imgs'] = imgs\n",
    "\n",
    "\n",
    "        results = []\n",
    "        for l in range(1, n_latent_spaces+1):\n",
    "            print('On latent space: {}'.format(l))\n",
    "            kwargs['latent_space_id'] = l\n",
    "            sim = tx.transcriptomic_similarity(**kwargs)\n",
    "            sim['latent_space'] = l\n",
    "            results.append(sim)\n",
    "        results = pd.concat(results)\n",
    "\n",
    "        output_file = 'similarity_latent_spaces.csv'\n",
    "        output_file = os.path.join(pipeline_dir, output_file)\n",
    "        results.to_csv(output_file, index = False)\n",
    "        print('\\n')"
   ]
  },
  {
   "cell_type": "code",
   "execution_count": 3,
   "id": "5fc1d54b",
   "metadata": {},
   "outputs": [],
   "source": [
    "# from functools import partial\n",
    "# import multiprocessing as mp\n",
    "\n",
    "# n_latent_spaces = 50\n",
    "# latent_spaces = range(1, n_latent_spaces+1)\n",
    "\n",
    "# iterator = partial(tx.transcriptomic_similarity, **kwargs)\n",
    "# iterator\n",
    "\n",
    "# pool = mp.Pool(8)\n",
    "# results = []\n",
    "# for x in tqdm(pool.imap(iterator, latent_spaces), total = n_latent_spaces):\n",
    "#     results.append(x)\n",
    "# pool.close()\n",
    "# pool.join()"
   ]
  },
  {
   "cell_type": "code",
   "execution_count": 78,
   "id": "12beab65",
   "metadata": {},
   "outputs": [],
   "source": [
    "param_ids\n",
    "basedir\n",
    "\n",
    "files = [os.path.join(basedir, str(id), 'similarity', 'similarity_latent_spaces.csv') for id in param_ids]\n",
    "files_avg = [os.path.join(basedir, str(id), 'similarity', 'similarity.csv') for id in param_ids]\n",
    "\n",
    "file = files[0]\n",
    "file_avg = files_avg[0]\n",
    "x = pd.read_csv(file)\n",
    "x_avg = pd.read_csv(file_avg)"
   ]
  },
  {
   "cell_type": "code",
   "execution_count": 79,
   "id": "64538fe1",
   "metadata": {},
   "outputs": [
    {
     "data": {
      "text/html": [
       "<div>\n",
       "<style scoped>\n",
       "    .dataframe tbody tr th:only-of-type {\n",
       "        vertical-align: middle;\n",
       "    }\n",
       "\n",
       "    .dataframe tbody tr th {\n",
       "        vertical-align: top;\n",
       "    }\n",
       "\n",
       "    .dataframe thead th {\n",
       "        text-align: right;\n",
       "    }\n",
       "</style>\n",
       "<table border=\"1\" class=\"dataframe\">\n",
       "  <thead>\n",
       "    <tr style=\"text-align: right;\">\n",
       "      <th></th>\n",
       "      <th>img1</th>\n",
       "      <th>img2</th>\n",
       "      <th>similarity</th>\n",
       "    </tr>\n",
       "  </thead>\n",
       "  <tbody>\n",
       "    <tr>\n",
       "      <th>4793</th>\n",
       "      <td>data/human/derivatives/v3/013/centroids/resolu...</td>\n",
       "      <td>data/mouse/derivatives/v3/107/centroids/resolu...</td>\n",
       "      <td>0.39766</td>\n",
       "    </tr>\n",
       "  </tbody>\n",
       "</table>\n",
       "</div>"
      ],
      "text/plain": [
       "                                                   img1  \\\n",
       "4793  data/human/derivatives/v3/013/centroids/resolu...   \n",
       "\n",
       "                                                   img2  similarity  \n",
       "4793  data/mouse/derivatives/v3/107/centroids/resolu...     0.39766  "
      ]
     },
     "execution_count": 79,
     "metadata": {},
     "output_type": "execute_result"
    }
   ],
   "source": [
    "ind_1 = x_avg['img1'].str.contains('nk_2_k_1')\n",
    "ind_2 = x_avg['img2'].str.contains('nk_2_k_1')\n",
    "ind = ind_1 & ind_2\n",
    "x_avg = x_avg.loc[ind]\n",
    "x_avg.loc[x_avg['img1'].str.contains('absolute')]"
   ]
  },
  {
   "cell_type": "code",
   "execution_count": 80,
   "id": "d0208c4a",
   "metadata": {},
   "outputs": [],
   "source": [
    "x_abs = x.loc[x['img1'].str.contains('absolute')]\n",
    "x_rel = x.loc[x['img1'].str.contains('relative')]"
   ]
  },
  {
   "cell_type": "code",
   "execution_count": 81,
   "id": "f4c03a99",
   "metadata": {},
   "outputs": [],
   "source": [
    "import matplotlib.pyplot as plt\n",
    "import numpy as np"
   ]
  },
  {
   "cell_type": "code",
   "execution_count": 84,
   "id": "ef2579f5",
   "metadata": {},
   "outputs": [
    {
     "data": {
      "image/png": "[encoded data removed]",
      "text/plain": [
       "<Figure size 640x480 with 1 Axes>"
      ]
     },
     "metadata": {},
     "output_type": "display_data"
    }
   ],
   "source": [
    "nbins = 20\n",
    "bins = np.linspace(0, 1, nbins)\n",
    "plt.hist(x_abs['similarity_pos'], bins, alpha = 0.5, label = 'positive')\n",
    "plt.hist(x_abs['similarity_neg'], bins, alpha = 0.5, label = 'negative')\n",
    "plt.legend()\n",
    "plt.show()"
   ]
  },
  {
   "cell_type": "code",
   "execution_count": 83,
   "id": "70643577",
   "metadata": {},
   "outputs": [
    {
     "name": "stdout",
     "output_type": "stream",
     "text": [
      "nan\n",
      "0.3976603996209417\n"
     ]
    }
   ],
   "source": [
    "print(x_abs['similarity_pos'].mean())\n",
    "print(x_abs['similarity_neg'].mean())"
   ]
  },
  {
   "cell_type": "code",
   "execution_count": 41,
   "id": "3f734503",
   "metadata": {},
   "outputs": [
    {
     "data": {
      "image/png": "[encoded data removed]",
      "text/plain": [
       "<Figure size 640x480 with 1 Axes>"
      ]
     },
     "metadata": {},
     "output_type": "display_data"
    }
   ],
   "source": [
    "nbins = 20\n",
    "bins = np.linspace(0, 1, nbins)\n",
    "plt.hist(x_rel['similarity_pos'], bins, alpha = 0.5, label = 'positive', edgecolor = 'black')\n",
    "plt.hist(x_rel['similarity_neg'], bins, alpha = 0.5, label = 'negative', edgecolor = 'black')\n",
    "plt.legend()\n",
    "plt.show()"
   ]
  },
  {
   "cell_type": "code",
   "execution_count": 75,
   "id": "30dca925",
   "metadata": {},
   "outputs": [
    {
     "name": "stdout",
     "output_type": "stream",
     "text": [
      "0.5678454717703323\n",
      "0.7404784999652617\n"
     ]
    }
   ],
   "source": []
  },
  {
   "cell_type": "code",
   "execution_count": null,
   "id": "4834be97",
   "metadata": {},
   "outputs": [],
   "source": []
  }
 ],
 "metadata": {
  "kernelspec": {
   "display_name": "Python 3 (ipykernel)",
   "language": "python",
   "name": "python3"
  },
  "language_info": {
   "codemirror_mode": {
    "name": "ipython",
    "version": 3
   },
   "file_extension": ".py",
   "mimetype": "text/x-python",
   "name": "python",
   "nbconvert_exporter": "python",
   "pygments_lexer": "ipython3",
   "version": "3.8.10"
  }
 },
 "nbformat": 4,
 "nbformat_minor": 5
}
