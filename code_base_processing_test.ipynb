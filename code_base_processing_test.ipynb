{
 "cells": [
  {
   "cell_type": "markdown",
   "id": "c93d6ec4",
   "metadata": {},
   "source": [
    "# Module: processing\n",
    "\n",
    "The purpose of this notebook is to test the processing modules.\n",
    "This will provide an example of how to use these modules in a pipeline."
   ]
  },
  {
   "cell_type": "code",
   "execution_count": 37,
   "id": "27e754d3",
   "metadata": {},
   "outputs": [],
   "source": [
    "from src import processing\n",
    "\n",
    "import os\n",
    "from glob import glob\n",
    "from re import sub\n",
    "import numpy as np"
   ]
  },
  {
   "cell_type": "markdown",
   "id": "e7d2125f",
   "metadata": {},
   "source": [
    "## Extracting compressed images\n",
    "\n",
    "The first part of this pipeline is to extract the images from compressed file formats. First we specify the directory containing the images we want to extract, then we generate a list of files to decompress. "
   ]
  },
  {
   "cell_type": "code",
   "execution_count": 7,
   "id": "fed57362",
   "metadata": {},
   "outputs": [
    {
     "data": {
      "text/plain": [
       "['data/human/registration/jacobians/absolute/smooth/d8_0148_01.extracted_fwhm_4vox.nii.gz',\n",
       " 'data/human/registration/jacobians/absolute/smooth/41014_T1.extracted_fwhm_4vox.nii.gz',\n",
       " 'data/human/registration/jacobians/absolute/smooth/d8_0393_01.extracted_fwhm_4vox.nii.gz',\n",
       " 'data/human/registration/jacobians/absolute/smooth/21054_T1.extracted_fwhm_4vox.nii.gz',\n",
       " 'data/human/registration/jacobians/absolute/smooth/d8_0204_01.extracted_fwhm_4vox.nii.gz']"
      ]
     },
     "execution_count": 7,
     "metadata": {},
     "output_type": "execute_result"
    }
   ],
   "source": [
    "#Directory containing compressed images\n",
    "input_dir = 'data/human/registration/jacobians/absolute/smooth/'\n",
    "input_dir = os.path.join(input_dir, '')\n",
    "\n",
    "#List of paths to compressed images\n",
    "input_files = glob(input_dir+'*.gz')\n",
    "input_files[:5]"
   ]
  },
  {
   "cell_type": "markdown",
   "id": "18eee70a",
   "metadata": {},
   "source": [
    "We can decompress a list of input files using the `gunzip_files()` function."
   ]
  },
  {
   "cell_type": "code",
   "execution_count": 8,
   "id": "caf49e96",
   "metadata": {},
   "outputs": [
    {
     "data": {
      "text/plain": [
       "['data/human/registration/jacobians/absolute/smooth/d8_0096_01.extracted_fwhm_4vox.nii',\n",
       " 'data/human/registration/jacobians/absolute/smooth/12013_T1.extracted_fwhm_4vox.nii',\n",
       " 'data/human/registration/jacobians/absolute/smooth/21045_T1.extracted_fwhm_4vox.nii',\n",
       " 'data/human/registration/jacobians/absolute/smooth/d8_0673_01.extracted_fwhm_4vox.nii',\n",
       " 'data/human/registration/jacobians/absolute/smooth/sub-1050792_ses-01_T1w.extracted_fwhm_4vox.nii']"
      ]
     },
     "execution_count": 8,
     "metadata": {},
     "output_type": "execute_result"
    }
   ],
   "source": [
    "# This seems to work as intended\n",
    "# unzipped_files = processing.gunzip_files(infiles = input_files, \n",
    "#                                          keep = True,\n",
    "#                                          parallel = True,\n",
    "#                                          nproc = 8)\n",
    "\n",
    "unzipped_files = glob(input_dir+'*.nii')\n",
    "unzipped_files[:5]"
   ]
  },
  {
   "cell_type": "markdown",
   "id": "b21bb9a4",
   "metadata": {},
   "source": [
    "The function returns a list containing the paths to the unzipped images. By default, the output directory is the same as the input directory."
   ]
  },
  {
   "cell_type": "markdown",
   "id": "ec7f5f59",
   "metadata": {},
   "source": [
    "***\n",
    "## Converting image formats\n",
    "\n",
    "The compressed files were in NIFTY format. We can keep these as is, or convert them to MINC format if we prefer. The `processing` module provides a tool for converting between these image formats: `convert_images()`. Like the `gunzip_files()` function, this function takes in a list of images to convert. We can also specify an output directory for the converted images."
   ]
  },
  {
   "cell_type": "code",
   "execution_count": 9,
   "id": "8c9dabd9",
   "metadata": {},
   "outputs": [
    {
     "data": {
      "text/plain": [
       "['data/human/registration/jacobians/absolute/smooth_minc/sub-1050811_ses-01_T1w.extracted_fwhm_4vox.mnc',\n",
       " 'data/human/registration/jacobians/absolute/smooth_minc/d8_0216_01.extracted_fwhm_4vox.mnc',\n",
       " 'data/human/registration/jacobians/absolute/smooth_minc/sub-1050869_ses-01_run-01_T1w.extracted_fwhm_4vox.mnc',\n",
       " 'data/human/registration/jacobians/absolute/smooth_minc/31030_T1.extracted_fwhm_4vox.mnc',\n",
       " 'data/human/registration/jacobians/absolute/smooth_minc/d8_0713_02.extracted_fwhm_4vox.mnc']"
      ]
     },
     "execution_count": 9,
     "metadata": {},
     "output_type": "execute_result"
    }
   ],
   "source": [
    "# Directory in which to save the converted images\n",
    "outdir = 'data/human/registration/jacobians/absolute/smooth_minc/'\n",
    "\n",
    "# This seems to work as intended\n",
    "# imgfiles = processing.convert_images(infiles = unzipped_files,\n",
    "#                                      input_format = 'nifty',\n",
    "#                                      output_format = 'minc',\n",
    "#                                      outdir = imgdir,\n",
    "#                                      keep = True,\n",
    "#                                      parallel = True,\n",
    "#                                      nproc = 8)\n",
    "\n",
    "imgfiles = glob(outdir+'*.mnc')\n",
    "imgfiles[:5]"
   ]
  },
  {
   "cell_type": "markdown",
   "id": "9d494683",
   "metadata": {},
   "source": [
    "Once again, the output of the function is a list containing the paths to the converted images. "
   ]
  },
  {
   "cell_type": "markdown",
   "id": "a9255d65",
   "metadata": {},
   "source": [
    "*** \n",
    "\n",
    "## Computing effect sizes\n",
    "\n",
    "For this particular project, once we've extracted the images, we want to calculate effect size images for the human participants in our study. We do so by identifying propensity-matched controls based on a number of features, and compute a voxel-wise z-score with respect to these controls. \n",
    "\n",
    "The `processing` module provides a function to do just this: `calculate_human_effect_sizes()`. This function takes a number of input parameters, including a CSV file containing the demographic information for the participants, a mask image, the number of controls to use, and more."
   ]
  },
  {
   "cell_type": "code",
   "execution_count": 10,
   "id": "05fc502d",
   "metadata": {},
   "outputs": [],
   "source": [
    "# The directory containing the images to use is the output directory from the previous step\n",
    "imgdir = outdir\n",
    "\n",
    "# Path to the demographics file\n",
    "demographics = 'data/human/registration/DBM_input_demo_passedqc.csv'\n",
    "\n",
    "# Path to the mask image to use\n",
    "maskfile = 'data/human/registration/reference_files/mask.mnc'\n",
    "\n",
    "# Option to specify which data to use\n",
    "dataset = 1\n",
    "\n",
    "# Number of controls to use for propensity matching\n",
    "ncontrols = 10\n",
    "\n",
    "# Lower bound on the number of matched controls before the matching criteria are relaxed\n",
    "threshold = 5"
   ]
  },
  {
   "cell_type": "markdown",
   "id": "415e141d",
   "metadata": {},
   "source": [
    "Let's create an output directory in which to store these effect sizes. We'll write some of the parameters into the name of the directory, to keep track of what we've done."
   ]
  },
  {
   "cell_type": "code",
   "execution_count": 12,
   "id": "12594524",
   "metadata": {},
   "outputs": [
    {
     "data": {
      "text/plain": [
       "'data/human/effect_sizes/absolute/resolution_0.5_dataset_1_ncontrols_10_threshold_5/'"
      ]
     },
     "execution_count": 12,
     "metadata": {},
     "output_type": "execute_result"
    }
   ],
   "source": [
    "# Output directory\n",
    "es_dir = ('data/human/effect_sizes/absolute/'\n",
    "          'resolution_{}_dataset_{}_ncontrols_{}_threshold_{}'\n",
    "          .format(0.5, dataset, ncontrols, threshold))\n",
    "es_dir = os.path.join(es_dir, '')\n",
    "es_dir"
   ]
  },
  {
   "cell_type": "markdown",
   "id": "13c99e10",
   "metadata": {},
   "source": [
    "We then use the `calculate_human_effect_sizes` function to generate these effect size images. "
   ]
  },
  {
   "cell_type": "code",
   "execution_count": 14,
   "id": "8dec99b6",
   "metadata": {},
   "outputs": [
    {
     "data": {
      "text/plain": [
       "['data/human/effect_sizes/absolute/resolution_0.5_dataset_1_ncontrols_10_threshold_5/sub-1050158_ses-01_T1w.extracted_ES_res_0.5_data_1_nc_10_thresh_5.mnc',\n",
       " 'data/human/effect_sizes/absolute/resolution_0.5_dataset_1_ncontrols_10_threshold_5/sub-1050100_ses-01_run-02_T1w.extracted_ES_res_0.5_data_1_nc_10_thresh_5.mnc',\n",
       " 'data/human/effect_sizes/absolute/resolution_0.5_dataset_1_ncontrols_10_threshold_5/sub-1050135_ses-01_T1w.extracted_ES_res_0.5_data_1_nc_10_thresh_5.mnc',\n",
       " 'data/human/effect_sizes/absolute/resolution_0.5_dataset_1_ncontrols_10_threshold_5/sub-1050172_ses-01_T1w.extracted_ES_res_0.5_data_1_nc_10_thresh_5.mnc',\n",
       " 'data/human/effect_sizes/absolute/resolution_0.5_dataset_1_ncontrols_10_threshold_5/sub-1050084_ses-01_T1w.extracted_ES_res_0.5_data_1_nc_10_thresh_5.mnc']"
      ]
     },
     "execution_count": 14,
     "metadata": {},
     "output_type": "execute_result"
    }
   ],
   "source": [
    "# This seems to work as intended\n",
    "# es_files = processing.calculate_human_effect_sizes(demographics = demographics,\n",
    "#                                                    imgdir = imgdir,\n",
    "#                                                    maskfile = maskfile,\n",
    "#                                                    outdir = es_dir, \n",
    "#                                                    ncontrols = ncontrols,\n",
    "#                                                    threshold = threshold,\n",
    "#                                                    parallel = True,\n",
    "#                                                    nproc = 4)\n",
    "\n",
    "es_files = glob(es_dir+'*.mnc')\n",
    "es_files = es_files[:10]\n",
    "es_files[:5]"
   ]
  },
  {
   "cell_type": "markdown",
   "id": "2e0f75ef",
   "metadata": {},
   "source": [
    "The function returns a list of paths to the effect size images."
   ]
  },
  {
   "cell_type": "markdown",
   "id": "d9394d21",
   "metadata": {},
   "source": [
    "---\n",
    "\n",
    "## Resampling images\n",
    "\n",
    "When we computed the effect sizes above, we created images in the native resolution of 0.5mm. These images are quite large, so it will be useful to have a tool to resample them as desired. In the `processing` module, this can be accomplished using the `resample_images()` function. All we need are a set of input files, an output directory, and the new resolution in millimeters. "
   ]
  },
  {
   "cell_type": "code",
   "execution_count": 15,
   "id": "eafe3581",
   "metadata": {},
   "outputs": [
    {
     "name": "stderr",
     "output_type": "stream",
     "text": [
      "100%|████████████████████████████████████████████████████████████████████████████████████████████████████████| 10/10 [00:14<00:00,  1.45s/it]\n"
     ]
    },
    {
     "data": {
      "text/plain": [
       "['data/human/effect_sizes/absolute/resolution_3.0_dataset_1_ncontrols_10_threshold_5/sub-1050158_ses-01_T1w.extracted_ES_res_0.5_data_1_nc_10_thresh_5_resampled_3.0.mnc',\n",
       " 'data/human/effect_sizes/absolute/resolution_3.0_dataset_1_ncontrols_10_threshold_5/sub-1050100_ses-01_run-02_T1w.extracted_ES_res_0.5_data_1_nc_10_thresh_5_resampled_3.0.mnc',\n",
       " 'data/human/effect_sizes/absolute/resolution_3.0_dataset_1_ncontrols_10_threshold_5/sub-1050135_ses-01_T1w.extracted_ES_res_0.5_data_1_nc_10_thresh_5_resampled_3.0.mnc',\n",
       " 'data/human/effect_sizes/absolute/resolution_3.0_dataset_1_ncontrols_10_threshold_5/sub-1050172_ses-01_T1w.extracted_ES_res_0.5_data_1_nc_10_thresh_5_resampled_3.0.mnc',\n",
       " 'data/human/effect_sizes/absolute/resolution_3.0_dataset_1_ncontrols_10_threshold_5/sub-1050084_ses-01_T1w.extracted_ES_res_0.5_data_1_nc_10_thresh_5_resampled_3.0.mnc',\n",
       " 'data/human/effect_sizes/absolute/resolution_3.0_dataset_1_ncontrols_10_threshold_5/sub-1050027_ses-01_run-03_T1w.extracted_ES_res_0.5_data_1_nc_10_thresh_5_resampled_3.0.mnc',\n",
       " 'data/human/effect_sizes/absolute/resolution_3.0_dataset_1_ncontrols_10_threshold_5/sub-1050098_ses-01_run-01_T1w.extracted_ES_res_0.5_data_1_nc_10_thresh_5_resampled_3.0.mnc',\n",
       " 'data/human/effect_sizes/absolute/resolution_3.0_dataset_1_ncontrols_10_threshold_5/sub-1050089_ses-01_T1w.extracted_ES_res_0.5_data_1_nc_10_thresh_5_resampled_3.0.mnc',\n",
       " 'data/human/effect_sizes/absolute/resolution_3.0_dataset_1_ncontrols_10_threshold_5/sub-1050101_ses-01_run-02_T1w.extracted_ES_res_0.5_data_1_nc_10_thresh_5_resampled_3.0.mnc',\n",
       " 'data/human/effect_sizes/absolute/resolution_3.0_dataset_1_ncontrols_10_threshold_5/sub-1050097_ses-01_run-01_T1w.extracted_ES_res_0.5_data_1_nc_10_thresh_5_resampled_3.0.mnc']"
      ]
     },
     "execution_count": 15,
     "metadata": {},
     "output_type": "execute_result"
    }
   ],
   "source": [
    "# Resolution to which we want to resample\n",
    "isostep = 3.0\n",
    "\n",
    "#Output directory\n",
    "es_dir_downsampled = sub(r'resolution_0.5', \n",
    "                         'resolution_{}'.format(isostep),\n",
    "                         es_dir)\n",
    "\n",
    "# Downsample images\n",
    "es_files_downsampled = processing.resample_images(infiles = es_files,\n",
    "                                                  isostep = isostep,\n",
    "                                                  outdir = es_dir_downsampled,\n",
    "                                                  parallel = True,\n",
    "                                                  nproc = 2)\n",
    "es_files_downsampled"
   ]
  },
  {
   "cell_type": "markdown",
   "id": "85ce2925",
   "metadata": {},
   "source": [
    "The file paths are returned as before.\n",
    "\n",
    "We can also resampled individual images using the `resample_image()` function."
   ]
  },
  {
   "cell_type": "code",
   "execution_count": 16,
   "id": "3fd75aec",
   "metadata": {},
   "outputs": [
    {
     "data": {
      "text/plain": [
       "'data/human/registration/reference_files/model_resampled_3.0.mnc'"
      ]
     },
     "execution_count": 16,
     "metadata": {},
     "output_type": "execute_result"
    }
   ],
   "source": [
    "# File to resample: The human template file\n",
    "infile = 'data/human/registration/reference_files/model.mnc'\n",
    "\n",
    "# New resolution \n",
    "isostep = 3.0\n",
    "\n",
    "# Resample the image\n",
    "model_downsampled = processing.resample_image(infile = infile,\n",
    "                                              isostep = isostep)\n",
    "model_downsampled"
   ]
  },
  {
   "cell_type": "code",
   "execution_count": 17,
   "id": "97512a65",
   "metadata": {},
   "outputs": [
    {
     "data": {
      "text/plain": [
       "'data/human/registration/reference_files/mask_resampled_3.0.mnc'"
      ]
     },
     "execution_count": 17,
     "metadata": {},
     "output_type": "execute_result"
    }
   ],
   "source": [
    "# Resample the human mask file as well\n",
    "infile = 'data/human/registration/reference_files/mask.mnc'\n",
    "mask_downsampled = processing.resample_image(infile = infile,\n",
    "                          isostep = isostep)\n",
    "mask_downsampled"
   ]
  },
  {
   "cell_type": "code",
   "execution_count": 18,
   "id": "3bfbf719",
   "metadata": {},
   "outputs": [],
   "source": [
    "# infiles = ['data/human/registration/reference_files/model.mnc',\n",
    "#            'data/human/registration/reference_files/mask.mnc']\n",
    "# isostep = 1.0\n",
    "# processing.resample_images(infiles = infiles,\n",
    "#                            isostep = isostep)"
   ]
  },
  {
   "cell_type": "markdown",
   "id": "7c0118fc",
   "metadata": {},
   "source": [
    "---\n",
    "\n",
    "## Importing images\n",
    "\n",
    "Having lower resolution images allows us to work with voxel-wise data more effectively. In particular, we import a ton of images into formats like a list or a matrix. We can import an image into Python using `processing.import_image()`. "
   ]
  },
  {
   "cell_type": "code",
   "execution_count": 38,
   "id": "3aa180fc",
   "metadata": {},
   "outputs": [
    {
     "name": "stdout",
     "output_type": "stream",
     "text": [
      "[0.00021018 0.00021018 0.00021018 ... 0.00021018 0.00021018 0.00021018]\n",
      "<class 'numpy.ndarray'>\n",
      "(298220,)\n"
     ]
    }
   ],
   "source": [
    "img = processing.import_image(img = es_files_downsampled[0])\n",
    "print(img)\n",
    "print(type(img))\n",
    "print(img.shape)"
   ]
  },
  {
   "cell_type": "markdown",
   "id": "262e1fa9",
   "metadata": {},
   "source": [
    "By default, the image is imported as a 1-dimensional NumPy array. We can prevent the function from flattening the image by setting `flatten = False`:"
   ]
  },
  {
   "cell_type": "code",
   "execution_count": 39,
   "id": "173a3301",
   "metadata": {},
   "outputs": [
    {
     "name": "stdout",
     "output_type": "stream",
     "text": [
      "<class 'numpy.ndarray'>\n",
      "(65, 74, 62)\n"
     ]
    }
   ],
   "source": [
    "img = processing.import_image(img = es_files_downsampled[0],\n",
    "                              flatten = False)\n",
    "print(type(img))\n",
    "print(img.shape)"
   ]
  },
  {
   "cell_type": "markdown",
   "id": "229d873d",
   "metadata": {},
   "source": [
    "In this case, the image is imported as a 3-dimensional NumPy array. \n",
    "\n",
    "We can also provide a mask to filter the image upon import:"
   ]
  },
  {
   "cell_type": "code",
   "execution_count": 40,
   "id": "8fa490fb",
   "metadata": {},
   "outputs": [
    {
     "name": "stdout",
     "output_type": "stream",
     "text": [
      "<class 'numpy.ndarray'>\n",
      "(53408,)\n"
     ]
    }
   ],
   "source": [
    "img = processing.import_image(img = es_files_downsampled[0],\n",
    "                              mask = mask_downsampled,\n",
    "                              flatten = True)\n",
    "print(type(img))\n",
    "print(img.shape)"
   ]
  },
  {
   "cell_type": "markdown",
   "id": "add3967e",
   "metadata": {},
   "source": [
    "When `flatten = True`, only those voxels within the mask are returned. However, if we set `flatten = False` with a mask, the function returns the full images, but sets the voxels outside the mask to 0:"
   ]
  },
  {
   "cell_type": "code",
   "execution_count": 42,
   "id": "41d0daaa",
   "metadata": {},
   "outputs": [
    {
     "name": "stdout",
     "output_type": "stream",
     "text": [
      "<class 'numpy.ndarray'>\n",
      "(65, 74, 62)\n",
      "53408\n"
     ]
    }
   ],
   "source": [
    "img = processing.import_image(img = es_files_downsampled[0],\n",
    "                              mask = mask_downsampled,\n",
    "                              flatten = False)\n",
    "print(type(img))\n",
    "print(img.shape)\n",
    "print(np.sum(img != 0))"
   ]
  },
  {
   "cell_type": "markdown",
   "id": "3ad80bdb",
   "metadata": {},
   "source": [
    "To import a number of images, we can use the `import_images()` function, which wraps around `import_image()`. This function takes in a list of images to import. Images are flattened by default, but can also be imported without flattening. "
   ]
  },
  {
   "cell_type": "code",
   "execution_count": 61,
   "id": "e88a0a83",
   "metadata": {},
   "outputs": [
    {
     "name": "stderr",
     "output_type": "stream",
     "text": [
      "100%|███████████████████████████████████████████████████████████████████████████████████████████████████████| 10/10 [00:00<00:00, 129.62it/s]"
     ]
    },
    {
     "name": "stdout",
     "output_type": "stream",
     "text": [
      "[array([ 0.03929304, -0.59906298, -0.3775884 , ...,  0.28202843,\n",
      "        0.68806983, -0.14135567]), array([-0.55086186, -0.35133998, -0.63647806, ...,  0.27981543,\n",
      "       -0.64250263, -1.14555966]), array([1.30499114, 1.30078428, 1.50229257, ..., 0.37850737, 2.30401992,\n",
      "       0.72099068]), array([1.85059184, 1.82599449, 1.5494367 , ..., 0.50809773, 0.20749898,\n",
      "       0.64822664]), array([-0.93247427, -1.58743018, -0.55716518, ...,  1.85937816,\n",
      "        0.82512881,  2.80038987])]\n",
      "<class 'list'>\n",
      "10\n"
     ]
    },
    {
     "name": "stderr",
     "output_type": "stream",
     "text": [
      "\n"
     ]
    }
   ],
   "source": [
    "imgs = processing.import_images(infiles = es_files_downsampled,\n",
    "                                mask = mask_downsampled,\n",
    "                                parallel = True,\n",
    "                                nproc = 2)\n",
    "\n",
    "print(imgs[:5])\n",
    "print(type(imgs))\n",
    "print(len(imgs))"
   ]
  },
  {
   "cell_type": "markdown",
   "id": "dea825b3",
   "metadata": {},
   "source": [
    "By default, the imported images are stored in a list object. We can modify the output format using the `output_format` argument. Allowed values are 'list', 'numpy', and 'pandas', which return the images as a NumPy array and a Pandas DataFrame, respectively."
   ]
  },
  {
   "cell_type": "code",
   "execution_count": 62,
   "id": "58a971f7",
   "metadata": {},
   "outputs": [
    {
     "name": "stderr",
     "output_type": "stream",
     "text": [
      "100%|███████████████████████████████████████████████████████████████████████████████████████████████████████| 10/10 [00:00<00:00, 135.15it/s]"
     ]
    },
    {
     "name": "stdout",
     "output_type": "stream",
     "text": [
      "[[ 0.03929304 -0.59906298 -0.3775884  ...  0.28202843  0.68806983\n",
      "  -0.14135567]\n",
      " [-0.55086186 -0.35133998 -0.63647806 ...  0.27981543 -0.64250263\n",
      "  -1.14555966]\n",
      " [ 1.30499114  1.30078428  1.50229257 ...  0.37850737  2.30401992\n",
      "   0.72099068]\n",
      " [ 1.85059184  1.82599449  1.5494367  ...  0.50809773  0.20749898\n",
      "   0.64822664]\n",
      " [-0.93247427 -1.58743018 -0.55716518 ...  1.85937816  0.82512881\n",
      "   2.80038987]]\n",
      "<class 'numpy.ndarray'>\n",
      "(10, 53408)\n"
     ]
    },
    {
     "name": "stderr",
     "output_type": "stream",
     "text": [
      "\n"
     ]
    }
   ],
   "source": [
    "imgs = processing.import_images(infiles = es_files_downsampled,\n",
    "                                mask = mask_downsampled,\n",
    "                                output_format = 'numpy',\n",
    "                                parallel = True,\n",
    "                                nproc = 2)\n",
    "\n",
    "print(imgs[:5])\n",
    "print(type(imgs))\n",
    "print(imgs.shape)"
   ]
  },
  {
   "cell_type": "code",
   "execution_count": 68,
   "id": "5acacc1d",
   "metadata": {},
   "outputs": [
    {
     "name": "stderr",
     "output_type": "stream",
     "text": [
      "100%|███████████████████████████████████████████████████████████████████████████████████████████████████████| 10/10 [00:00<00:00, 129.82it/s]"
     ]
    },
    {
     "name": "stdout",
     "output_type": "stream",
     "text": [
      "<class 'pandas.core.frame.DataFrame'>\n",
      "(10, 53408)\n"
     ]
    },
    {
     "name": "stderr",
     "output_type": "stream",
     "text": [
      "\n"
     ]
    },
    {
     "data": {
      "text/html": [
       "<div>\n",
       "<style scoped>\n",
       "    .dataframe tbody tr th:only-of-type {\n",
       "        vertical-align: middle;\n",
       "    }\n",
       "\n",
       "    .dataframe tbody tr th {\n",
       "        vertical-align: top;\n",
       "    }\n",
       "\n",
       "    .dataframe thead th {\n",
       "        text-align: right;\n",
       "    }\n",
       "</style>\n",
       "<table border=\"1\" class=\"dataframe\">\n",
       "  <thead>\n",
       "    <tr style=\"text-align: right;\">\n",
       "      <th></th>\n",
       "      <th>0</th>\n",
       "      <th>1</th>\n",
       "      <th>2</th>\n",
       "      <th>3</th>\n",
       "      <th>4</th>\n",
       "      <th>5</th>\n",
       "      <th>6</th>\n",
       "      <th>7</th>\n",
       "      <th>8</th>\n",
       "      <th>9</th>\n",
       "      <th>...</th>\n",
       "      <th>53398</th>\n",
       "      <th>53399</th>\n",
       "      <th>53400</th>\n",
       "      <th>53401</th>\n",
       "      <th>53402</th>\n",
       "      <th>53403</th>\n",
       "      <th>53404</th>\n",
       "      <th>53405</th>\n",
       "      <th>53406</th>\n",
       "      <th>53407</th>\n",
       "    </tr>\n",
       "  </thead>\n",
       "  <tbody>\n",
       "    <tr>\n",
       "      <th>0</th>\n",
       "      <td>0.039293</td>\n",
       "      <td>-0.599063</td>\n",
       "      <td>-0.377588</td>\n",
       "      <td>-0.788395</td>\n",
       "      <td>-0.403643</td>\n",
       "      <td>-0.493537</td>\n",
       "      <td>-0.491797</td>\n",
       "      <td>0.359342</td>\n",
       "      <td>0.109210</td>\n",
       "      <td>0.104862</td>\n",
       "      <td>...</td>\n",
       "      <td>-0.515249</td>\n",
       "      <td>1.347266</td>\n",
       "      <td>0.644209</td>\n",
       "      <td>0.395816</td>\n",
       "      <td>0.039717</td>\n",
       "      <td>0.909528</td>\n",
       "      <td>0.929512</td>\n",
       "      <td>0.282028</td>\n",
       "      <td>0.688070</td>\n",
       "      <td>-0.141356</td>\n",
       "    </tr>\n",
       "    <tr>\n",
       "      <th>1</th>\n",
       "      <td>-0.550862</td>\n",
       "      <td>-0.351340</td>\n",
       "      <td>-0.636478</td>\n",
       "      <td>-0.381057</td>\n",
       "      <td>-0.400159</td>\n",
       "      <td>-0.213358</td>\n",
       "      <td>-0.141545</td>\n",
       "      <td>0.129444</td>\n",
       "      <td>-0.427039</td>\n",
       "      <td>-0.283058</td>\n",
       "      <td>...</td>\n",
       "      <td>-0.842354</td>\n",
       "      <td>1.537093</td>\n",
       "      <td>0.911292</td>\n",
       "      <td>1.037576</td>\n",
       "      <td>-1.883201</td>\n",
       "      <td>1.662702</td>\n",
       "      <td>0.707169</td>\n",
       "      <td>0.279815</td>\n",
       "      <td>-0.642503</td>\n",
       "      <td>-1.145560</td>\n",
       "    </tr>\n",
       "    <tr>\n",
       "      <th>2</th>\n",
       "      <td>1.304991</td>\n",
       "      <td>1.300784</td>\n",
       "      <td>1.502293</td>\n",
       "      <td>1.723310</td>\n",
       "      <td>1.426885</td>\n",
       "      <td>1.251940</td>\n",
       "      <td>1.485532</td>\n",
       "      <td>1.476679</td>\n",
       "      <td>1.128628</td>\n",
       "      <td>1.438059</td>\n",
       "      <td>...</td>\n",
       "      <td>1.485051</td>\n",
       "      <td>0.705651</td>\n",
       "      <td>0.484607</td>\n",
       "      <td>-0.304579</td>\n",
       "      <td>1.367329</td>\n",
       "      <td>2.495751</td>\n",
       "      <td>1.322206</td>\n",
       "      <td>0.378507</td>\n",
       "      <td>2.304020</td>\n",
       "      <td>0.720991</td>\n",
       "    </tr>\n",
       "    <tr>\n",
       "      <th>3</th>\n",
       "      <td>1.850592</td>\n",
       "      <td>1.825994</td>\n",
       "      <td>1.549437</td>\n",
       "      <td>1.646103</td>\n",
       "      <td>1.693011</td>\n",
       "      <td>1.110983</td>\n",
       "      <td>1.465058</td>\n",
       "      <td>1.331495</td>\n",
       "      <td>0.745751</td>\n",
       "      <td>0.905070</td>\n",
       "      <td>...</td>\n",
       "      <td>0.243547</td>\n",
       "      <td>0.926227</td>\n",
       "      <td>0.105105</td>\n",
       "      <td>-0.189767</td>\n",
       "      <td>-0.153433</td>\n",
       "      <td>0.752616</td>\n",
       "      <td>0.487210</td>\n",
       "      <td>0.508098</td>\n",
       "      <td>0.207499</td>\n",
       "      <td>0.648227</td>\n",
       "    </tr>\n",
       "    <tr>\n",
       "      <th>4</th>\n",
       "      <td>-0.932474</td>\n",
       "      <td>-1.587430</td>\n",
       "      <td>-0.557165</td>\n",
       "      <td>-1.202698</td>\n",
       "      <td>-0.556656</td>\n",
       "      <td>-1.355891</td>\n",
       "      <td>-1.348442</td>\n",
       "      <td>-1.724766</td>\n",
       "      <td>-0.207126</td>\n",
       "      <td>-0.701943</td>\n",
       "      <td>...</td>\n",
       "      <td>-1.029177</td>\n",
       "      <td>0.667458</td>\n",
       "      <td>1.240109</td>\n",
       "      <td>2.151893</td>\n",
       "      <td>-0.141185</td>\n",
       "      <td>0.103745</td>\n",
       "      <td>0.614438</td>\n",
       "      <td>1.859378</td>\n",
       "      <td>0.825129</td>\n",
       "      <td>2.800390</td>\n",
       "    </tr>\n",
       "  </tbody>\n",
       "</table>\n",
       "<p>5 rows × 53408 columns</p>\n",
       "</div>"
      ],
      "text/plain": [
       "      0         1         2         3         4         5         6      \\\n",
       "0  0.039293 -0.599063 -0.377588 -0.788395 -0.403643 -0.493537 -0.491797   \n",
       "1 -0.550862 -0.351340 -0.636478 -0.381057 -0.400159 -0.213358 -0.141545   \n",
       "2  1.304991  1.300784  1.502293  1.723310  1.426885  1.251940  1.485532   \n",
       "3  1.850592  1.825994  1.549437  1.646103  1.693011  1.110983  1.465058   \n",
       "4 -0.932474 -1.587430 -0.557165 -1.202698 -0.556656 -1.355891 -1.348442   \n",
       "\n",
       "      7         8         9      ...     53398     53399     53400     53401  \\\n",
       "0  0.359342  0.109210  0.104862  ... -0.515249  1.347266  0.644209  0.395816   \n",
       "1  0.129444 -0.427039 -0.283058  ... -0.842354  1.537093  0.911292  1.037576   \n",
       "2  1.476679  1.128628  1.438059  ...  1.485051  0.705651  0.484607 -0.304579   \n",
       "3  1.331495  0.745751  0.905070  ...  0.243547  0.926227  0.105105 -0.189767   \n",
       "4 -1.724766 -0.207126 -0.701943  ... -1.029177  0.667458  1.240109  2.151893   \n",
       "\n",
       "      53402     53403     53404     53405     53406     53407  \n",
       "0  0.039717  0.909528  0.929512  0.282028  0.688070 -0.141356  \n",
       "1 -1.883201  1.662702  0.707169  0.279815 -0.642503 -1.145560  \n",
       "2  1.367329  2.495751  1.322206  0.378507  2.304020  0.720991  \n",
       "3 -0.153433  0.752616  0.487210  0.508098  0.207499  0.648227  \n",
       "4 -0.141185  0.103745  0.614438  1.859378  0.825129  2.800390  \n",
       "\n",
       "[5 rows x 53408 columns]"
      ]
     },
     "execution_count": 68,
     "metadata": {},
     "output_type": "execute_result"
    }
   ],
   "source": [
    "imgs = processing.import_images(infiles = es_files_downsampled,\n",
    "                                mask = mask_downsampled,\n",
    "                                output_format = 'pandas',\n",
    "                                parallel = True,\n",
    "                                nproc = 2)\n",
    "\n",
    "print(type(imgs))\n",
    "print(imgs.shape)\n",
    "imgs.head()"
   ]
  },
  {
   "cell_type": "markdown",
   "id": "113d5525",
   "metadata": {},
   "source": [
    "Note that images will always be flattened if the output format is 'numpy' or 'pandas'."
   ]
  },
  {
   "cell_type": "code",
   "execution_count": 64,
   "id": "b05affaa",
   "metadata": {},
   "outputs": [
    {
     "name": "stderr",
     "output_type": "stream",
     "text": [
      "/projects/abeauchamp/Projects/MouseHumanMapping/Paper_ClusteringAutism/python_dev/src/processing.py:434: UserWarning: flatten = False is only valid when output_format = 'list'. Proceeding with flattened images.\n",
      "  warn(msg_warn)\n",
      "100%|███████████████████████████████████████████████████████████████████████████████████████████████████████| 10/10 [00:00<00:00, 132.29it/s]\n"
     ]
    }
   ],
   "source": [
    "imgs = processing.import_images(infiles = es_files_downsampled,\n",
    "                                mask = mask_downsampled,\n",
    "                                output_format = 'pandas',\n",
    "                                flatten = False,\n",
    "                                parallel = True,\n",
    "                                nproc = 2)"
   ]
  },
  {
   "cell_type": "markdown",
   "id": "29b83d01",
   "metadata": {},
   "source": [
    "The module also provides a convenience function to create a DataFrame of voxel values: `build_voxel_matrix()`."
   ]
  },
  {
   "cell_type": "code",
   "execution_count": 70,
   "id": "57722fd0",
   "metadata": {},
   "outputs": [
    {
     "name": "stderr",
     "output_type": "stream",
     "text": [
      "100%|███████████████████████████████████████████████████████████████████████████████████████████████████████| 10/10 [00:00<00:00, 131.64it/s]\n"
     ]
    },
    {
     "data": {
      "text/html": [
       "<div>\n",
       "<style scoped>\n",
       "    .dataframe tbody tr th:only-of-type {\n",
       "        vertical-align: middle;\n",
       "    }\n",
       "\n",
       "    .dataframe tbody tr th {\n",
       "        vertical-align: top;\n",
       "    }\n",
       "\n",
       "    .dataframe thead th {\n",
       "        text-align: right;\n",
       "    }\n",
       "</style>\n",
       "<table border=\"1\" class=\"dataframe\">\n",
       "  <thead>\n",
       "    <tr style=\"text-align: right;\">\n",
       "      <th></th>\n",
       "      <th>0</th>\n",
       "      <th>1</th>\n",
       "      <th>2</th>\n",
       "      <th>3</th>\n",
       "      <th>4</th>\n",
       "      <th>5</th>\n",
       "      <th>6</th>\n",
       "      <th>7</th>\n",
       "      <th>8</th>\n",
       "      <th>9</th>\n",
       "      <th>...</th>\n",
       "      <th>53399</th>\n",
       "      <th>53400</th>\n",
       "      <th>53401</th>\n",
       "      <th>53402</th>\n",
       "      <th>53403</th>\n",
       "      <th>53404</th>\n",
       "      <th>53405</th>\n",
       "      <th>53406</th>\n",
       "      <th>53407</th>\n",
       "      <th>file</th>\n",
       "    </tr>\n",
       "  </thead>\n",
       "  <tbody>\n",
       "    <tr>\n",
       "      <th>0</th>\n",
       "      <td>0.039293</td>\n",
       "      <td>-0.599063</td>\n",
       "      <td>-0.377588</td>\n",
       "      <td>-0.788395</td>\n",
       "      <td>-0.403643</td>\n",
       "      <td>-0.493537</td>\n",
       "      <td>-0.491797</td>\n",
       "      <td>0.359342</td>\n",
       "      <td>0.109210</td>\n",
       "      <td>0.104862</td>\n",
       "      <td>...</td>\n",
       "      <td>1.347266</td>\n",
       "      <td>0.644209</td>\n",
       "      <td>0.395816</td>\n",
       "      <td>0.039717</td>\n",
       "      <td>0.909528</td>\n",
       "      <td>0.929512</td>\n",
       "      <td>0.282028</td>\n",
       "      <td>0.688070</td>\n",
       "      <td>-0.141356</td>\n",
       "      <td>data/human/effect_sizes/absolute/resolution_3....</td>\n",
       "    </tr>\n",
       "    <tr>\n",
       "      <th>1</th>\n",
       "      <td>-0.550862</td>\n",
       "      <td>-0.351340</td>\n",
       "      <td>-0.636478</td>\n",
       "      <td>-0.381057</td>\n",
       "      <td>-0.400159</td>\n",
       "      <td>-0.213358</td>\n",
       "      <td>-0.141545</td>\n",
       "      <td>0.129444</td>\n",
       "      <td>-0.427039</td>\n",
       "      <td>-0.283058</td>\n",
       "      <td>...</td>\n",
       "      <td>1.537093</td>\n",
       "      <td>0.911292</td>\n",
       "      <td>1.037576</td>\n",
       "      <td>-1.883201</td>\n",
       "      <td>1.662702</td>\n",
       "      <td>0.707169</td>\n",
       "      <td>0.279815</td>\n",
       "      <td>-0.642503</td>\n",
       "      <td>-1.145560</td>\n",
       "      <td>data/human/effect_sizes/absolute/resolution_3....</td>\n",
       "    </tr>\n",
       "    <tr>\n",
       "      <th>2</th>\n",
       "      <td>1.304991</td>\n",
       "      <td>1.300784</td>\n",
       "      <td>1.502293</td>\n",
       "      <td>1.723310</td>\n",
       "      <td>1.426885</td>\n",
       "      <td>1.251940</td>\n",
       "      <td>1.485532</td>\n",
       "      <td>1.476679</td>\n",
       "      <td>1.128628</td>\n",
       "      <td>1.438059</td>\n",
       "      <td>...</td>\n",
       "      <td>0.705651</td>\n",
       "      <td>0.484607</td>\n",
       "      <td>-0.304579</td>\n",
       "      <td>1.367329</td>\n",
       "      <td>2.495751</td>\n",
       "      <td>1.322206</td>\n",
       "      <td>0.378507</td>\n",
       "      <td>2.304020</td>\n",
       "      <td>0.720991</td>\n",
       "      <td>data/human/effect_sizes/absolute/resolution_3....</td>\n",
       "    </tr>\n",
       "    <tr>\n",
       "      <th>3</th>\n",
       "      <td>1.850592</td>\n",
       "      <td>1.825994</td>\n",
       "      <td>1.549437</td>\n",
       "      <td>1.646103</td>\n",
       "      <td>1.693011</td>\n",
       "      <td>1.110983</td>\n",
       "      <td>1.465058</td>\n",
       "      <td>1.331495</td>\n",
       "      <td>0.745751</td>\n",
       "      <td>0.905070</td>\n",
       "      <td>...</td>\n",
       "      <td>0.926227</td>\n",
       "      <td>0.105105</td>\n",
       "      <td>-0.189767</td>\n",
       "      <td>-0.153433</td>\n",
       "      <td>0.752616</td>\n",
       "      <td>0.487210</td>\n",
       "      <td>0.508098</td>\n",
       "      <td>0.207499</td>\n",
       "      <td>0.648227</td>\n",
       "      <td>data/human/effect_sizes/absolute/resolution_3....</td>\n",
       "    </tr>\n",
       "    <tr>\n",
       "      <th>4</th>\n",
       "      <td>-0.932474</td>\n",
       "      <td>-1.587430</td>\n",
       "      <td>-0.557165</td>\n",
       "      <td>-1.202698</td>\n",
       "      <td>-0.556656</td>\n",
       "      <td>-1.355891</td>\n",
       "      <td>-1.348442</td>\n",
       "      <td>-1.724766</td>\n",
       "      <td>-0.207126</td>\n",
       "      <td>-0.701943</td>\n",
       "      <td>...</td>\n",
       "      <td>0.667458</td>\n",
       "      <td>1.240109</td>\n",
       "      <td>2.151893</td>\n",
       "      <td>-0.141185</td>\n",
       "      <td>0.103745</td>\n",
       "      <td>0.614438</td>\n",
       "      <td>1.859378</td>\n",
       "      <td>0.825129</td>\n",
       "      <td>2.800390</td>\n",
       "      <td>data/human/effect_sizes/absolute/resolution_3....</td>\n",
       "    </tr>\n",
       "  </tbody>\n",
       "</table>\n",
       "<p>5 rows × 53409 columns</p>\n",
       "</div>"
      ],
      "text/plain": [
       "          0         1         2         3         4         5         6  \\\n",
       "0  0.039293 -0.599063 -0.377588 -0.788395 -0.403643 -0.493537 -0.491797   \n",
       "1 -0.550862 -0.351340 -0.636478 -0.381057 -0.400159 -0.213358 -0.141545   \n",
       "2  1.304991  1.300784  1.502293  1.723310  1.426885  1.251940  1.485532   \n",
       "3  1.850592  1.825994  1.549437  1.646103  1.693011  1.110983  1.465058   \n",
       "4 -0.932474 -1.587430 -0.557165 -1.202698 -0.556656 -1.355891 -1.348442   \n",
       "\n",
       "          7         8         9  ...     53399     53400     53401     53402  \\\n",
       "0  0.359342  0.109210  0.104862  ...  1.347266  0.644209  0.395816  0.039717   \n",
       "1  0.129444 -0.427039 -0.283058  ...  1.537093  0.911292  1.037576 -1.883201   \n",
       "2  1.476679  1.128628  1.438059  ...  0.705651  0.484607 -0.304579  1.367329   \n",
       "3  1.331495  0.745751  0.905070  ...  0.926227  0.105105 -0.189767 -0.153433   \n",
       "4 -1.724766 -0.207126 -0.701943  ...  0.667458  1.240109  2.151893 -0.141185   \n",
       "\n",
       "      53403     53404     53405     53406     53407  \\\n",
       "0  0.909528  0.929512  0.282028  0.688070 -0.141356   \n",
       "1  1.662702  0.707169  0.279815 -0.642503 -1.145560   \n",
       "2  2.495751  1.322206  0.378507  2.304020  0.720991   \n",
       "3  0.752616  0.487210  0.508098  0.207499  0.648227   \n",
       "4  0.103745  0.614438  1.859378  0.825129  2.800390   \n",
       "\n",
       "                                                file  \n",
       "0  data/human/effect_sizes/absolute/resolution_3....  \n",
       "1  data/human/effect_sizes/absolute/resolution_3....  \n",
       "2  data/human/effect_sizes/absolute/resolution_3....  \n",
       "3  data/human/effect_sizes/absolute/resolution_3....  \n",
       "4  data/human/effect_sizes/absolute/resolution_3....  \n",
       "\n",
       "[5 rows x 53409 columns]"
      ]
     },
     "execution_count": 70,
     "metadata": {},
     "output_type": "execute_result"
    }
   ],
   "source": [
    "# Calculate the voxel matrix\n",
    "df_imgs = processing.build_voxel_matrix(infiles = es_files_downsampled,\n",
    "                                        mask = mask_downsampled,\n",
    "                                        parallel = True,\n",
    "                                        nproc = 2)\n",
    "\n",
    "df_imgs.head()"
   ]
  },
  {
   "cell_type": "markdown",
   "id": "f7200437",
   "metadata": {},
   "source": [
    "The function can also write the DataFrame to a CSV file if desired. This is specified using the `save` and `outfile` arguments."
   ]
  },
  {
   "cell_type": "code",
   "execution_count": 71,
   "id": "306d689a",
   "metadata": {},
   "outputs": [
    {
     "data": {
      "text/plain": [
       "'data/human/effect_sizes/absolute/resolution_3.0_dataset_1_ncontrols_10_threshold_5/ES_data_1_nc_10_threshold_5_3.0mm.csv'"
      ]
     },
     "execution_count": 71,
     "metadata": {},
     "output_type": "execute_result"
    }
   ],
   "source": [
    "# Get the output directory from the input files\n",
    "es_dirpaths = [os.path.dirname(file) for file in es_files_downsampled]\n",
    "es_dir_downsampled = list(set(es_dirpaths))[0]\n",
    "es_dir_downsampled\n",
    "\n",
    "# Output CSV file for the DataFrame\n",
    "es_csv = 'ES_data_{}_nc_{}_threshold_{}_3.0mm.csv'.format(dataset, ncontrols, threshold)\n",
    "es_csv = os.path.join(es_dir_downsampled, es_csv)\n",
    "es_csv"
   ]
  },
  {
   "cell_type": "code",
   "execution_count": 72,
   "id": "6ab7b8cf",
   "metadata": {},
   "outputs": [
    {
     "name": "stderr",
     "output_type": "stream",
     "text": [
      "100%|███████████████████████████████████████████████████████████████████████████████████████████████████████| 10/10 [00:00<00:00, 133.11it/s]\n"
     ]
    },
    {
     "data": {
      "text/html": [
       "<div>\n",
       "<style scoped>\n",
       "    .dataframe tbody tr th:only-of-type {\n",
       "        vertical-align: middle;\n",
       "    }\n",
       "\n",
       "    .dataframe tbody tr th {\n",
       "        vertical-align: top;\n",
       "    }\n",
       "\n",
       "    .dataframe thead th {\n",
       "        text-align: right;\n",
       "    }\n",
       "</style>\n",
       "<table border=\"1\" class=\"dataframe\">\n",
       "  <thead>\n",
       "    <tr style=\"text-align: right;\">\n",
       "      <th></th>\n",
       "      <th>0</th>\n",
       "      <th>1</th>\n",
       "      <th>2</th>\n",
       "      <th>3</th>\n",
       "      <th>4</th>\n",
       "      <th>5</th>\n",
       "      <th>6</th>\n",
       "      <th>7</th>\n",
       "      <th>8</th>\n",
       "      <th>9</th>\n",
       "      <th>...</th>\n",
       "      <th>53399</th>\n",
       "      <th>53400</th>\n",
       "      <th>53401</th>\n",
       "      <th>53402</th>\n",
       "      <th>53403</th>\n",
       "      <th>53404</th>\n",
       "      <th>53405</th>\n",
       "      <th>53406</th>\n",
       "      <th>53407</th>\n",
       "      <th>file</th>\n",
       "    </tr>\n",
       "  </thead>\n",
       "  <tbody>\n",
       "    <tr>\n",
       "      <th>0</th>\n",
       "      <td>0.039293</td>\n",
       "      <td>-0.599063</td>\n",
       "      <td>-0.377588</td>\n",
       "      <td>-0.788395</td>\n",
       "      <td>-0.403643</td>\n",
       "      <td>-0.493537</td>\n",
       "      <td>-0.491797</td>\n",
       "      <td>0.359342</td>\n",
       "      <td>0.109210</td>\n",
       "      <td>0.104862</td>\n",
       "      <td>...</td>\n",
       "      <td>1.347266</td>\n",
       "      <td>0.644209</td>\n",
       "      <td>0.395816</td>\n",
       "      <td>0.039717</td>\n",
       "      <td>0.909528</td>\n",
       "      <td>0.929512</td>\n",
       "      <td>0.282028</td>\n",
       "      <td>0.688070</td>\n",
       "      <td>-0.141356</td>\n",
       "      <td>data/human/effect_sizes/absolute/resolution_3....</td>\n",
       "    </tr>\n",
       "    <tr>\n",
       "      <th>1</th>\n",
       "      <td>-0.550862</td>\n",
       "      <td>-0.351340</td>\n",
       "      <td>-0.636478</td>\n",
       "      <td>-0.381057</td>\n",
       "      <td>-0.400159</td>\n",
       "      <td>-0.213358</td>\n",
       "      <td>-0.141545</td>\n",
       "      <td>0.129444</td>\n",
       "      <td>-0.427039</td>\n",
       "      <td>-0.283058</td>\n",
       "      <td>...</td>\n",
       "      <td>1.537093</td>\n",
       "      <td>0.911292</td>\n",
       "      <td>1.037576</td>\n",
       "      <td>-1.883201</td>\n",
       "      <td>1.662702</td>\n",
       "      <td>0.707169</td>\n",
       "      <td>0.279815</td>\n",
       "      <td>-0.642503</td>\n",
       "      <td>-1.145560</td>\n",
       "      <td>data/human/effect_sizes/absolute/resolution_3....</td>\n",
       "    </tr>\n",
       "    <tr>\n",
       "      <th>2</th>\n",
       "      <td>1.304991</td>\n",
       "      <td>1.300784</td>\n",
       "      <td>1.502293</td>\n",
       "      <td>1.723310</td>\n",
       "      <td>1.426885</td>\n",
       "      <td>1.251940</td>\n",
       "      <td>1.485532</td>\n",
       "      <td>1.476679</td>\n",
       "      <td>1.128628</td>\n",
       "      <td>1.438059</td>\n",
       "      <td>...</td>\n",
       "      <td>0.705651</td>\n",
       "      <td>0.484607</td>\n",
       "      <td>-0.304579</td>\n",
       "      <td>1.367329</td>\n",
       "      <td>2.495751</td>\n",
       "      <td>1.322206</td>\n",
       "      <td>0.378507</td>\n",
       "      <td>2.304020</td>\n",
       "      <td>0.720991</td>\n",
       "      <td>data/human/effect_sizes/absolute/resolution_3....</td>\n",
       "    </tr>\n",
       "    <tr>\n",
       "      <th>3</th>\n",
       "      <td>1.850592</td>\n",
       "      <td>1.825994</td>\n",
       "      <td>1.549437</td>\n",
       "      <td>1.646103</td>\n",
       "      <td>1.693011</td>\n",
       "      <td>1.110983</td>\n",
       "      <td>1.465058</td>\n",
       "      <td>1.331495</td>\n",
       "      <td>0.745751</td>\n",
       "      <td>0.905070</td>\n",
       "      <td>...</td>\n",
       "      <td>0.926227</td>\n",
       "      <td>0.105105</td>\n",
       "      <td>-0.189767</td>\n",
       "      <td>-0.153433</td>\n",
       "      <td>0.752616</td>\n",
       "      <td>0.487210</td>\n",
       "      <td>0.508098</td>\n",
       "      <td>0.207499</td>\n",
       "      <td>0.648227</td>\n",
       "      <td>data/human/effect_sizes/absolute/resolution_3....</td>\n",
       "    </tr>\n",
       "    <tr>\n",
       "      <th>4</th>\n",
       "      <td>-0.932474</td>\n",
       "      <td>-1.587430</td>\n",
       "      <td>-0.557165</td>\n",
       "      <td>-1.202698</td>\n",
       "      <td>-0.556656</td>\n",
       "      <td>-1.355891</td>\n",
       "      <td>-1.348442</td>\n",
       "      <td>-1.724766</td>\n",
       "      <td>-0.207126</td>\n",
       "      <td>-0.701943</td>\n",
       "      <td>...</td>\n",
       "      <td>0.667458</td>\n",
       "      <td>1.240109</td>\n",
       "      <td>2.151893</td>\n",
       "      <td>-0.141185</td>\n",
       "      <td>0.103745</td>\n",
       "      <td>0.614438</td>\n",
       "      <td>1.859378</td>\n",
       "      <td>0.825129</td>\n",
       "      <td>2.800390</td>\n",
       "      <td>data/human/effect_sizes/absolute/resolution_3....</td>\n",
       "    </tr>\n",
       "  </tbody>\n",
       "</table>\n",
       "<p>5 rows × 53409 columns</p>\n",
       "</div>"
      ],
      "text/plain": [
       "          0         1         2         3         4         5         6  \\\n",
       "0  0.039293 -0.599063 -0.377588 -0.788395 -0.403643 -0.493537 -0.491797   \n",
       "1 -0.550862 -0.351340 -0.636478 -0.381057 -0.400159 -0.213358 -0.141545   \n",
       "2  1.304991  1.300784  1.502293  1.723310  1.426885  1.251940  1.485532   \n",
       "3  1.850592  1.825994  1.549437  1.646103  1.693011  1.110983  1.465058   \n",
       "4 -0.932474 -1.587430 -0.557165 -1.202698 -0.556656 -1.355891 -1.348442   \n",
       "\n",
       "          7         8         9  ...     53399     53400     53401     53402  \\\n",
       "0  0.359342  0.109210  0.104862  ...  1.347266  0.644209  0.395816  0.039717   \n",
       "1  0.129444 -0.427039 -0.283058  ...  1.537093  0.911292  1.037576 -1.883201   \n",
       "2  1.476679  1.128628  1.438059  ...  0.705651  0.484607 -0.304579  1.367329   \n",
       "3  1.331495  0.745751  0.905070  ...  0.926227  0.105105 -0.189767 -0.153433   \n",
       "4 -1.724766 -0.207126 -0.701943  ...  0.667458  1.240109  2.151893 -0.141185   \n",
       "\n",
       "      53403     53404     53405     53406     53407  \\\n",
       "0  0.909528  0.929512  0.282028  0.688070 -0.141356   \n",
       "1  1.662702  0.707169  0.279815 -0.642503 -1.145560   \n",
       "2  2.495751  1.322206  0.378507  2.304020  0.720991   \n",
       "3  0.752616  0.487210  0.508098  0.207499  0.648227   \n",
       "4  0.103745  0.614438  1.859378  0.825129  2.800390   \n",
       "\n",
       "                                                file  \n",
       "0  data/human/effect_sizes/absolute/resolution_3....  \n",
       "1  data/human/effect_sizes/absolute/resolution_3....  \n",
       "2  data/human/effect_sizes/absolute/resolution_3....  \n",
       "3  data/human/effect_sizes/absolute/resolution_3....  \n",
       "4  data/human/effect_sizes/absolute/resolution_3....  \n",
       "\n",
       "[5 rows x 53409 columns]"
      ]
     },
     "execution_count": 72,
     "metadata": {},
     "output_type": "execute_result"
    }
   ],
   "source": [
    "# Calculate the voxel matrix\n",
    "df_imgs = processing.build_voxel_matrix(infiles = es_files_downsampled,\n",
    "                                        mask = mask_downsampled,\n",
    "                                        save = True,\n",
    "                                        outfile = es_csv,\n",
    "                                        parallel = True,\n",
    "                                        nproc = 2)\n",
    "\n",
    "df_imgs.head()"
   ]
  },
  {
   "cell_type": "code",
   "execution_count": null,
   "id": "ee2e1bc1",
   "metadata": {},
   "outputs": [],
   "source": []
  }
 ],
 "metadata": {
  "kernelspec": {
   "display_name": "Python 3 (ipykernel)",
   "language": "python",
   "name": "python3"
  },
  "language_info": {
   "codemirror_mode": {
    "name": "ipython",
    "version": 3
   },
   "file_extension": ".py",
   "mimetype": "text/x-python",
   "name": "python",
   "nbconvert_exporter": "python",
   "pygments_lexer": "ipython3",
   "version": "3.8.10"
  }
 },
 "nbformat": 4,
 "nbformat_minor": 5
}
