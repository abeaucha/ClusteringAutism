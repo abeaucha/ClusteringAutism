{
 "cells": [
  {
   "cell_type": "markdown",
   "id": "c93d6ec4",
   "metadata": {},
   "source": [
    "# Module: image_processing\n",
    "\n",
    "The purpose of this notebook is to test the image_processing modules.\n",
    "This will provide an example of how to use these modules in a pipeline."
   ]
  },
  {
   "cell_type": "code",
   "execution_count": 8,
   "id": "27e754d3",
   "metadata": {},
   "outputs": [],
   "source": [
    "from src import processing\n",
    "\n",
    "import os\n",
    "from glob import glob\n",
    "from re import sub"
   ]
  },
  {
   "cell_type": "markdown",
   "id": "e7d2125f",
   "metadata": {},
   "source": [
    "## Extracting compressed images"
   ]
  },
  {
   "cell_type": "code",
   "execution_count": 2,
   "id": "fed57362",
   "metadata": {},
   "outputs": [
    {
     "data": {
      "text/plain": [
       "['data/human/registration/jacobians/absolute/smooth/d8_0148_01.extracted_fwhm_4vox.nii.gz',\n",
       " 'data/human/registration/jacobians/absolute/smooth/41014_T1.extracted_fwhm_4vox.nii.gz',\n",
       " 'data/human/registration/jacobians/absolute/smooth/d8_0393_01.extracted_fwhm_4vox.nii.gz',\n",
       " 'data/human/registration/jacobians/absolute/smooth/21054_T1.extracted_fwhm_4vox.nii.gz',\n",
       " 'data/human/registration/jacobians/absolute/smooth/d8_0204_01.extracted_fwhm_4vox.nii.gz']"
      ]
     },
     "execution_count": 2,
     "metadata": {},
     "output_type": "execute_result"
    }
   ],
   "source": [
    "#Directory containing compressed images\n",
    "input_dir = 'data/human/registration/jacobians/absolute/smooth/'\n",
    "input_dir = os.path.join(input_dir, '')\n",
    "\n",
    "#List of paths to compressed images\n",
    "input_files = glob(input_dir+'*.gz')\n",
    "input_files[:5]"
   ]
  },
  {
   "cell_type": "code",
   "execution_count": 3,
   "id": "caf49e96",
   "metadata": {},
   "outputs": [
    {
     "data": {
      "text/plain": [
       "['data/human/registration/jacobians/absolute/smooth/d8_0096_01.extracted_fwhm_4vox.nii',\n",
       " 'data/human/registration/jacobians/absolute/smooth/12013_T1.extracted_fwhm_4vox.nii',\n",
       " 'data/human/registration/jacobians/absolute/smooth/21045_T1.extracted_fwhm_4vox.nii',\n",
       " 'data/human/registration/jacobians/absolute/smooth/d8_0673_01.extracted_fwhm_4vox.nii',\n",
       " 'data/human/registration/jacobians/absolute/smooth/sub-1050792_ses-01_T1w.extracted_fwhm_4vox.nii']"
      ]
     },
     "execution_count": 3,
     "metadata": {},
     "output_type": "execute_result"
    }
   ],
   "source": [
    "# This seems to work as intended\n",
    "# unzipped_files = processing.gunzip_files(infiles = input_files, \n",
    "#                                       keep = True,\n",
    "#                                       parallel = True,\n",
    "#                                       nproc = 8)\n",
    "\n",
    "unzipped_files = glob(input_dir+'*.nii')\n",
    "unzipped_files[:5]"
   ]
  },
  {
   "cell_type": "markdown",
   "id": "ec7f5f59",
   "metadata": {},
   "source": [
    "***\n",
    "## Converting image formats\n",
    "\n",
    "The compressed files were in NIFTY format. We can keep these as is, or convert them to MINC format if we prefer. "
   ]
  },
  {
   "cell_type": "code",
   "execution_count": 4,
   "id": "8c9dabd9",
   "metadata": {},
   "outputs": [
    {
     "data": {
      "text/plain": [
       "['data/human/registration/jacobians/absolute/smooth_minc/sub-1050811_ses-01_T1w.extracted_fwhm_4vox.mnc',\n",
       " 'data/human/registration/jacobians/absolute/smooth_minc/d8_0216_01.extracted_fwhm_4vox.mnc',\n",
       " 'data/human/registration/jacobians/absolute/smooth_minc/sub-1050869_ses-01_run-01_T1w.extracted_fwhm_4vox.mnc',\n",
       " 'data/human/registration/jacobians/absolute/smooth_minc/31030_T1.extracted_fwhm_4vox.mnc',\n",
       " 'data/human/registration/jacobians/absolute/smooth_minc/d8_0713_02.extracted_fwhm_4vox.mnc']"
      ]
     },
     "execution_count": 4,
     "metadata": {},
     "output_type": "execute_result"
    }
   ],
   "source": [
    "outdir = 'data/human/registration/jacobians/absolute/smooth_minc/'\n",
    "\n",
    "# This seems to work as intended\n",
    "# imgfiles = processing.convert_images(infiles = unzipped_files,\n",
    "#                                   input_format = 'nifty',\n",
    "#                                   output_format = 'minc',\n",
    "#                                   outdir = imgdir,\n",
    "#                                   keep = True,\n",
    "#                                   parallel = True,\n",
    "#                                   nproc = 8)\n",
    "imgfiles = glob(outdir+'*.mnc')\n",
    "imgfiles[:5]"
   ]
  },
  {
   "cell_type": "markdown",
   "id": "a9255d65",
   "metadata": {},
   "source": [
    "*** \n",
    "## Computing effect sizes"
   ]
  },
  {
   "cell_type": "code",
   "execution_count": 35,
   "id": "e5dd29b2",
   "metadata": {},
   "outputs": [
    {
     "data": {
      "text/plain": [
       "'data/human/effect_sizes/absolute/resolution_0.5_dataset_1_ncontrols_10_threshold_5/'"
      ]
     },
     "execution_count": 35,
     "metadata": {},
     "output_type": "execute_result"
    }
   ],
   "source": [
    "imgdir = outdir\n",
    "demographics = 'data/human/registration/DBM_input_demo_passedqc.csv'\n",
    "maskfile = 'data/human/registration/reference_files/mask.mnc'\n",
    "dataset = 1\n",
    "ncontrols = 10\n",
    "threshold = 5\n",
    "es_dir = ('data/human/effect_sizes/absolute/'\n",
    "          'resolution_{}_dataset_{}_ncontrols_{}_threshold_{}'\n",
    "          .format(0.5, dataset, ncontrols, threshold))\n",
    "es_dir = os.path.join(es_dir, '')\n",
    "es_dir"
   ]
  },
  {
   "cell_type": "code",
   "execution_count": 36,
   "id": "8dec99b6",
   "metadata": {},
   "outputs": [
    {
     "data": {
      "text/plain": [
       "['data/human/effect_sizes/absolute/resolution_0.5_dataset_1_ncontrols_10_threshold_5/sub-1050158_ses-01_T1w.extracted_ES_res_0.5_data_1_nc_10_thresh_5.mnc',\n",
       " 'data/human/effect_sizes/absolute/resolution_0.5_dataset_1_ncontrols_10_threshold_5/sub-1050100_ses-01_run-02_T1w.extracted_ES_res_0.5_data_1_nc_10_thresh_5.mnc',\n",
       " 'data/human/effect_sizes/absolute/resolution_0.5_dataset_1_ncontrols_10_threshold_5/sub-1050135_ses-01_T1w.extracted_ES_res_0.5_data_1_nc_10_thresh_5.mnc',\n",
       " 'data/human/effect_sizes/absolute/resolution_0.5_dataset_1_ncontrols_10_threshold_5/sub-1050172_ses-01_T1w.extracted_ES_res_0.5_data_1_nc_10_thresh_5.mnc',\n",
       " 'data/human/effect_sizes/absolute/resolution_0.5_dataset_1_ncontrols_10_threshold_5/sub-1050084_ses-01_T1w.extracted_ES_res_0.5_data_1_nc_10_thresh_5.mnc',\n",
       " 'data/human/effect_sizes/absolute/resolution_0.5_dataset_1_ncontrols_10_threshold_5/sub-1050027_ses-01_run-03_T1w.extracted_ES_res_0.5_data_1_nc_10_thresh_5.mnc',\n",
       " 'data/human/effect_sizes/absolute/resolution_0.5_dataset_1_ncontrols_10_threshold_5/sub-1050098_ses-01_run-01_T1w.extracted_ES_res_0.5_data_1_nc_10_thresh_5.mnc',\n",
       " 'data/human/effect_sizes/absolute/resolution_0.5_dataset_1_ncontrols_10_threshold_5/sub-1050089_ses-01_T1w.extracted_ES_res_0.5_data_1_nc_10_thresh_5.mnc',\n",
       " 'data/human/effect_sizes/absolute/resolution_0.5_dataset_1_ncontrols_10_threshold_5/sub-1050101_ses-01_run-02_T1w.extracted_ES_res_0.5_data_1_nc_10_thresh_5.mnc',\n",
       " 'data/human/effect_sizes/absolute/resolution_0.5_dataset_1_ncontrols_10_threshold_5/sub-1050097_ses-01_run-01_T1w.extracted_ES_res_0.5_data_1_nc_10_thresh_5.mnc']"
      ]
     },
     "execution_count": 36,
     "metadata": {},
     "output_type": "execute_result"
    }
   ],
   "source": [
    "# This seems to work as intended\n",
    "# es_files = processing.calculate_human_effect_sizes(demographics = demographics,\n",
    "#                                                    imgdir = imgdir,\n",
    "#                                                    maskfile = maskfile,\n",
    "#                                                    outdir = es_dir, \n",
    "#                                                    ncontrols = ncontrols,\n",
    "#                                                    threshold = threshold,\n",
    "#                                                    parallel = True,\n",
    "#                                                    nproc = 4)\n",
    "es_files = glob(es_dir+'*.mnc')\n",
    "es_files = es_files[:10]\n",
    "es_files"
   ]
  },
  {
   "cell_type": "markdown",
   "id": "cccb7bd0",
   "metadata": {},
   "source": [
    "---\n",
    "\n",
    "## Resampling images"
   ]
  },
  {
   "cell_type": "code",
   "execution_count": 39,
   "id": "8c626d20",
   "metadata": {},
   "outputs": [
    {
     "name": "stderr",
     "output_type": "stream",
     "text": [
      "100%|█████████████████████████████████████████████████████████████████████████████████████████████████| 10/10 [00:14<00:00,  1.43s/it]\n"
     ]
    },
    {
     "data": {
      "text/plain": [
       "['data/human/effect_sizes/absolute/resolution_3.0_dataset_1_ncontrols_10_threshold_5/sub-1050158_ses-01_T1w.extracted_ES_res_0.5_data_1_nc_10_thresh_5_resampled_3.0.mnc',\n",
       " 'data/human/effect_sizes/absolute/resolution_3.0_dataset_1_ncontrols_10_threshold_5/sub-1050100_ses-01_run-02_T1w.extracted_ES_res_0.5_data_1_nc_10_thresh_5_resampled_3.0.mnc',\n",
       " 'data/human/effect_sizes/absolute/resolution_3.0_dataset_1_ncontrols_10_threshold_5/sub-1050135_ses-01_T1w.extracted_ES_res_0.5_data_1_nc_10_thresh_5_resampled_3.0.mnc',\n",
       " 'data/human/effect_sizes/absolute/resolution_3.0_dataset_1_ncontrols_10_threshold_5/sub-1050172_ses-01_T1w.extracted_ES_res_0.5_data_1_nc_10_thresh_5_resampled_3.0.mnc',\n",
       " 'data/human/effect_sizes/absolute/resolution_3.0_dataset_1_ncontrols_10_threshold_5/sub-1050084_ses-01_T1w.extracted_ES_res_0.5_data_1_nc_10_thresh_5_resampled_3.0.mnc',\n",
       " 'data/human/effect_sizes/absolute/resolution_3.0_dataset_1_ncontrols_10_threshold_5/sub-1050027_ses-01_run-03_T1w.extracted_ES_res_0.5_data_1_nc_10_thresh_5_resampled_3.0.mnc',\n",
       " 'data/human/effect_sizes/absolute/resolution_3.0_dataset_1_ncontrols_10_threshold_5/sub-1050098_ses-01_run-01_T1w.extracted_ES_res_0.5_data_1_nc_10_thresh_5_resampled_3.0.mnc',\n",
       " 'data/human/effect_sizes/absolute/resolution_3.0_dataset_1_ncontrols_10_threshold_5/sub-1050089_ses-01_T1w.extracted_ES_res_0.5_data_1_nc_10_thresh_5_resampled_3.0.mnc',\n",
       " 'data/human/effect_sizes/absolute/resolution_3.0_dataset_1_ncontrols_10_threshold_5/sub-1050101_ses-01_run-02_T1w.extracted_ES_res_0.5_data_1_nc_10_thresh_5_resampled_3.0.mnc',\n",
       " 'data/human/effect_sizes/absolute/resolution_3.0_dataset_1_ncontrols_10_threshold_5/sub-1050097_ses-01_run-01_T1w.extracted_ES_res_0.5_data_1_nc_10_thresh_5_resampled_3.0.mnc']"
      ]
     },
     "execution_count": 39,
     "metadata": {},
     "output_type": "execute_result"
    }
   ],
   "source": [
    "isostep = 3.0\n",
    "es_dir_downsampled = sub(r'resolution_0.5', \n",
    "                         'resolution_{}'.format(isostep),\n",
    "                         es_dir)\n",
    "es_files_downsampled = processing.resample_images(infiles = es_files,\n",
    "                                                  isostep = isostep,\n",
    "                                                  outdir = es_dir_downsampled,\n",
    "                                                  parallel = True,\n",
    "                                                  nproc = 2)\n",
    "es_files_downsampled"
   ]
  },
  {
   "cell_type": "markdown",
   "id": "dc5d9f6d",
   "metadata": {},
   "source": [
    "We can also resampled individual images"
   ]
  },
  {
   "cell_type": "code",
   "execution_count": 40,
   "id": "fb5c1710",
   "metadata": {},
   "outputs": [
    {
     "data": {
      "text/plain": [
       "'data/human/registration/reference_files/model_resampled_3.0.mnc'"
      ]
     },
     "execution_count": 40,
     "metadata": {},
     "output_type": "execute_result"
    }
   ],
   "source": [
    "infile = 'data/human/registration/reference_files/model.mnc'\n",
    "isostep = 3.0\n",
    "processing.resample_image(infile = infile,\n",
    "                          isostep = isostep)"
   ]
  },
  {
   "cell_type": "code",
   "execution_count": 41,
   "id": "e34c963b",
   "metadata": {},
   "outputs": [
    {
     "data": {
      "text/plain": [
       "'data/human/registration/reference_files/mask_resampled_3.0.mnc'"
      ]
     },
     "execution_count": 41,
     "metadata": {},
     "output_type": "execute_result"
    }
   ],
   "source": [
    "infile = 'data/human/registration/reference_files/mask.mnc'\n",
    "processing.resample_image(infile = infile,\n",
    "                          isostep = isostep)"
   ]
  },
  {
   "cell_type": "code",
   "execution_count": 44,
   "id": "d5050461",
   "metadata": {},
   "outputs": [
    {
     "name": "stderr",
     "output_type": "stream",
     "text": [
      "100%|███████████████████████████████████████████████████████████████████████████████████████████████████| 2/2 [00:03<00:00,  1.58s/it]\n"
     ]
    },
    {
     "data": {
      "text/plain": [
       "['data/human/registration/reference_files/model_resampled_1.0.mnc',\n",
       " 'data/human/registration/reference_files/mask_resampled_1.0.mnc']"
      ]
     },
     "execution_count": 44,
     "metadata": {},
     "output_type": "execute_result"
    }
   ],
   "source": [
    "infiles = ['data/human/registration/reference_files/model.mnc',\n",
    "           'data/human/registration/reference_files/mask.mnc']\n",
    "isostep = 1.0\n",
    "processing.resample_images(infiles = infiles,\n",
    "                           isostep = isostep)"
   ]
  },
  {
   "cell_type": "code",
   "execution_count": null,
   "id": "8196aa8a",
   "metadata": {},
   "outputs": [],
   "source": []
  }
 ],
 "metadata": {
  "kernelspec": {
   "display_name": "Python 3 (ipykernel)",
   "language": "python",
   "name": "python3"
  },
  "language_info": {
   "codemirror_mode": {
    "name": "ipython",
    "version": 3
   },
   "file_extension": ".py",
   "mimetype": "text/x-python",
   "name": "python",
   "nbconvert_exporter": "python",
   "pygments_lexer": "ipython3",
   "version": "3.8.10"
  }
 },
 "nbformat": 4,
 "nbformat_minor": 5
}
